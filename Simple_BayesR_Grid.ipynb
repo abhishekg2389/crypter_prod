{
 "cells": [
  {
   "cell_type": "code",
   "execution_count": null,
   "metadata": {
    "ExecuteTime": {
     "end_time": "2019-02-23T20:06:43.427836Z",
     "start_time": "2019-02-23T20:06:43.423369Z"
    },
    "collapsed": true
   },
   "outputs": [],
   "source": [
    "from IPython.core.interactiveshell import InteractiveShell\n",
    "InteractiveShell.ast_node_interactivity = \"all\""
   ]
  },
  {
   "cell_type": "code",
   "execution_count": null,
   "metadata": {
    "ExecuteTime": {
     "end_time": "2019-02-23T20:06:44.087370Z",
     "start_time": "2019-02-23T20:06:43.628177Z"
    },
    "collapsed": true
   },
   "outputs": [],
   "source": [
    "import sklearn\n",
    "sklearn.__version__"
   ]
  },
  {
   "cell_type": "code",
   "execution_count": null,
   "metadata": {
    "ExecuteTime": {
     "end_time": "2019-02-23T20:06:44.949479Z",
     "start_time": "2019-02-23T20:06:44.105861Z"
    },
    "collapsed": true
   },
   "outputs": [],
   "source": [
    "import pandas as pd\n",
    "import pickle as pkl"
   ]
  },
  {
   "cell_type": "code",
   "execution_count": null,
   "metadata": {
    "ExecuteTime": {
     "end_time": "2019-02-23T20:06:47.073046Z",
     "start_time": "2019-02-23T20:06:44.968600Z"
    },
    "collapsed": true
   },
   "outputs": [],
   "source": [
    "%run utils.ipynb\n",
    "%run targets.ipynb"
   ]
  },
  {
   "cell_type": "code",
   "execution_count": null,
   "metadata": {
    "ExecuteTime": {
     "end_time": "2019-02-23T20:06:47.094006Z",
     "start_time": "2019-02-23T20:06:47.087945Z"
    },
    "collapsed": true
   },
   "outputs": [],
   "source": [
    "file = 'ETHBTC_1m_1519496760000_1549568220000.csv'"
   ]
  },
  {
   "cell_type": "code",
   "execution_count": null,
   "metadata": {
    "ExecuteTime": {
     "end_time": "2019-02-23T20:06:48.299013Z",
     "start_time": "2019-02-23T20:06:47.112040Z"
    },
    "collapsed": true
   },
   "outputs": [],
   "source": [
    "# Get Data\n",
    "df = pd.read_csv('../data/'+file)\n",
    "df.shape\n",
    "df.head(10)"
   ]
  },
  {
   "cell_type": "code",
   "execution_count": null,
   "metadata": {
    "ExecuteTime": {
     "end_time": "2019-02-23T20:06:48.471877Z",
     "start_time": "2019-02-23T20:06:48.407587Z"
    },
    "collapsed": true
   },
   "outputs": [],
   "source": [
    "data = df.loc[:, ['OPEN_TIME', 'CLOSE_TIME', 'OPEN', 'HIGH', 'LOW', 'CLOSE']]\n",
    "data.shape\n",
    "data[:5]"
   ]
  },
  {
   "cell_type": "code",
   "execution_count": null,
   "metadata": {
    "ExecuteTime": {
     "end_time": "2019-02-23T20:06:49.748934Z",
     "start_time": "2019-02-23T20:06:48.617500Z"
    },
    "collapsed": true
   },
   "outputs": [],
   "source": [
    "# Get Target\n",
    "%run targets.ipynb\n",
    "target = get_target_1('../data/'+file)\n",
    "target.shape\n",
    "target.head()"
   ]
  },
  {
   "cell_type": "code",
   "execution_count": null,
   "metadata": {
    "ExecuteTime": {
     "end_time": "2019-02-23T20:06:50.111609Z",
     "start_time": "2019-02-23T20:06:49.898150Z"
    },
    "collapsed": true
   },
   "outputs": [],
   "source": [
    "data = pd.merge(data, target, on='CLOSE_TIME')\n",
    "data.shape\n",
    "data.head()"
   ]
  },
  {
   "cell_type": "code",
   "execution_count": null,
   "metadata": {
    "ExecuteTime": {
     "end_time": "2019-02-23T20:06:50.330056Z",
     "start_time": "2019-02-23T20:06:50.271065Z"
    },
    "collapsed": true
   },
   "outputs": [],
   "source": [
    "TR_split, CV_split, TT_split = TR_CV_TT_split(data, 0.8, 0, 0.2)\n",
    "\n",
    "TR_split.shape\n",
    "CV_split.shape\n",
    "TT_split.shape\n",
    "\n",
    "TR_split.head()"
   ]
  },
  {
   "cell_type": "code",
   "execution_count": null,
   "metadata": {
    "ExecuteTime": {
     "end_time": "2019-02-23T20:06:50.630070Z",
     "start_time": "2019-02-23T20:06:50.574755Z"
    },
    "collapsed": true
   },
   "outputs": [],
   "source": [
    "from sklearn.preprocessing import StandardScaler\n",
    "\n",
    "scaler = StandardScaler(copy=True, with_mean=True, with_std=True)\n",
    "window = 180\n",
    "def data_transformer(id, data, target, retrain=False):\n",
    "    global scaler\n",
    "    global window\n",
    "    \n",
    "    if retrain==True:\n",
    "        scaler = scaler.fit(data)\n",
    "        \n",
    "    data = scaler.transform(data)\n",
    "    return get_multiple_ts_dataset(id, data, target, tr_win=window, tt_win=0, point_target=True)"
   ]
  },
  {
   "cell_type": "code",
   "execution_count": null,
   "metadata": {
    "ExecuteTime": {
     "end_time": "2019-02-23T20:06:50.920544Z",
     "start_time": "2019-02-23T20:06:50.853810Z"
    },
    "collapsed": true
   },
   "outputs": [],
   "source": [
    "TR_id     = TR_split.iloc[:, :2  ].values\n",
    "TR_data   = TR_split.iloc[:, 2:-1].values\n",
    "TR_target = TR_split.iloc[:, -1: ].values\n",
    "\n",
    "TT_id     = TT_split.iloc[:, :2  ].values\n",
    "TT_data   = TT_split.iloc[:, 2:-1].values\n",
    "TT_target = TT_split.iloc[:, -1: ].values\n",
    "\n",
    "TR_id.shape\n",
    "TR_data.shape\n",
    "TR_target.shape\n",
    "\n",
    "TT_id.shape\n",
    "TT_data.shape\n",
    "TT_target.shape"
   ]
  },
  {
   "cell_type": "code",
   "execution_count": null,
   "metadata": {
    "ExecuteTime": {
     "end_time": "2019-02-23T20:06:52.782245Z",
     "start_time": "2019-02-23T20:06:51.258843Z"
    },
    "collapsed": true
   },
   "outputs": [],
   "source": [
    "%run hyperopt.ipynb\n",
    "%run models.ipynb"
   ]
  },
  {
   "cell_type": "code",
   "execution_count": null,
   "metadata": {
    "ExecuteTime": {
     "end_time": "2019-02-23T20:14:56.791687Z",
     "start_time": "2019-02-23T20:06:53.032797Z"
    },
    "collapsed": true,
    "scrolled": false
   },
   "outputs": [],
   "source": [
    "hyperopt = Hyperopt(BayesR())\n",
    "best_loss, best_params = hyperopt.run(\n",
    "    TR_id, TR_data, TR_target, \n",
    "    eval_set={\n",
    "        'TT': (TT_id, TT_data, TT_target)\n",
    "    },\n",
    "    n_cv=3,\n",
    "    algo='grid',\n",
    "    data_transformer=data_transformer,\n",
    "    max_evals=1\n",
    ")"
   ]
  },
  {
   "cell_type": "code",
   "execution_count": null,
   "metadata": {
    "ExecuteTime": {
     "end_time": "2019-02-23T20:21:10.578519Z",
     "start_time": "2019-02-23T20:15:34.498161Z"
    },
    "collapsed": true,
    "scrolled": false
   },
   "outputs": [],
   "source": [
    "from sklearn.linear_model import BayesianRidge\n",
    "\n",
    "TR_id, TR_X, TR_y = data_transformer(TR_id, TR_data, TR_target, retrain=True)\n",
    "TT_id, TT_X, TT_y = data_transformer(TT_id, TT_data, TT_target, retrain=False)\n",
    "\n",
    "model = BayesianRidge(**best_params)\n",
    "model = model.fit(TR_X, TR_y)\n",
    "\n",
    "TR_y_pred = model.predict(TR_X)\n",
    "TT_y_pred = model.predict(TT_X)\n",
    "\n",
    "TR_metrics = eval_class_metrics(TR_y, TR_y_pred, metrics=['auc', 'f1', 'acc', 'log_loss'])\n",
    "TT_metrics = eval_class_metrics(TT_y, TT_y_pred, metrics=['auc', 'f1', 'acc', 'log_loss'])\n",
    "\n",
    "res = pd.DataFrame({x:[] for x in ['auc', 'f1', 'acc', 'log_loss']})\n",
    "res = res.append(pd.Series(TR_metrics, name='TR'))\n",
    "res = res.append(pd.Series(TT_metrics, name='TT'))\n",
    "\n",
    "print(res)"
   ]
  },
  {
   "cell_type": "code",
   "execution_count": null,
   "metadata": {
    "ExecuteTime": {
     "end_time": "2019-02-23T20:23:31.409584Z",
     "start_time": "2019-02-23T20:23:31.403141Z"
    },
    "collapsed": true
   },
   "outputs": [],
   "source": [
    "%%javascript\n",
    "IPython.notebook.kernel.execute('nb_name = \"' + IPython.notebook.notebook_name + '\"')"
   ]
  },
  {
   "cell_type": "code",
   "execution_count": null,
   "metadata": {
    "ExecuteTime": {
     "end_time": "2019-02-23T20:23:32.712344Z",
     "start_time": "2019-02-23T20:23:32.309255Z"
    },
    "collapsed": true
   },
   "outputs": [],
   "source": [
    "data_tag = '__'.join([str(x)+'_'+str(y) for x, y in {\n",
    "    'intv':'1m', \n",
    "    'cols':'OHCL',\n",
    "    'win':window\n",
    "}.iteritems()])\n",
    "\n",
    "proc_tag = '__'.join([str(x)+'_'+str(y) for x, y in {\n",
    "    'model': nb_name.replace('.ipynb', ''),\n",
    "    'TT_accuracy':'{:.4f}'.format(TT_metrics['acc']),\n",
    "    'CV_accuracy':'{:.4f}'.format(best_loss)\n",
    "}.iteritems()])\n",
    "\n",
    "import time\n",
    "time_tag = time.strftime('%y%m%d_%H%M%S')\n",
    "\n",
    "big_tag = time_tag+'_|_'+data_tag+'_|_'+proc_tag\n",
    "\n",
    "data_dump = {\n",
    "    'best_loss': best_loss,\n",
    "    'best_params': best_params,\n",
    "    'model': model,\n",
    "    'TR_id': TR_id,\n",
    "    'TR_y_pred': TR_y_pred,\n",
    "    'TT_id': TT_id,\n",
    "    'TT_y_pred': TT_y_pred,\n",
    "    'results': res\n",
    "}\n",
    "\n",
    "f = open('../models/'+time_tag+'.pkl', 'wb')\n",
    "pkl.dump(data_dump, f, -1)\n",
    "f.close()\n",
    "\n",
    "%notebook -e ../models/{big_tag}.ipynb"
   ]
  },
  {
   "cell_type": "code",
   "execution_count": null,
   "metadata": {
    "collapsed": true
   },
   "outputs": [],
   "source": []
  }
 ],
 "metadata": {
  "_draft": {
   "nbviewer_url": "https://gist.github.com/9e0e96b406b4b4d69c9a4ae27d55ee3c"
  },
  "gist": {
   "data": {
    "description": "model_run",
    "public": false
   },
   "id": "9e0e96b406b4b4d69c9a4ae27d55ee3c"
  },
  "kernelspec": {
   "display_name": "Python 2",
   "language": "python",
   "name": "python2"
  },
  "language_info": {
   "codemirror_mode": {
    "name": "ipython",
    "version": 2
   },
   "file_extension": ".py",
   "mimetype": "text/x-python",
   "name": "python",
   "nbconvert_exporter": "python",
   "pygments_lexer": "ipython2",
   "version": "2.7.13"
  },
  "varInspector": {
   "cols": {
    "lenName": 16,
    "lenType": 16,
    "lenVar": 40
   },
   "kernels_config": {
    "python": {
     "delete_cmd_postfix": "",
     "delete_cmd_prefix": "del ",
     "library": "var_list.py",
     "varRefreshCmd": "print(var_dic_list())"
    },
    "r": {
     "delete_cmd_postfix": ") ",
     "delete_cmd_prefix": "rm(",
     "library": "var_list.r",
     "varRefreshCmd": "cat(var_dic_list()) "
    }
   },
   "types_to_exclude": [
    "module",
    "function",
    "builtin_function_or_method",
    "instance",
    "_Feature"
   ],
   "window_display": false
  }
 },
 "nbformat": 4,
 "nbformat_minor": 2
}
