{
 "cells": [
  {
   "cell_type": "code",
   "execution_count": 1,
   "metadata": {
    "ExecuteTime": {
     "end_time": "2019-02-23T17:36:03.432386Z",
     "start_time": "2019-02-23T17:36:03.428259Z"
    },
    "collapsed": true
   },
   "outputs": [],
   "source": [
    "from IPython.core.interactiveshell import InteractiveShell\n",
    "InteractiveShell.ast_node_interactivity = \"all\""
   ]
  },
  {
   "cell_type": "code",
   "execution_count": 2,
   "metadata": {
    "ExecuteTime": {
     "end_time": "2019-02-23T17:36:04.349196Z",
     "start_time": "2019-02-23T17:36:03.810860Z"
    }
   },
   "outputs": [
    {
     "data": {
      "text/plain": [
       "'0.20.2'"
      ]
     },
     "execution_count": 2,
     "metadata": {},
     "output_type": "execute_result"
    }
   ],
   "source": [
    "import sklearn\n",
    "sklearn.__version__"
   ]
  },
  {
   "cell_type": "code",
   "execution_count": 3,
   "metadata": {
    "ExecuteTime": {
     "end_time": "2019-02-23T17:36:05.683605Z",
     "start_time": "2019-02-23T17:36:04.369777Z"
    },
    "collapsed": true
   },
   "outputs": [],
   "source": [
    "import pandas as pd\n",
    "import pickle as pkl"
   ]
  },
  {
   "cell_type": "code",
   "execution_count": 4,
   "metadata": {
    "ExecuteTime": {
     "end_time": "2019-02-23T17:36:07.702506Z",
     "start_time": "2019-02-23T17:36:05.702227Z"
    },
    "collapsed": true
   },
   "outputs": [],
   "source": [
    "%run utils.ipynb\n",
    "%run targets.ipynb"
   ]
  },
  {
   "cell_type": "code",
   "execution_count": 5,
   "metadata": {
    "ExecuteTime": {
     "end_time": "2019-02-23T17:36:07.727474Z",
     "start_time": "2019-02-23T17:36:07.723618Z"
    },
    "collapsed": true
   },
   "outputs": [],
   "source": [
    "file = 'ETHBTC_1m_1519496760000_1549568220000.csv'"
   ]
  },
  {
   "cell_type": "code",
   "execution_count": 6,
   "metadata": {
    "ExecuteTime": {
     "end_time": "2019-02-23T17:36:10.329842Z",
     "start_time": "2019-02-23T17:36:07.745805Z"
    }
   },
   "outputs": [
    {
     "data": {
      "text/plain": [
       "(500000, 12)"
      ]
     },
     "execution_count": 6,
     "metadata": {},
     "output_type": "execute_result"
    },
    {
     "data": {
      "text/html": [
       "<div>\n",
       "<style scoped>\n",
       "    .dataframe tbody tr th:only-of-type {\n",
       "        vertical-align: middle;\n",
       "    }\n",
       "\n",
       "    .dataframe tbody tr th {\n",
       "        vertical-align: top;\n",
       "    }\n",
       "\n",
       "    .dataframe thead th {\n",
       "        text-align: right;\n",
       "    }\n",
       "</style>\n",
       "<table border=\"1\" class=\"dataframe\">\n",
       "  <thead>\n",
       "    <tr style=\"text-align: right;\">\n",
       "      <th></th>\n",
       "      <th>OPEN_TIME</th>\n",
       "      <th>OPEN</th>\n",
       "      <th>HIGH</th>\n",
       "      <th>LOW</th>\n",
       "      <th>CLOSE</th>\n",
       "      <th>VOLUME</th>\n",
       "      <th>CLOSE_TIME</th>\n",
       "      <th>QUOTE_VOL</th>\n",
       "      <th>NUM_TRADES</th>\n",
       "      <th>TAKE_BASE_VOL</th>\n",
       "      <th>TAKE_QUOTE_VOL</th>\n",
       "      <th>EXTRA</th>\n",
       "    </tr>\n",
       "  </thead>\n",
       "  <tbody>\n",
       "    <tr>\n",
       "      <th>0</th>\n",
       "      <td>1519496760000</td>\n",
       "      <td>0.085541</td>\n",
       "      <td>0.085570</td>\n",
       "      <td>0.085407</td>\n",
       "      <td>0.085473</td>\n",
       "      <td>27.714</td>\n",
       "      <td>1519496819999</td>\n",
       "      <td>2.370345</td>\n",
       "      <td>192</td>\n",
       "      <td>15.308</td>\n",
       "      <td>1.309733</td>\n",
       "      <td>0</td>\n",
       "    </tr>\n",
       "    <tr>\n",
       "      <th>1</th>\n",
       "      <td>1519496820000</td>\n",
       "      <td>0.085473</td>\n",
       "      <td>0.085570</td>\n",
       "      <td>0.085448</td>\n",
       "      <td>0.085449</td>\n",
       "      <td>20.128</td>\n",
       "      <td>1519496879999</td>\n",
       "      <td>1.720609</td>\n",
       "      <td>122</td>\n",
       "      <td>6.579</td>\n",
       "      <td>0.562654</td>\n",
       "      <td>0</td>\n",
       "    </tr>\n",
       "    <tr>\n",
       "      <th>2</th>\n",
       "      <td>1519496880000</td>\n",
       "      <td>0.085448</td>\n",
       "      <td>0.085569</td>\n",
       "      <td>0.085400</td>\n",
       "      <td>0.085538</td>\n",
       "      <td>45.510</td>\n",
       "      <td>1519496939999</td>\n",
       "      <td>3.890176</td>\n",
       "      <td>209</td>\n",
       "      <td>19.426</td>\n",
       "      <td>1.660960</td>\n",
       "      <td>0</td>\n",
       "    </tr>\n",
       "    <tr>\n",
       "      <th>3</th>\n",
       "      <td>1519496940000</td>\n",
       "      <td>0.085538</td>\n",
       "      <td>0.085546</td>\n",
       "      <td>0.085402</td>\n",
       "      <td>0.085540</td>\n",
       "      <td>22.231</td>\n",
       "      <td>1519496999999</td>\n",
       "      <td>1.900513</td>\n",
       "      <td>105</td>\n",
       "      <td>14.320</td>\n",
       "      <td>1.224483</td>\n",
       "      <td>0</td>\n",
       "    </tr>\n",
       "    <tr>\n",
       "      <th>4</th>\n",
       "      <td>1519497000000</td>\n",
       "      <td>0.085539</td>\n",
       "      <td>0.085552</td>\n",
       "      <td>0.085464</td>\n",
       "      <td>0.085464</td>\n",
       "      <td>15.243</td>\n",
       "      <td>1519497059999</td>\n",
       "      <td>1.303412</td>\n",
       "      <td>117</td>\n",
       "      <td>8.373</td>\n",
       "      <td>0.716219</td>\n",
       "      <td>0</td>\n",
       "    </tr>\n",
       "    <tr>\n",
       "      <th>5</th>\n",
       "      <td>1519497060000</td>\n",
       "      <td>0.085466</td>\n",
       "      <td>0.085555</td>\n",
       "      <td>0.085464</td>\n",
       "      <td>0.085545</td>\n",
       "      <td>31.895</td>\n",
       "      <td>1519497119999</td>\n",
       "      <td>2.727413</td>\n",
       "      <td>131</td>\n",
       "      <td>19.237</td>\n",
       "      <td>1.645547</td>\n",
       "      <td>0</td>\n",
       "    </tr>\n",
       "    <tr>\n",
       "      <th>6</th>\n",
       "      <td>1519497120000</td>\n",
       "      <td>0.085545</td>\n",
       "      <td>0.085545</td>\n",
       "      <td>0.085464</td>\n",
       "      <td>0.085539</td>\n",
       "      <td>13.325</td>\n",
       "      <td>1519497179999</td>\n",
       "      <td>1.139346</td>\n",
       "      <td>78</td>\n",
       "      <td>7.311</td>\n",
       "      <td>0.625352</td>\n",
       "      <td>0</td>\n",
       "    </tr>\n",
       "    <tr>\n",
       "      <th>7</th>\n",
       "      <td>1519497180000</td>\n",
       "      <td>0.085539</td>\n",
       "      <td>0.085555</td>\n",
       "      <td>0.085414</td>\n",
       "      <td>0.085517</td>\n",
       "      <td>28.202</td>\n",
       "      <td>1519497239999</td>\n",
       "      <td>2.411093</td>\n",
       "      <td>195</td>\n",
       "      <td>14.409</td>\n",
       "      <td>1.232346</td>\n",
       "      <td>0</td>\n",
       "    </tr>\n",
       "    <tr>\n",
       "      <th>8</th>\n",
       "      <td>1519497240000</td>\n",
       "      <td>0.085460</td>\n",
       "      <td>0.085545</td>\n",
       "      <td>0.085419</td>\n",
       "      <td>0.085534</td>\n",
       "      <td>15.302</td>\n",
       "      <td>1519497299999</td>\n",
       "      <td>1.307959</td>\n",
       "      <td>134</td>\n",
       "      <td>7.216</td>\n",
       "      <td>0.617035</td>\n",
       "      <td>0</td>\n",
       "    </tr>\n",
       "    <tr>\n",
       "      <th>9</th>\n",
       "      <td>1519497300000</td>\n",
       "      <td>0.085440</td>\n",
       "      <td>0.085545</td>\n",
       "      <td>0.085440</td>\n",
       "      <td>0.085533</td>\n",
       "      <td>13.730</td>\n",
       "      <td>1519497359999</td>\n",
       "      <td>1.173580</td>\n",
       "      <td>105</td>\n",
       "      <td>6.186</td>\n",
       "      <td>0.529001</td>\n",
       "      <td>0</td>\n",
       "    </tr>\n",
       "  </tbody>\n",
       "</table>\n",
       "</div>"
      ],
      "text/plain": [
       "       OPEN_TIME      OPEN      HIGH       LOW     CLOSE  VOLUME  \\\n",
       "0  1519496760000  0.085541  0.085570  0.085407  0.085473  27.714   \n",
       "1  1519496820000  0.085473  0.085570  0.085448  0.085449  20.128   \n",
       "2  1519496880000  0.085448  0.085569  0.085400  0.085538  45.510   \n",
       "3  1519496940000  0.085538  0.085546  0.085402  0.085540  22.231   \n",
       "4  1519497000000  0.085539  0.085552  0.085464  0.085464  15.243   \n",
       "5  1519497060000  0.085466  0.085555  0.085464  0.085545  31.895   \n",
       "6  1519497120000  0.085545  0.085545  0.085464  0.085539  13.325   \n",
       "7  1519497180000  0.085539  0.085555  0.085414  0.085517  28.202   \n",
       "8  1519497240000  0.085460  0.085545  0.085419  0.085534  15.302   \n",
       "9  1519497300000  0.085440  0.085545  0.085440  0.085533  13.730   \n",
       "\n",
       "      CLOSE_TIME  QUOTE_VOL  NUM_TRADES  TAKE_BASE_VOL  TAKE_QUOTE_VOL  EXTRA  \n",
       "0  1519496819999   2.370345         192         15.308        1.309733      0  \n",
       "1  1519496879999   1.720609         122          6.579        0.562654      0  \n",
       "2  1519496939999   3.890176         209         19.426        1.660960      0  \n",
       "3  1519496999999   1.900513         105         14.320        1.224483      0  \n",
       "4  1519497059999   1.303412         117          8.373        0.716219      0  \n",
       "5  1519497119999   2.727413         131         19.237        1.645547      0  \n",
       "6  1519497179999   1.139346          78          7.311        0.625352      0  \n",
       "7  1519497239999   2.411093         195         14.409        1.232346      0  \n",
       "8  1519497299999   1.307959         134          7.216        0.617035      0  \n",
       "9  1519497359999   1.173580         105          6.186        0.529001      0  "
      ]
     },
     "execution_count": 6,
     "metadata": {},
     "output_type": "execute_result"
    }
   ],
   "source": [
    "# Get Data\n",
    "df = pd.read_csv('../data/'+file)\n",
    "df.shape\n",
    "df.head(10)"
   ]
  },
  {
   "cell_type": "code",
   "execution_count": 7,
   "metadata": {
    "ExecuteTime": {
     "end_time": "2019-02-23T17:36:10.643351Z",
     "start_time": "2019-02-23T17:36:10.544939Z"
    }
   },
   "outputs": [
    {
     "data": {
      "text/plain": [
       "(500000, 6)"
      ]
     },
     "execution_count": 7,
     "metadata": {},
     "output_type": "execute_result"
    },
    {
     "data": {
      "text/html": [
       "<div>\n",
       "<style scoped>\n",
       "    .dataframe tbody tr th:only-of-type {\n",
       "        vertical-align: middle;\n",
       "    }\n",
       "\n",
       "    .dataframe tbody tr th {\n",
       "        vertical-align: top;\n",
       "    }\n",
       "\n",
       "    .dataframe thead th {\n",
       "        text-align: right;\n",
       "    }\n",
       "</style>\n",
       "<table border=\"1\" class=\"dataframe\">\n",
       "  <thead>\n",
       "    <tr style=\"text-align: right;\">\n",
       "      <th></th>\n",
       "      <th>OPEN_TIME</th>\n",
       "      <th>CLOSE_TIME</th>\n",
       "      <th>OPEN</th>\n",
       "      <th>HIGH</th>\n",
       "      <th>LOW</th>\n",
       "      <th>CLOSE</th>\n",
       "    </tr>\n",
       "  </thead>\n",
       "  <tbody>\n",
       "    <tr>\n",
       "      <th>0</th>\n",
       "      <td>1519496760000</td>\n",
       "      <td>1519496819999</td>\n",
       "      <td>0.085541</td>\n",
       "      <td>0.085570</td>\n",
       "      <td>0.085407</td>\n",
       "      <td>0.085473</td>\n",
       "    </tr>\n",
       "    <tr>\n",
       "      <th>1</th>\n",
       "      <td>1519496820000</td>\n",
       "      <td>1519496879999</td>\n",
       "      <td>0.085473</td>\n",
       "      <td>0.085570</td>\n",
       "      <td>0.085448</td>\n",
       "      <td>0.085449</td>\n",
       "    </tr>\n",
       "    <tr>\n",
       "      <th>2</th>\n",
       "      <td>1519496880000</td>\n",
       "      <td>1519496939999</td>\n",
       "      <td>0.085448</td>\n",
       "      <td>0.085569</td>\n",
       "      <td>0.085400</td>\n",
       "      <td>0.085538</td>\n",
       "    </tr>\n",
       "    <tr>\n",
       "      <th>3</th>\n",
       "      <td>1519496940000</td>\n",
       "      <td>1519496999999</td>\n",
       "      <td>0.085538</td>\n",
       "      <td>0.085546</td>\n",
       "      <td>0.085402</td>\n",
       "      <td>0.085540</td>\n",
       "    </tr>\n",
       "    <tr>\n",
       "      <th>4</th>\n",
       "      <td>1519497000000</td>\n",
       "      <td>1519497059999</td>\n",
       "      <td>0.085539</td>\n",
       "      <td>0.085552</td>\n",
       "      <td>0.085464</td>\n",
       "      <td>0.085464</td>\n",
       "    </tr>\n",
       "  </tbody>\n",
       "</table>\n",
       "</div>"
      ],
      "text/plain": [
       "       OPEN_TIME     CLOSE_TIME      OPEN      HIGH       LOW     CLOSE\n",
       "0  1519496760000  1519496819999  0.085541  0.085570  0.085407  0.085473\n",
       "1  1519496820000  1519496879999  0.085473  0.085570  0.085448  0.085449\n",
       "2  1519496880000  1519496939999  0.085448  0.085569  0.085400  0.085538\n",
       "3  1519496940000  1519496999999  0.085538  0.085546  0.085402  0.085540\n",
       "4  1519497000000  1519497059999  0.085539  0.085552  0.085464  0.085464"
      ]
     },
     "execution_count": 7,
     "metadata": {},
     "output_type": "execute_result"
    }
   ],
   "source": [
    "data = df.loc[:, ['OPEN_TIME', 'CLOSE_TIME', 'OPEN', 'HIGH', 'LOW', 'CLOSE']]\n",
    "data.shape\n",
    "data[:5]"
   ]
  },
  {
   "cell_type": "code",
   "execution_count": 8,
   "metadata": {
    "ExecuteTime": {
     "end_time": "2019-02-23T17:36:13.651612Z",
     "start_time": "2019-02-23T17:36:10.942930Z"
    }
   },
   "outputs": [
    {
     "data": {
      "text/plain": [
       "(499999, 2)"
      ]
     },
     "execution_count": 8,
     "metadata": {},
     "output_type": "execute_result"
    },
    {
     "data": {
      "text/html": [
       "<div>\n",
       "<style scoped>\n",
       "    .dataframe tbody tr th:only-of-type {\n",
       "        vertical-align: middle;\n",
       "    }\n",
       "\n",
       "    .dataframe tbody tr th {\n",
       "        vertical-align: top;\n",
       "    }\n",
       "\n",
       "    .dataframe thead th {\n",
       "        text-align: right;\n",
       "    }\n",
       "</style>\n",
       "<table border=\"1\" class=\"dataframe\">\n",
       "  <thead>\n",
       "    <tr style=\"text-align: right;\">\n",
       "      <th></th>\n",
       "      <th>CLOSE_TIME</th>\n",
       "      <th>TARGET</th>\n",
       "    </tr>\n",
       "  </thead>\n",
       "  <tbody>\n",
       "    <tr>\n",
       "      <th>0</th>\n",
       "      <td>1519496819999</td>\n",
       "      <td>1.0</td>\n",
       "    </tr>\n",
       "    <tr>\n",
       "      <th>1</th>\n",
       "      <td>1519496879999</td>\n",
       "      <td>0.0</td>\n",
       "    </tr>\n",
       "    <tr>\n",
       "      <th>2</th>\n",
       "      <td>1519496939999</td>\n",
       "      <td>0.0</td>\n",
       "    </tr>\n",
       "    <tr>\n",
       "      <th>3</th>\n",
       "      <td>1519496999999</td>\n",
       "      <td>1.0</td>\n",
       "    </tr>\n",
       "    <tr>\n",
       "      <th>4</th>\n",
       "      <td>1519497059999</td>\n",
       "      <td>0.0</td>\n",
       "    </tr>\n",
       "  </tbody>\n",
       "</table>\n",
       "</div>"
      ],
      "text/plain": [
       "      CLOSE_TIME  TARGET\n",
       "0  1519496819999     1.0\n",
       "1  1519496879999     0.0\n",
       "2  1519496939999     0.0\n",
       "3  1519496999999     1.0\n",
       "4  1519497059999     0.0"
      ]
     },
     "execution_count": 8,
     "metadata": {},
     "output_type": "execute_result"
    }
   ],
   "source": [
    "# Get Target\n",
    "%run targets.ipynb\n",
    "target = get_target_1('../data/'+file)\n",
    "target.shape\n",
    "target.head()"
   ]
  },
  {
   "cell_type": "code",
   "execution_count": 9,
   "metadata": {
    "ExecuteTime": {
     "end_time": "2019-02-23T17:36:17.482996Z",
     "start_time": "2019-02-23T17:36:17.065364Z"
    }
   },
   "outputs": [
    {
     "data": {
      "text/plain": [
       "(499999, 7)"
      ]
     },
     "execution_count": 9,
     "metadata": {},
     "output_type": "execute_result"
    },
    {
     "data": {
      "text/html": [
       "<div>\n",
       "<style scoped>\n",
       "    .dataframe tbody tr th:only-of-type {\n",
       "        vertical-align: middle;\n",
       "    }\n",
       "\n",
       "    .dataframe tbody tr th {\n",
       "        vertical-align: top;\n",
       "    }\n",
       "\n",
       "    .dataframe thead th {\n",
       "        text-align: right;\n",
       "    }\n",
       "</style>\n",
       "<table border=\"1\" class=\"dataframe\">\n",
       "  <thead>\n",
       "    <tr style=\"text-align: right;\">\n",
       "      <th></th>\n",
       "      <th>OPEN_TIME</th>\n",
       "      <th>CLOSE_TIME</th>\n",
       "      <th>OPEN</th>\n",
       "      <th>HIGH</th>\n",
       "      <th>LOW</th>\n",
       "      <th>CLOSE</th>\n",
       "      <th>TARGET</th>\n",
       "    </tr>\n",
       "  </thead>\n",
       "  <tbody>\n",
       "    <tr>\n",
       "      <th>0</th>\n",
       "      <td>1519496760000</td>\n",
       "      <td>1519496819999</td>\n",
       "      <td>0.085541</td>\n",
       "      <td>0.085570</td>\n",
       "      <td>0.085407</td>\n",
       "      <td>0.085473</td>\n",
       "      <td>1.0</td>\n",
       "    </tr>\n",
       "    <tr>\n",
       "      <th>1</th>\n",
       "      <td>1519496820000</td>\n",
       "      <td>1519496879999</td>\n",
       "      <td>0.085473</td>\n",
       "      <td>0.085570</td>\n",
       "      <td>0.085448</td>\n",
       "      <td>0.085449</td>\n",
       "      <td>0.0</td>\n",
       "    </tr>\n",
       "    <tr>\n",
       "      <th>2</th>\n",
       "      <td>1519496880000</td>\n",
       "      <td>1519496939999</td>\n",
       "      <td>0.085448</td>\n",
       "      <td>0.085569</td>\n",
       "      <td>0.085400</td>\n",
       "      <td>0.085538</td>\n",
       "      <td>0.0</td>\n",
       "    </tr>\n",
       "    <tr>\n",
       "      <th>3</th>\n",
       "      <td>1519496940000</td>\n",
       "      <td>1519496999999</td>\n",
       "      <td>0.085538</td>\n",
       "      <td>0.085546</td>\n",
       "      <td>0.085402</td>\n",
       "      <td>0.085540</td>\n",
       "      <td>1.0</td>\n",
       "    </tr>\n",
       "    <tr>\n",
       "      <th>4</th>\n",
       "      <td>1519497000000</td>\n",
       "      <td>1519497059999</td>\n",
       "      <td>0.085539</td>\n",
       "      <td>0.085552</td>\n",
       "      <td>0.085464</td>\n",
       "      <td>0.085464</td>\n",
       "      <td>0.0</td>\n",
       "    </tr>\n",
       "  </tbody>\n",
       "</table>\n",
       "</div>"
      ],
      "text/plain": [
       "       OPEN_TIME     CLOSE_TIME      OPEN      HIGH       LOW     CLOSE  \\\n",
       "0  1519496760000  1519496819999  0.085541  0.085570  0.085407  0.085473   \n",
       "1  1519496820000  1519496879999  0.085473  0.085570  0.085448  0.085449   \n",
       "2  1519496880000  1519496939999  0.085448  0.085569  0.085400  0.085538   \n",
       "3  1519496940000  1519496999999  0.085538  0.085546  0.085402  0.085540   \n",
       "4  1519497000000  1519497059999  0.085539  0.085552  0.085464  0.085464   \n",
       "\n",
       "   TARGET  \n",
       "0     1.0  \n",
       "1     0.0  \n",
       "2     0.0  \n",
       "3     1.0  \n",
       "4     0.0  "
      ]
     },
     "execution_count": 9,
     "metadata": {},
     "output_type": "execute_result"
    }
   ],
   "source": [
    "data = pd.merge(data, target, on='CLOSE_TIME')\n",
    "data.shape\n",
    "data.head()"
   ]
  },
  {
   "cell_type": "code",
   "execution_count": 10,
   "metadata": {
    "ExecuteTime": {
     "end_time": "2019-02-23T17:36:28.592392Z",
     "start_time": "2019-02-23T17:36:28.536313Z"
    }
   },
   "outputs": [
    {
     "data": {
      "text/plain": [
       "(299999, 7)"
      ]
     },
     "execution_count": 10,
     "metadata": {},
     "output_type": "execute_result"
    },
    {
     "data": {
      "text/plain": [
       "(100000, 7)"
      ]
     },
     "execution_count": 10,
     "metadata": {},
     "output_type": "execute_result"
    },
    {
     "data": {
      "text/plain": [
       "(100000, 7)"
      ]
     },
     "execution_count": 10,
     "metadata": {},
     "output_type": "execute_result"
    },
    {
     "data": {
      "text/html": [
       "<div>\n",
       "<style scoped>\n",
       "    .dataframe tbody tr th:only-of-type {\n",
       "        vertical-align: middle;\n",
       "    }\n",
       "\n",
       "    .dataframe tbody tr th {\n",
       "        vertical-align: top;\n",
       "    }\n",
       "\n",
       "    .dataframe thead th {\n",
       "        text-align: right;\n",
       "    }\n",
       "</style>\n",
       "<table border=\"1\" class=\"dataframe\">\n",
       "  <thead>\n",
       "    <tr style=\"text-align: right;\">\n",
       "      <th></th>\n",
       "      <th>OPEN_TIME</th>\n",
       "      <th>CLOSE_TIME</th>\n",
       "      <th>OPEN</th>\n",
       "      <th>HIGH</th>\n",
       "      <th>LOW</th>\n",
       "      <th>CLOSE</th>\n",
       "      <th>TARGET</th>\n",
       "    </tr>\n",
       "  </thead>\n",
       "  <tbody>\n",
       "    <tr>\n",
       "      <th>0</th>\n",
       "      <td>1519496760000</td>\n",
       "      <td>1519496819999</td>\n",
       "      <td>0.085541</td>\n",
       "      <td>0.085570</td>\n",
       "      <td>0.085407</td>\n",
       "      <td>0.085473</td>\n",
       "      <td>1.0</td>\n",
       "    </tr>\n",
       "    <tr>\n",
       "      <th>1</th>\n",
       "      <td>1519496820000</td>\n",
       "      <td>1519496879999</td>\n",
       "      <td>0.085473</td>\n",
       "      <td>0.085570</td>\n",
       "      <td>0.085448</td>\n",
       "      <td>0.085449</td>\n",
       "      <td>0.0</td>\n",
       "    </tr>\n",
       "    <tr>\n",
       "      <th>2</th>\n",
       "      <td>1519496880000</td>\n",
       "      <td>1519496939999</td>\n",
       "      <td>0.085448</td>\n",
       "      <td>0.085569</td>\n",
       "      <td>0.085400</td>\n",
       "      <td>0.085538</td>\n",
       "      <td>0.0</td>\n",
       "    </tr>\n",
       "    <tr>\n",
       "      <th>3</th>\n",
       "      <td>1519496940000</td>\n",
       "      <td>1519496999999</td>\n",
       "      <td>0.085538</td>\n",
       "      <td>0.085546</td>\n",
       "      <td>0.085402</td>\n",
       "      <td>0.085540</td>\n",
       "      <td>1.0</td>\n",
       "    </tr>\n",
       "    <tr>\n",
       "      <th>4</th>\n",
       "      <td>1519497000000</td>\n",
       "      <td>1519497059999</td>\n",
       "      <td>0.085539</td>\n",
       "      <td>0.085552</td>\n",
       "      <td>0.085464</td>\n",
       "      <td>0.085464</td>\n",
       "      <td>0.0</td>\n",
       "    </tr>\n",
       "  </tbody>\n",
       "</table>\n",
       "</div>"
      ],
      "text/plain": [
       "       OPEN_TIME     CLOSE_TIME      OPEN      HIGH       LOW     CLOSE  \\\n",
       "0  1519496760000  1519496819999  0.085541  0.085570  0.085407  0.085473   \n",
       "1  1519496820000  1519496879999  0.085473  0.085570  0.085448  0.085449   \n",
       "2  1519496880000  1519496939999  0.085448  0.085569  0.085400  0.085538   \n",
       "3  1519496940000  1519496999999  0.085538  0.085546  0.085402  0.085540   \n",
       "4  1519497000000  1519497059999  0.085539  0.085552  0.085464  0.085464   \n",
       "\n",
       "   TARGET  \n",
       "0     1.0  \n",
       "1     0.0  \n",
       "2     0.0  \n",
       "3     1.0  \n",
       "4     0.0  "
      ]
     },
     "execution_count": 10,
     "metadata": {},
     "output_type": "execute_result"
    }
   ],
   "source": [
    "TR_split, CV_split, TT_split = TR_CV_TT_split(data, 0.6, 0.2, 0.2)\n",
    "\n",
    "TR_split.shape\n",
    "CV_split.shape\n",
    "TT_split.shape\n",
    "\n",
    "TR_split.head()"
   ]
  },
  {
   "cell_type": "code",
   "execution_count": 12,
   "metadata": {
    "ExecuteTime": {
     "end_time": "2019-02-23T17:37:13.991188Z",
     "start_time": "2019-02-23T17:37:13.903150Z"
    },
    "collapsed": true
   },
   "outputs": [],
   "source": [
    "from sklearn.preprocessing import StandardScaler\n",
    "\n",
    "scaler = StandardScaler(copy=True, with_mean=True, with_std=True)\n",
    "window = 60\n",
    "def data_transformer(id, data, target, retrain=False):\n",
    "    global scaler\n",
    "    global window\n",
    "    \n",
    "    if retrain==True:\n",
    "        scaler = scaler.fit(data)\n",
    "        \n",
    "    data = scaler.transform(data)\n",
    "    return get_multiple_ts_dataset(id, data, target, tr_win=window, tt_win=0, point_target=True)"
   ]
  },
  {
   "cell_type": "code",
   "execution_count": 11,
   "metadata": {
    "ExecuteTime": {
     "end_time": "2019-02-23T17:37:11.253855Z",
     "start_time": "2019-02-23T17:37:11.204274Z"
    }
   },
   "outputs": [
    {
     "data": {
      "text/plain": [
       "(299999, 2)"
      ]
     },
     "execution_count": 11,
     "metadata": {},
     "output_type": "execute_result"
    },
    {
     "data": {
      "text/plain": [
       "(299999, 4)"
      ]
     },
     "execution_count": 11,
     "metadata": {},
     "output_type": "execute_result"
    },
    {
     "data": {
      "text/plain": [
       "(299999, 1)"
      ]
     },
     "execution_count": 11,
     "metadata": {},
     "output_type": "execute_result"
    },
    {
     "data": {
      "text/plain": [
       "(100000, 2)"
      ]
     },
     "execution_count": 11,
     "metadata": {},
     "output_type": "execute_result"
    },
    {
     "data": {
      "text/plain": [
       "(100000, 4)"
      ]
     },
     "execution_count": 11,
     "metadata": {},
     "output_type": "execute_result"
    },
    {
     "data": {
      "text/plain": [
       "(100000, 1)"
      ]
     },
     "execution_count": 11,
     "metadata": {},
     "output_type": "execute_result"
    }
   ],
   "source": [
    "TR_id     = TR_split.iloc[:, :2  ].values\n",
    "TR_data   = TR_split.iloc[:, 2:-1].values\n",
    "TR_target = TR_split.iloc[:, -1: ].values\n",
    "\n",
    "CV_id     = CV_split.iloc[:, :2  ].values\n",
    "CV_data   = CV_split.iloc[:, 2:-1].values\n",
    "CV_target = CV_split.iloc[:, -1: ].values\n",
    "\n",
    "TT_id     = TT_split.iloc[:, :2  ].values\n",
    "TT_data   = TT_split.iloc[:, 2:-1].values\n",
    "TT_target = TT_split.iloc[:, -1: ].values\n",
    "\n",
    "TR_id.shape\n",
    "TR_data.shape\n",
    "TR_target.shape\n",
    "\n",
    "TT_id.shape\n",
    "TT_data.shape\n",
    "TT_target.shape"
   ]
  },
  {
   "cell_type": "code",
   "execution_count": 15,
   "metadata": {
    "ExecuteTime": {
     "end_time": "2019-02-23T17:44:00.022865Z",
     "start_time": "2019-02-23T17:43:54.549948Z"
    }
   },
   "outputs": [],
   "source": [
    "TR_id, TR_X, TR_y = data_transformer(TR_id, TR_data, TR_target, retrain=True)\n",
    "CV_id, CV_X, CV_y = data_transformer(CV_id, CV_data, CV_target, retrain=False)\n",
    "TT_id, TT_X, TT_y = data_transformer(TT_id, TT_data, TT_target, retrain=False)"
   ]
  },
  {
   "cell_type": "code",
   "execution_count": 21,
   "metadata": {
    "ExecuteTime": {
     "end_time": "2019-02-23T18:10:30.213045Z",
     "start_time": "2019-02-23T18:08:43.744094Z"
    },
    "scrolled": false
   },
   "outputs": [
    {
     "name": "stdout",
     "output_type": "stream",
     "text": [
      "Convergence after  14  iterations\n"
     ]
    },
    {
     "data": {
      "text/html": [
       "<div>\n",
       "<style scoped>\n",
       "    .dataframe tbody tr th:only-of-type {\n",
       "        vertical-align: middle;\n",
       "    }\n",
       "\n",
       "    .dataframe tbody tr th {\n",
       "        vertical-align: top;\n",
       "    }\n",
       "\n",
       "    .dataframe thead th {\n",
       "        text-align: right;\n",
       "    }\n",
       "</style>\n",
       "<table border=\"1\" class=\"dataframe\">\n",
       "  <thead>\n",
       "    <tr style=\"text-align: right;\">\n",
       "      <th></th>\n",
       "      <th>acc</th>\n",
       "      <th>auc</th>\n",
       "      <th>f1</th>\n",
       "      <th>log_loss</th>\n",
       "    </tr>\n",
       "  </thead>\n",
       "  <tbody>\n",
       "    <tr>\n",
       "      <th>TR</th>\n",
       "      <td>0.525192</td>\n",
       "      <td>0.508997</td>\n",
       "      <td>0.181049</td>\n",
       "      <td>16.399336</td>\n",
       "    </tr>\n",
       "    <tr>\n",
       "      <th>CV</th>\n",
       "      <td>0.523519</td>\n",
       "      <td>0.501433</td>\n",
       "      <td>0.072928</td>\n",
       "      <td>16.457090</td>\n",
       "    </tr>\n",
       "    <tr>\n",
       "      <th>TT</th>\n",
       "      <td>0.516515</td>\n",
       "      <td>0.501875</td>\n",
       "      <td>0.088474</td>\n",
       "      <td>16.699008</td>\n",
       "    </tr>\n",
       "  </tbody>\n",
       "</table>\n",
       "</div>"
      ],
      "text/plain": [
       "         acc       auc        f1   log_loss\n",
       "TR  0.525192  0.508997  0.181049  16.399336\n",
       "CV  0.523519  0.501433  0.072928  16.457090\n",
       "TT  0.516515  0.501875  0.088474  16.699008"
      ]
     },
     "execution_count": 21,
     "metadata": {},
     "output_type": "execute_result"
    }
   ],
   "source": [
    "from sklearn.linear_model import BayesianRidge\n",
    "model = BayesianRidge(\n",
    "    n_iter=300, \n",
    "    tol=0.001, \n",
    "    alpha_1=1e-06, \n",
    "    alpha_2=1e-06, \n",
    "    lambda_1=1e-06, \n",
    "    lambda_2=1e-06, \n",
    "    compute_score=False, \n",
    "    fit_intercept=True, \n",
    "    normalize=False, \n",
    "    copy_X=True, \n",
    "    verbose=True\n",
    ")\n",
    "\n",
    "model = model.fit(TR_X, TR_y)\n",
    "\n",
    "TR_y_pred = model.predict(TR_X)\n",
    "CV_y_pred = model.predict(CV_X)\n",
    "TT_y_pred = model.predict(TT_X)\n",
    "\n",
    "TR_metrics = eval_class_metrics(TR_y, TR_y_pred, metrics=['auc', 'f1', 'acc', 'log_loss'])\n",
    "CV_metrics = eval_class_metrics(CV_y, CV_y_pred, metrics=['auc', 'f1', 'acc', 'log_loss'])\n",
    "TT_metrics = eval_class_metrics(TT_y, TT_y_pred, metrics=['auc', 'f1', 'acc', 'log_loss'])\n",
    "\n",
    "res = pd.DataFrame({x:[] for x in ['auc', 'f1', 'acc', 'log_loss']})\n",
    "res = res.append(pd.Series(TR_metrics, name='TR'))\n",
    "res = res.append(pd.Series(CV_metrics, name='CV'))\n",
    "res = res.append(pd.Series(TT_metrics, name='TT'))\n",
    "\n",
    "res"
   ]
  }
 ],
 "metadata": {
  "_draft": {
   "nbviewer_url": "https://gist.github.com/9e0e96b406b4b4d69c9a4ae27d55ee3c"
  },
  "gist": {
   "data": {
    "description": "model_run",
    "public": false
   },
   "id": "9e0e96b406b4b4d69c9a4ae27d55ee3c"
  },
  "kernelspec": {
   "display_name": "Python 2",
   "language": "python",
   "name": "python2"
  },
  "language_info": {
   "codemirror_mode": {
    "name": "ipython",
    "version": 2
   },
   "file_extension": ".py",
   "mimetype": "text/x-python",
   "name": "python",
   "nbconvert_exporter": "python",
   "pygments_lexer": "ipython2",
   "version": "2.7.13"
  },
  "varInspector": {
   "cols": {
    "lenName": 16,
    "lenType": 16,
    "lenVar": 40
   },
   "kernels_config": {
    "python": {
     "delete_cmd_postfix": "",
     "delete_cmd_prefix": "del ",
     "library": "var_list.py",
     "varRefreshCmd": "print(var_dic_list())"
    },
    "r": {
     "delete_cmd_postfix": ") ",
     "delete_cmd_prefix": "rm(",
     "library": "var_list.r",
     "varRefreshCmd": "cat(var_dic_list()) "
    }
   },
   "types_to_exclude": [
    "module",
    "function",
    "builtin_function_or_method",
    "instance",
    "_Feature"
   ],
   "window_display": false
  }
 },
 "nbformat": 4,
 "nbformat_minor": 2
}
