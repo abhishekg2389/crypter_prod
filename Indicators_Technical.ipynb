{
  "cells": [
    {
      "metadata": {
        "ExecuteTime": {
          "start_time": "2019-02-22T22:17:52.650173Z",
          "end_time": "2019-02-22T22:17:52.653906Z"
        },
        "collapsed": true,
        "trusted": false
      },
      "cell_type": "code",
      "source": "from IPython.core.interactiveshell import InteractiveShell\nInteractiveShell.ast_node_interactivity = \"all\"",
      "execution_count": 1,
      "outputs": []
    },
    {
      "metadata": {
        "ExecuteTime": {
          "start_time": "2019-02-22T22:17:52.999909Z",
          "end_time": "2019-02-22T22:17:54.776992Z"
        },
        "collapsed": true,
        "trusted": false
      },
      "cell_type": "code",
      "source": "import numpy as np\nimport pandas as pd\nimport collections as col\n\nimport matplotlib.pyplot as plt\n\nimport time\nimport pickle as pkl",
      "execution_count": 2,
      "outputs": []
    },
    {
      "metadata": {
        "ExecuteTime": {
          "start_time": "2019-02-22T22:18:00.728154Z",
          "end_time": "2019-02-22T22:18:01.894433Z"
        },
        "trusted": false
      },
      "cell_type": "code",
      "source": "file = \"ETHBTC_1m_1519496760000_1549568220000.csv\"\ndf = pd.read_csv('../data/'+file)\ndf.shape\ndf.head(10)",
      "execution_count": 4,
      "outputs": [
        {
          "execution_count": 4,
          "output_type": "execute_result",
          "data": {
            "text/plain": "(500000, 12)"
          },
          "metadata": {}
        },
        {
          "execution_count": 4,
          "output_type": "execute_result",
          "data": {
            "text/plain": "       OPEN_TIME      OPEN      HIGH       LOW     CLOSE  VOLUME  \\\n0  1519496760000  0.085541  0.085570  0.085407  0.085473  27.714   \n1  1519496820000  0.085473  0.085570  0.085448  0.085449  20.128   \n2  1519496880000  0.085448  0.085569  0.085400  0.085538  45.510   \n3  1519496940000  0.085538  0.085546  0.085402  0.085540  22.231   \n4  1519497000000  0.085539  0.085552  0.085464  0.085464  15.243   \n5  1519497060000  0.085466  0.085555  0.085464  0.085545  31.895   \n6  1519497120000  0.085545  0.085545  0.085464  0.085539  13.325   \n7  1519497180000  0.085539  0.085555  0.085414  0.085517  28.202   \n8  1519497240000  0.085460  0.085545  0.085419  0.085534  15.302   \n9  1519497300000  0.085440  0.085545  0.085440  0.085533  13.730   \n\n      CLOSE_TIME  QUOTE_VOL  NUM_TRADES  TAKE_BASE_VOL  TAKE_QUOTE_VOL  EXTRA  \n0  1519496819999   2.370345         192         15.308        1.309733      0  \n1  1519496879999   1.720609         122          6.579        0.562654      0  \n2  1519496939999   3.890176         209         19.426        1.660960      0  \n3  1519496999999   1.900513         105         14.320        1.224483      0  \n4  1519497059999   1.303412         117          8.373        0.716219      0  \n5  1519497119999   2.727413         131         19.237        1.645547      0  \n6  1519497179999   1.139346          78          7.311        0.625352      0  \n7  1519497239999   2.411093         195         14.409        1.232346      0  \n8  1519497299999   1.307959         134          7.216        0.617035      0  \n9  1519497359999   1.173580         105          6.186        0.529001      0  ",
            "text/html": "<div>\n<style scoped>\n    .dataframe tbody tr th:only-of-type {\n        vertical-align: middle;\n    }\n\n    .dataframe tbody tr th {\n        vertical-align: top;\n    }\n\n    .dataframe thead th {\n        text-align: right;\n    }\n</style>\n<table border=\"1\" class=\"dataframe\">\n  <thead>\n    <tr style=\"text-align: right;\">\n      <th></th>\n      <th>OPEN_TIME</th>\n      <th>OPEN</th>\n      <th>HIGH</th>\n      <th>LOW</th>\n      <th>CLOSE</th>\n      <th>VOLUME</th>\n      <th>CLOSE_TIME</th>\n      <th>QUOTE_VOL</th>\n      <th>NUM_TRADES</th>\n      <th>TAKE_BASE_VOL</th>\n      <th>TAKE_QUOTE_VOL</th>\n      <th>EXTRA</th>\n    </tr>\n  </thead>\n  <tbody>\n    <tr>\n      <th>0</th>\n      <td>1519496760000</td>\n      <td>0.085541</td>\n      <td>0.085570</td>\n      <td>0.085407</td>\n      <td>0.085473</td>\n      <td>27.714</td>\n      <td>1519496819999</td>\n      <td>2.370345</td>\n      <td>192</td>\n      <td>15.308</td>\n      <td>1.309733</td>\n      <td>0</td>\n    </tr>\n    <tr>\n      <th>1</th>\n      <td>1519496820000</td>\n      <td>0.085473</td>\n      <td>0.085570</td>\n      <td>0.085448</td>\n      <td>0.085449</td>\n      <td>20.128</td>\n      <td>1519496879999</td>\n      <td>1.720609</td>\n      <td>122</td>\n      <td>6.579</td>\n      <td>0.562654</td>\n      <td>0</td>\n    </tr>\n    <tr>\n      <th>2</th>\n      <td>1519496880000</td>\n      <td>0.085448</td>\n      <td>0.085569</td>\n      <td>0.085400</td>\n      <td>0.085538</td>\n      <td>45.510</td>\n      <td>1519496939999</td>\n      <td>3.890176</td>\n      <td>209</td>\n      <td>19.426</td>\n      <td>1.660960</td>\n      <td>0</td>\n    </tr>\n    <tr>\n      <th>3</th>\n      <td>1519496940000</td>\n      <td>0.085538</td>\n      <td>0.085546</td>\n      <td>0.085402</td>\n      <td>0.085540</td>\n      <td>22.231</td>\n      <td>1519496999999</td>\n      <td>1.900513</td>\n      <td>105</td>\n      <td>14.320</td>\n      <td>1.224483</td>\n      <td>0</td>\n    </tr>\n    <tr>\n      <th>4</th>\n      <td>1519497000000</td>\n      <td>0.085539</td>\n      <td>0.085552</td>\n      <td>0.085464</td>\n      <td>0.085464</td>\n      <td>15.243</td>\n      <td>1519497059999</td>\n      <td>1.303412</td>\n      <td>117</td>\n      <td>8.373</td>\n      <td>0.716219</td>\n      <td>0</td>\n    </tr>\n    <tr>\n      <th>5</th>\n      <td>1519497060000</td>\n      <td>0.085466</td>\n      <td>0.085555</td>\n      <td>0.085464</td>\n      <td>0.085545</td>\n      <td>31.895</td>\n      <td>1519497119999</td>\n      <td>2.727413</td>\n      <td>131</td>\n      <td>19.237</td>\n      <td>1.645547</td>\n      <td>0</td>\n    </tr>\n    <tr>\n      <th>6</th>\n      <td>1519497120000</td>\n      <td>0.085545</td>\n      <td>0.085545</td>\n      <td>0.085464</td>\n      <td>0.085539</td>\n      <td>13.325</td>\n      <td>1519497179999</td>\n      <td>1.139346</td>\n      <td>78</td>\n      <td>7.311</td>\n      <td>0.625352</td>\n      <td>0</td>\n    </tr>\n    <tr>\n      <th>7</th>\n      <td>1519497180000</td>\n      <td>0.085539</td>\n      <td>0.085555</td>\n      <td>0.085414</td>\n      <td>0.085517</td>\n      <td>28.202</td>\n      <td>1519497239999</td>\n      <td>2.411093</td>\n      <td>195</td>\n      <td>14.409</td>\n      <td>1.232346</td>\n      <td>0</td>\n    </tr>\n    <tr>\n      <th>8</th>\n      <td>1519497240000</td>\n      <td>0.085460</td>\n      <td>0.085545</td>\n      <td>0.085419</td>\n      <td>0.085534</td>\n      <td>15.302</td>\n      <td>1519497299999</td>\n      <td>1.307959</td>\n      <td>134</td>\n      <td>7.216</td>\n      <td>0.617035</td>\n      <td>0</td>\n    </tr>\n    <tr>\n      <th>9</th>\n      <td>1519497300000</td>\n      <td>0.085440</td>\n      <td>0.085545</td>\n      <td>0.085440</td>\n      <td>0.085533</td>\n      <td>13.730</td>\n      <td>1519497359999</td>\n      <td>1.173580</td>\n      <td>105</td>\n      <td>6.186</td>\n      <td>0.529001</td>\n      <td>0</td>\n    </tr>\n  </tbody>\n</table>\n</div>"
          },
          "metadata": {}
        }
      ]
    },
    {
      "metadata": {
        "ExecuteTime": {
          "start_time": "2019-02-22T22:18:07.982271Z",
          "end_time": "2019-02-22T22:18:12.198465Z"
        },
        "collapsed": true,
        "code_folding": [
          0
        ],
        "trusted": false
      },
      "cell_type": "code",
      "source": "### Indicators $$$\n\ndef get_avg(data, type='SMA', period=14, weights=None):\n    if type == 'SMA':\n        return pd.Series(data).rolling(period).mean()\n    if type == 'WMA':\n        if weights == None:\n            weights = np.arange(period)\n            weights/weights.sum()\n        return pd.Series(data).rolling(period).apply(lambda x: (x*weights).sum())\n    #if type == 'EMA':\n    #    return pd.Series(data).ewm(com=1, adjust=False).mean()\n    if type == 'SMMA':\n        return pd.Series(data).ewm(com=period-1, adjust=False).mean()\n\n#v# ATR ## https://en.wikipedia.org/wiki/Average_true_range\ndef get_atr(data, average='SMMA', period=14):\n    tr = pd.Series(np.maximum(\n        (data.HIGH - data.LOW).values, \n        np.maximum(\n            (data.HIGH - data.CLOSE.shift(1)).abs().values, \n            (data.LOW - data.CLOSE.shift(1)).abs().values\n        )\n    ))\n    atr = get_avg(tr, type=average, period=period)\n    \n    atr = pd.DataFrame({'OPEN_TIME' : data.OPEN_TIME, 'atr' : atr, 'atr_tr': tr})\n    return atr\n\n#v# AD ## https://en.wikipedia.org/wiki/Accumulation/distribution_index\ndef get_ad(data):    \n    clv = ((data.CLOSE - data.LOW) - (data.HIGH - data.CLOSE))/(data.HIGH - data.LOW)\n    accdist = clv * data.VOLUME\n    accdist = accdist.cumsum()\n    \n    accdist = pd.DataFrame({'OPEN_TIME' : data.OPEN_TIME, 'ad' : accdist, 'ad_clv_e' : clv})\n    return accdist\n\n#v# ABANDS ## https://www.tradingtechnologies.com/help/x-study/technical-indicator-definitions/acceleration-bands-abands/\ndef get_abands(data, alpha=4, period=30):\n    upper_band = (data.HIGH*(1+alpha*((data.HIGH-data.LOW)/(data.HIGH+data.LOW)))).rolling(period).mean()\n    middle_band = data.CLOSE.rolling(period).mean()\n    lower_band = (data.LOW*(1-alpha*((data.HIGH-data.LOW)/(data.HIGH+data.LOW)))).rolling(period).mean()\n    \n    abands = pd.DataFrame({'OPEN_TIME' : data.OPEN_TIME, 'abands_ub' : upper_band, 'abands_mb' : middle_band, 'abands_lb' : lower_band})\n    return abands\n\n#v# ADX ## https://en.wikipedia.org/wiki/Average_directional_movement_index\ndef get_adx(data, period=14):\n    upmove = data.HIGH - data.HIGH.shift(1)\n    downmove = data.LOW.shift(1) - data.LOW\n    \n    pDM = ((upmove > downmove) & (upmove > 0)).values.astype(int)*upmove\n    nDM = ((downmove > upmove) & (downmove > 0)).values.astype(int)*downmove\n    \n    pDM_avg = get_avg(pDM, type='SMMA', period=period)\n    nDM_avg = get_avg(nDM, type='SMMA', period=period)\n    \n    atr = get_atr(data, period=period).atr\n    pDI = 100*pDM_avg/atr\n    nDI = 100*nDM_avg/atr\n    \n    adx = get_avg(100*(pDI-nDI).abs()/(pDI+nDI), type='SMMA', period=period)\n    adx = pd.DataFrame({'OPEN_TIME' : data.OPEN_TIME, 'adx' : adx, \n                        'adx_pDM_e' : pDM, 'adx_pDM_e' : pDM,\n                        'adx_pDM_avg_e' : pDM_avg, 'adx_pDM_avg_e' : pDM_avg,\n                        'adx_pDI_e' : pDI, 'adx_pDI_e' : pDI,  })\n    return adx\n\n#v# ALMA ## https://www.prorealcode.com/prorealtime-indicators/alma-arnaud-legoux-moving-average/\ndef get_alma(data, source='CLOSE', period=20, sigma=1, offset=0.85):\n    m = offset*(period-1)\n    s = period/sigma\n    \n    if s == 0:\n        return pd.DataFrame({'OPEN_TIME' : data.OPEN_TIME, 'alma' : [np.nan]*len(data.OPEN_TIME)})\n    \n    wts = np.array([np.exp(-((k-m)**2)/(2*s*s)) for k in range(period)])\n    alma = data[source].rolling(period).apply(lambda x: (x*wts).sum()/wts.sum())\n    \n    alma = pd.DataFrame({'OPEN_TIME' : data.OPEN_TIME, 'alma' : alma})\n    return alma\n\n#v# AO ## https://www.tradingview.com/wiki/Awesome_Oscillator_(AO)\ndef get_ao(data, period1=5, period2=34):\n    s1 = get_avg((data.HIGH + data.LOW)/2, type='SMA', period=period1)\n    s2 = get_avg((data.HIGH + data.LOW)/2, type='SMA', period=period2)\n    ao = s1 - s2\n    \n    ao = pd.DataFrame({'OPEN_TIME' : data.OPEN_TIME, 'ao' : ao})\n    return ao\n\n#v# AROON ## https://stockcharts.com/school/doku.php?id=chart_school:technical_indicators:aroon_oscillator\ndef get_aroon(data, source='CLOSE', period=25):\n    arup = 100 * (period - data[source].rolling(period).apply(lambda x: np.argmax(x)))/period\n    ardn = 100 * (period - data[source].rolling(period).apply(lambda x: np.argmin(x)))/period\n    ar = arup - ardn\n    \n    aroon = pd.DataFrame({'OPEN_TIME' : data.OPEN_TIME, 'aroon' : ar, 'ar_up': arup, 'ar_dn': ardn})\n    return aroon\n\n#v# ASI ## https://www.investopedia.com/terms/a/asi.asp\ndef get_asi(data):\n    _r1 = data.HIGH - data.CLOSE.shift(1)\n    _r2 = data.LOW - data.CLOSE.shift(1)\n    _r3 = data.HIGH - data.LOW\n    _r = np.vstack([_r1.values, _r2.values, _r3.values])\n    \n    r1 = (data.HIGH - data.CLOSE.shift(1)) - 0.5*(data.LOW - data.CLOSE.shift(1)) + 0.25*(data.CLOSE.shift(1) - data.OPEN.shift(1))\n    r2 = (data.LOW - data.CLOSE.shift(1)) - 0.5*(data.HIGH - data.CLOSE.shift(1)) + 0.25*(data.CLOSE.shift(1) - data.OPEN.shift(1))\n    r3 = (data.HIGH - data.LOW) + 0.25*(data.CLOSE.shift(1) - data.OPEN.shift(1))\n    r = np.vstack([r1.values, r2.values, r3.values]).T\n    \n    r = r[np.arange(r.shape[0]), np.argmax(_r, axis=0)]\n    si_nm = ((data.CLOSE.shift(1) - data.CLOSE) + 0.5*(data.CLOSE.shift(1) - data.OPEN.shift(1)) + 0.25*(data.CLOSE - data.OPEN))\n    si = 50*si_nm*np.maximum(data.HIGH.shift(1)-data.CLOSE, data.LOW.shift(1)-data.CLOSE)/r/(data.HIGH - data.LOW)\n    si_avg = pd.Series(si).cumsum()\n    asi = pd.DataFrame({'OPEN_TIME' : data.OPEN_TIME, 'asi' : pd.Series(si).cumsum(), \n                       'asi_si': si, 'asi_r1_e': r1, 'asi_r2_e': r2, 'asi_r3_e':r3, 'asi_nm_e':si_nm})\n    return asi\n\n#v# BB ## https://en.wikipedia.org/wiki/Bollinger_Bands\ndef get_bb(data, period=20, k=2):\n    mb = get_avg(data.CLOSE, type='SMA', period=period)\n    std = data.CLOSE.rolling(period).std()\n    ub = mb + k*std\n    lb = mb - k*std\n    \n    pb = (data.CLOSE - lb) / (ub - lb)\n    bbw = (ub - lb) / mb\n    \n    bb = pd.DataFrame({'OPEN_TIME' : data.OPEN_TIME, \n                        'bb_mb' : mb, 'bb_ub' : ub, \n                        'bb_lb' : lb, 'bb_pb' : pb,  \n                      'bb_bbw' : bbw})\n    return bb\n\n#v# CC ## https://stockcharts.com/school/doku.php?id=chart_school:technical_indicators:coppock_curve\ndef get_cc(data, source='CLOSE', period1=11, period2=14, period_wma=10):\n    p1roc = get_roc(data, source=source, period=period1).roc\n    p2roc = get_roc(data, source=source, period=period2).roc\n    \n    cc = get_avg(p1roc+p2roc, type='WMA', period=period_wma)\n    cc = pd.DataFrame({'OPEN_TIME' : data.OPEN_TIME, 'cc' : cc, 'cc_p1roc_e':p1roc, 'cc_p2roc_e':p2roc})\n    return cc\n\n#v# CCI ## https://en.wikipedia.org/wiki/Commodity_channel_index\ndef get_cci(data, period=14):\n    tp = (data.HIGH + data.LOW + data.CLOSE)/3\n    sma_tp = get_avg(tp, type='SMA', period=period)\n    mad_tp = (sma_tp - tp).abs().rolling(period).mean()\n    \n    cci = (1.0/0.015)*((tp-sma_tp)/mad_tp)\n    \n    cci = pd.DataFrame({'OPEN_TIME':data.OPEN_TIME, 'cci':cci, 'cci_tp_e':tp,\n                       'cci_sma_tp_e':sma_tp, 'cci_mad_tp_e':mad_tp})\n    return cci\n\n#v# CE ## https://stockcharts.com/school/doku.php?id=chart_school:technical_indicators:chandelier_exit\ndef get_ce(data, period=22, k=30):\n    atr = get_atr(data, average='SMMA', period=period).atr\n    ce_long = data.HIGH.rolling(period).max() - atr*k\n    ce_shrt = data.LOW.rolling(period).min() + atr*k\n    \n    ce = pd.DataFrame({'OPEN_TIME' : data.OPEN_TIME, 'ce_long' : ce_long, 'ce_shrt': ce_shrt})\n    return ce\n\n#v# CHOP ## https://www.tradingview.com/wiki/Choppiness_Index_(CHOP)\ndef get_chop(data, period=14):\n    atr = get_atr(data, period=1).atr\n    atr_sum = atr.rolling(period).sum()\n    maxhi = data.HIGH.rolling(period).max()\n    minlo = data.LOW.rolling(period).min()\n    \n    raw_chop = atr_sum/(maxhi - minlo)\n    \n    chop = pd.DataFrame({'OPEN_TIME' : data.OPEN_TIME, 'chop' : raw_chop})\n    return chop\n\n#v# CMO ## https://www.tradingtechnologies.com/help/x-study/technical-indicator-definitions/chande-momentum-oscillator-cmo/\ndef get_cmo(data, source='CLOSE', period=30):\n    ps = ((data[source] > data[source].shift(1)).astype(int)*(data[source] - data[source].shift(1))).rolling(period).sum()\n    ns = ((data[source] < data[source].shift(1)).astype(int)*(data[source].shift(1) - data[source])).rolling(period).sum()\n    cmo = (ps-ns) / (ps+ns) * 100\n    \n    cmo = pd.DataFrame({'OPEN_TIME' : data.OPEN_TIME, 'cmo' : cmo, 'cmo_ps':ps, 'cmo_ns': ns})\n    return cmo\n\n#v# CRSI ## https://www.tradingview.com/wiki/Connors_RSI_(CRSI)\ndef get_csri(data, source='CLOSE', rsi_period=3, updown_length=2, roc_period=100):\n    rsi = get_rsi(data, period=rsi_period).rsi\n    \n    udl = np.zeros_like(data[source].values)\n    trend = 1\n    idx = 1\n    while idx < len(udl):\n        if trend == 1:\n            if data[source][idx] > data[source][idx-1]:\n                udl[idx] = udl[idx-1]+1\n            else:\n                udl[idx] = 1\n                trend = 0\n        elif trend == 0:\n            if data[source][idx] < data[source][idx-1]:\n                udl[idx] = udl[idx-1]+1\n            else:\n                udl[idx] = 1\n                trend = 1\n        idx = idx+1\n    udl_rsi = get_rsi(pd.DataFrame({'OPEN_TIME': data.OPEN_TIME, 'udl':udl}), source='udl', period=updown_length).rsi\n    udl_rsi = udl_rsi.fillna(value=0)\n    \n    roc = get_roc(data, source=source, period=1).roc\n    mroc = roc.rolling(roc_period).apply(lambda x: (x < x[-1]).sum()/float(roc_period)*100)\n    \n    crsi = (rsi + udl_rsi + mroc)/3\n    crsi = pd.DataFrame({'OPEN_TIME':data.OPEN_TIME, 'crsi':crsi, 'crsi_rsi':rsi, 'crsi_udl':udl,\n                         'crsi_udl_rsi':udl_rsi, 'crsi_mroc':mroc})\n    return crsi\n\n#v# DPO ## https://en.wikipedia.org/wiki/Detrended_price_oscillator\ndef get_dpo(data, period=14):\n    dpo = data.CLOSE - get_avg(data.CLOSE, type='SMA', period=period).shift(int(period/2)+1)\n    \n    dpo = pd.DataFrame({'OPEN_TIME':data.OPEN_TIME, 'dpo':dpo})\n    return dpo\n\n#v# DC ## https://www.tradingview.com/wiki/Donchian_Channels_(DC)\ndef get_dc(data, period=30):\n    uc = data.HIGH.rolling(period).max()\n    lc = data.LOW.rolling(period).min()\n    mc = (uc+lc)/2\n    \n    dc = pd.DataFrame({'OPEN_TIME':data.OPEN_TIME, 'dc_uc': uc,\n                      'dc_lc': lc, 'dc_mc': mc})\n    return dc\n\n#v# EOM ## https://www.tradingview.com/wiki/Ease_of_Movement_(EOM)\ndef get_eom(data, period=14):\n    dm = (data.HIGH+data.LOW)/2 - (data.HIGH.shift(1)+data.LOW.shift(1))/2\n    br = data.VOLUME/1000000/(data.HIGH - data.LOW)\n    eom = dm/br\n    eomma = get_avg(eom, type='SMA', period=period)\n    \n    eom = pd.DataFrame({'OPEN_TIME':data.OPEN_TIME, 'eom':eomma,\n                       'eom_dm_e': dm, 'eom_br_e': br})\n    return eom\n\n#v# EFI ## https://www.tradingview.com/wiki/Elder%27s_Force_Index_(EFI)\ndef get_efi(data, period=13):\n    efi = (data.CLOSE - data.CLOSE.shift(1))*data.VOLUME\n    efima = get_avg(efi, type='SMMA', period=period)\n    \n    efi = pd.DataFrame({'OPEN_TIME':data.OPEN_TIME, 'efi':efima,\n                       'efi_raw_e': efi})\n    return efi\n\n#v# ENV ## https://www.tradingview.com/wiki/Envelope_(ENV)\ndef get_env(data, source='CLOSE', period=9, multiplier=0.01):\n    basis = get_avg(data[source], type='SMA', period=period)\n    ue = basis + multiplier*basis\n    le = basis - multiplier*basis\n    \n    env = pd.DataFrame({'OPEN_TIME':data.OPEN_TIME, 'env':basis, \n                        'env_ue':ue, 'env_le': le})\n    return env\n\n#v# FI ## https://stockcharts.com/school/doku.php?id=chart_school:technical_indicators:force_index\ndef get_fi(data, period=13):\n    fi = (data.CLOSE - data.CLOSE.shift(1))*data.VOLUME\n    fi = get_avg(fi, type='SMMA', period=period)\n    \n    fi = pd.DataFrame({'OPEN_TIME':data.OPEN_TIME, 'fi':fi})\n    return fi\n\n#v# KAMA ## https://stockcharts.com/school/doku.php?id=chart_school:technical_indicators:kaufman_s_adaptive_moving_average\ndef get_kama(data, period_er=10, period1_sc=2, period2_sc=30):\n    chng = (data.CLOSE - data.CLOSE.shift(period_er)).abs()\n    vol = (data.CLOSE - data.CLOSE.shift(1)).abs().rolling(period_er).sum()\n    er = chng/vol\n    \n    sc = (er*(2.0/(1+period1_sc) - 2.0/(1+period2_sc)) + 2.0/(1+period2_sc))**2\n    kama = sc*data.CLOSE \n    kama = pd.DataFrame({'OPEN_TIME':data.OPEN_TIME, 'kama':kama, 'kama_er':er, 'kama_sc_e':sc})\n    return kama\n\n#v# KC ## https://www.tradingview.com/wiki/Keltner_Channels_(KC)\ndef get_kc(data, period_basis=30, period_atr=14, multiplier=2):\n    basis = get_avg(data.CLOSE, type='SMMA', period=period_basis)\n    atr = get_atr(data, average='SMMA', period=period_atr).atr\n    ue = basis + multiplier*atr\n    le = basis - multiplier*atr\n    \n    kc = pd.DataFrame({'OPEN_TIME':data.OPEN_TIME, 'kc_ue':ue,\n                         'kc_le': le, 'kc': basis})\n    return kc\n\n#v# KST ## https://www.tradingview.com/wiki/Know_Sure_Thing_(KST)\ndef get_kst(data, source='CLOSE', pROC1=10, pROC2=15, pROC3=20, pROC4=25, pSMA1=10, pSMA2=10, pSMA3=10, pSMA4=15, period=9):\n    roc1 = get_roc(data, source=source, period=pROC1).roc\n    roc2 = get_roc(data, source=source, period=pROC2).roc\n    roc3 = get_roc(data, source=source, period=pROC3).roc\n    roc4 = get_roc(data, source=source, period=pROC4).roc\n    \n    rocma1 = get_avg(roc1, type='SMA', period=pSMA1)\n    rocma2 = get_avg(roc2, type='SMA', period=pSMA2)\n    rocma3 = get_avg(roc3, type='SMA', period=pSMA3)\n    rocma4 = get_avg(roc4, type='SMA', period=pSMA4)\n    \n    kst = rocma1*1 + rocma2*2 + rocma3*3 + rocma4*4\n    kstma = get_avg(kst, type='SMA', period=period)\n    \n    kst = pd.DataFrame({'OPEN_TIME':data.OPEN_TIME, 'kst':kstma,\n                         'kst_raw_e': kst})\n    return kst\n\n#v# MACD ## https://www.tradingview.com/wiki/MACD_(Moving_Average_Convergence/Divergence)\ndef get_macd(data, source='CLOSE', sig_period=9, period1=12, period2=26):\n    p1ema = get_avg(data[source], type='SMMA', period=period1)\n    p2ema = get_avg(data[source], type='SMMA', period=period2)\n    macd_line = p1ema - p2ema\n    sig_line = get_avg(macd_line, type='SMMA', period=sig_period)\n    macd_hist = macd_line - sig_line\n    \n    macd = pd.DataFrame({'OPEN_TIME':data.OPEN_TIME, 'macd':macd_line,\n                         'macd_sig': sig_line, 'macd_hist': macd_hist})\n    return macd\n\n#v# MI ## https://stockcharts.com/school/doku.php?id=chart_school:technical_indicators:mass_index\ndef get_mi(data, period1=9, period2=25):\n    hl = data.HIGH - data.LOW\n    sema = get_avg(hl, type='SMMA', period=period1)\n    dema = get_avg(sema, type='SMMA', period=period2)\n    ema_ratio = sema/dema\n    mi = ema_ratio.rolling(period2).sum()\n    \n    mi = pd.DataFrame({'OPEN_TIME':data.OPEN_TIME, 'mi':mi, 'mi_sema_e':sema, 'mi_dema_e':dema,\n                       'mi_ema_ratio_e':ema_ratio})\n    return mi\n    \n#v# MFI ## https://www.tradingview.com/wiki/Money_Flow_(MFI)\ndef get_mfi(data, period=14):\n    tp = (data.HIGH + data.LOW + data.CLOSE)/3\n    rmf = tp * data.VOLUME\n    \n    pnmf = pd.Series(((rmf > rmf.shift(1)).values.astype(float) - 0.5)*2*rmf)\n    \n    pmf = pnmf.rolling(period).apply(lambda x: ((x>0).astype(int)*x).sum())\n    nmf = pnmf.rolling(period).apply(lambda x: -((x<0).astype(int)*x).sum())\n    \n    mfr = pmf/nmf\n    mfi = 100 - 100/(1+mfr)\n    \n    mfi = pd.DataFrame({'OPEN_TIME':data.OPEN_TIME, 'mfi':mfi, 'mfi_mfr_e':mfr,\n                       'mfi_pmf_e':pmf, 'mfi_nmf_e':nmf, 'mfi_tp_e': tp,\n                       'mfi_rmf_e': rmf})\n    return mfi\n\n#t# NVI ## https://stockcharts.com/school/doku.php?id=chart_school:technical_indicators:negative_volume_inde\ndef get_nvi(data, source='VOLUME', period=255):\n    vo_id = (data.VOLUME < data.VOLUME.shift(1)).values.astype(int)\n    chng = (data[source] - data[source].shift(1))/data[source].shift(1)\n    \n    nvi = (vo_id*chng).cumsum()\n    nvi = get_avg(nvi, type='SMMA', period=period)\n    \n    nvi = pd.DataFrame({'OPEN_TIME':data.OPEN_TIME, 'nvi':nvi})\n    return nvi\n\n#t# OBV ## https://www.tradingview.com/wiki/On_Balance_Volume_(OBV)\ndef get_obv(data):\n    obv = ((data.CLOSE - data.CLOSE.shift(1)).values.astype(float) - 0.5)*2*data.VOLUME\n    obv = obv.cumsum()\n    obv = pd.DataFrame({'OPEN_TIME':data.OPEN_TIME, 'obv':obv})\n    return obv\n\n#v# SAR ## https://www.tradingview.com/wiki/Parabolic_SAR_(SAR)\ndef get_sar(data, af=0.02, af_inc=0.01, af_max=0.2):\n    sar = np.zeros_like(data.CLOSE.values)\n    trd = np.zeros_like(data.CLOSE.values)\n    \n    if data.CLOSE[0] < data.CLOSE[1]:\n        trend = 1\n        trd[0] = 1\n        sar[0] = data.HIGH[0]\n        ext = data.LOW[0]\n    else:\n        trend = 0\n        trd[0] = 0\n        sar[0] = data.LOW[0]\n        ext = data.HIGH[0]\n    \n    idx = 1\n    af_curr = af\n    while idx < len(sar):\n        trd[idx] = trend\n        sar[idx] = sar[idx-1] + af_curr * (ext - sar[idx-1])\n        af_curr = min(af_curr + af_inc, af_max)\n        if trend == 1:\n            if data.HIGH[idx] > sar[idx]:\n                trend = 0\n                sar[idx] = ext\n                ext = data.HIGH[idx]\n                af_curr = af\n            else:\n                ext = min(ext, data.LOW[idx])\n        elif trend == 0:\n            if data.LOW[idx] < sar[idx]:\n                trend = 1\n                sar[idx] = ext\n                ext = data.LOW[idx]\n                af_curr = af\n            else:\n                ext = max(ext, data.HIGH[idx])\n        idx = idx + 1\n    \n    sar = pd.DataFrame({'OPEN_TIME':data.OPEN_TIME, 'sar':sar, 'sar_trd':trd})\n    return sar\n\n#v# PO ## https://www.tradingview.com/wiki/Price_Oscillator_(PPO)\ndef get_po(data, source='CLOSE', period1=12, period2=26, period_sig=9):\n    po1 = get_avg(data[source], type='SMMA', period=period1)\n    po2 = get_avg(data[source], type='SMMA', period=period2)\n    \n    po = (po1 - po2) / po2\n    \n    sig = get_avg(po, type='SMMA', period=period_sig)\n    \n    hist = po - sig\n    \n    po = pd.DataFrame({'OPEN_TIME':data.OPEN_TIME, 'po':po, 'po_sig':sig, 'po_hist':hist, 'po_po1_e':po1, 'po_po2_e':po2})\n    return po\n\n#v# PVT ## https://www.tradingview.com/wiki/Price_Volume_Trend_(PVT)\ndef get_pvt(data):\n    raw_pvt = data.VOLUME * (data.CLOSE - data.CLOSE.shift(1))/data.CLOSE.shift(1) * data.VOLUME\n    pvt = raw_pvt.cumsum()\n    pvt = pd.DataFrame({'OPEN_TIME':data.OPEN_TIME, 'pvt':pvt,\n                       'pvt_raw_e': raw_pvt})\n    return pvt\n    \n#v# ROC ## https://www.tradingview.com/wiki/Rate_of_Change_(ROC)\ndef get_roc(data, source='CLOSE', period=14):\n    roc = 100*(data[source] - data[source].shift(period))/data[source].shift(period)\n    roc = pd.DataFrame({'OPEN_TIME':data.OPEN_TIME, 'roc':roc})\n    return roc\n\n#v# RSI ## https://www.tradingview.com/wiki/Relative_Strength_Index_(RSI)\ndef get_rsi(data, source='CLOSE', period=14):\n    diff = (data[source] - data[source].shift(1)).values\n    gain = (diff > 0).astype(int) * diff\n    loss = (diff < 0).astype(int) * -diff\n    \n    gain_ma = get_avg(gain, type='SMA', period=period)\n    loss_ma = get_avg(loss, type='SMA', period=period)\n    \n    rs = gain_ma/loss_ma\n    \n    rsi = 100 - (100 / (1 + rs))\n    rsi = pd.DataFrame({'OPEN_TIME':data.OPEN_TIME, 'rsi':rsi, 'rsi_rs_e':rs,\n                       'rsi_diff_e': diff, 'rsi_gain_e': gain,\n                       'rsi_loss_e': loss, 'rsi_gain_ma_e': gain_ma,\n                       'rsi_loss_ma_e': loss_ma})\n    return rsi\n\n#v# SCTR ## https://stockcharts.com/school/doku.php?id=chart_school:technical_indicators:sctr\ndef get_sctr(data, source='CLOSE', period1ab=200, period1roc=125, period2ab=50, period2roc=20, periodrsi=14):\n    pab200 = (data[source] - get_avg(data[source], type='SMA', period=period1ab))/get_avg(data[source], type='SMA', period=period1ab)\n    roc125 = get_roc(data, source=source, period=period1roc).roc\n    \n    pab50 = (data[source] - get_avg(data[source], type='SMA', period=period2ab))/get_avg(data[source], type='SMA', period=period2ab)\n    roc20 = get_roc(data, source=source, period=period2roc).roc\n    \n    rsi = get_rsi(data, source=source, period=periodrsi).rsi\n    \n    sctr = 0.3*pab200 + 0.3*roc125 + 0.15*pab50 + 0.15*roc20 + 0.1*rsi\n    \n    sctr = pd.DataFrame({'OPEN_TIME':data.OPEN_TIME, 'sctr':sctr})\n    return sctr\n\n## SFS\n#v# STOCH ## https://www.tradingview.com/wiki/Stochastic_(STOCH)\ndef get_stoch(data, source='CLOSE', period_k=14, smooth_k=3, smooth_d=3):\n    pK_series = (data[source] - data.LOW.rolling(period_k).min())/(data.HIGH.rolling(period_k).max() - data.LOW.rolling(period_k).min())\n    pK = get_avg(pK_series, type='SMA', period=smooth_k)\n    pD = get_avg(pK, type='SMA', period=smooth_d)\n    \n    stoch = pd.DataFrame({'OPEN_TIME':data.OPEN_TIME, 'stoch_pK':pK,\n                       'stoch_pD': pD, 'stoch_pK_s_e': pK_series})\n    return stoch\n\n#v# TSI ## https://stockcharts.com/school/doku.php?id=chart_school:technical_indicators:true_strength_index\ndef get_tsi(data, period1=13, period2=25):\n    pc = data.CLOSE - data.CLOSE.shift(1)\n    pc_fs = get_avg(pc, type='SMMA', period=period1)\n    pc_ss = get_avg(pc_fs, type='SMMA', period=period2)\n    \n    apc = (data.CLOSE - data.CLOSE.shift(1)).abs()\n    apc_fs = get_avg(apc, type='SMMA', period=period1)\n    apc_ss = get_avg(apc_fs, type='SMMA', period=period2)\n    \n    tsi = 100 * pc_ss/apc_ss\n    tsi = pd.DataFrame({'OPEN_TIME':data.OPEN_TIME, 'tsi':tsi, 'tsi_pc_ss_e':pc_ss, 'tsi_apc_ss_e':apc_ss})\n    return tsi\n    \n#v# TRIX ## https://www.tradingview.com/wiki/TRIX\ndef get_trix(data, source='CLOSE', period=18):\n    ssmma = get_avg(data[source], type='SMMA', period=period)\n    dsmma = get_avg(ssmma, type='SMMA', period=period)\n    tsmma = get_avg(dsmma, type='SMMA', period=period)\n    \n    pdiff = (tsmma - tsmma.shift(1))/tsmma.shift(1)\n    \n    trix = pd.DataFrame({'OPEN_TIME':data.OPEN_TIME, 'trix':pdiff, \n                         'trix_ssmma_e':ssmma,\n                         'trix_dsmma_e':dsmma,\n                         'trix_tsmma_e':tsmma})\n    return trix\n\n#v# UI ## https://stockcharts.com/school/doku.php?id=chart_school:technical_indicators:ulcer_index\ndef get_ui(data, period=14):\n    pdn = (data.CLOSE - data.CLOSE.rolling(period).max())/data.CLOSE.rolling(period).max()*100\n    sa = pdn.rolling(14).std()\n    sa = pd.DataFrame({'OPEN_TIME':data.OPEN_TIME, 'sa':sa, 'sa_pd':pdn})\n    return sa\n\n#v# UO ## https://www.tradingview.com/wiki/Ultimate_Oscillator_(UO)\ndef get_uo(data, period1=7, period2=14, period3=28):\n    tl = pd.Series(np.minimum(data.LOW, data.CLOSE.shift(1))) # true low\n    bp = data.CLOSE - tl # buying pressure\n    \n    tr = pd.Series(np.maximum(data.HIGH, data.CLOSE.shift(1)) - np.minimum(data.LOW, data.CLOSE.shift(1)))\n    \n    s1 = bp.rolling(period1).sum()/tr.rolling(period1).sum()\n    s2 = bp.rolling(period2).sum()/tr.rolling(period2).sum()\n    s3 = bp.rolling(period3).sum()/tr.rolling(period3).sum()\n    \n    min_period = min(period1, min(period2, period3))\n    max_period = max(period1, max(period2, period3))\n    mid_period = period1+period2+period3 - min_period - max_period\n    \n    if min_period==period1:\n        if period2 > period3:\n            _ = s2\n            s2 = s3\n            s3 = _\n    elif min_period==period2:\n        _ = s1\n        s1 = s2\n        if period1 < period3:\n            s2 = _\n        else:\n            s2 = s3\n            s3 = _\n    elif min_period==period3:\n        _ = s1\n        s1 = s3\n        if period1 < period2:\n            s3 = s2\n            s2 = _\n        else:\n            s3 = _\n    \n    uo = 100*(max_period*s1 + mid_period*s2 + min_period*s3)/(max_period+mid_period+min_period)\n    uo = pd.DataFrame({'OPEN_TIME':data.OPEN_TIME, 'uo':uo, 'uo_tl_e':tl,\n                       'uo_bp_e':bp, 'uo_tr_e':tr, 'uo_s1_e':s1,\n                       'uo_s2_e':s2, 'uo_s3_e':s3})\n    return uo\n\n#v# VA ## http://www.onlinetradingconcepts.com/TechnicalAnalysis/VolumeAccumulation.html\ndef get_va(data):\n    va = data.VOLUME*(data.CLOSE - (data.HIGH+data.LOW)/2)\n    va = pd.DataFrame({'OPEN_TIME':data.OPEN_TIME, 'va':va})\n    return va\n    \n#v# VI ## https://stockcharts.com/school/doku.php?id=chart_school:technical_indicators:vortex_indicator\ndef get_vi(data, period=14):\n    pVM = (data.HIGH - data.LOW.shift(1)).abs().rolling(period).sum()\n    nVM = (data.LOW - data.HIGH.shift(1)).abs().rolling(period).sum()\n    \n    tr = get_atr(data, average='SMMA', period=period).atr_tr.rolling(period).sum()\n    \n    pVI = pVM/tr\n    nVI = nVM/tr\n    \n    vi = pd.DataFrame({'OPEN_TIME':data.OPEN_TIME, 'vi_pVI':pVI, 'vi_nVI':nVI,\n                      'vi_pVM_e':pVM, 'vi_nVM_e':nVM})\n    return vi\n\n#v# VWAP ## https://www.tradingview.com/wiki/Volume_Weighted_Average_Price_(VWAP)\ndef get_vwap(data, period=30):\n    tp = (data.HIGH + data.LOW + data.CLOSE)/3\n    tp_v = tp*data.VOLUME\n    \n    vwap = tp_v.rolling(period).sum()/tp.rolling(period).sum()\n    vwap = pd.DataFrame({'OPEN_TIME':data.OPEN_TIME, 'vwap':vwap, 'vwap_tp_e':tp,\n                       'vwap_tp_v_e':tp_v})\n    return vwap\n\n#v# WR ## https://www.tradingview.com/wiki/Williams_%25R_(%25R)\ndef get_wr(data, period=30):\n    hh = data.HIGH.rolling(period).max()\n    ll = data.LOW.rolling(period).min()\n    \n    wr = (hh - data.CLOSE)/(hh - ll)\n    wr = pd.DataFrame({'OPEN_TIME':data.OPEN_TIME, 'wr':wr, 'wr_hh_e':hh, 'wr_ll_e':ll})\n    \n    return wr",
      "execution_count": 5,
      "outputs": []
    },
    {
      "metadata": {
        "ExecuteTime": {
          "start_time": "2019-02-22T22:18:12.277830Z",
          "end_time": "2019-02-22T22:18:12.281846Z"
        },
        "collapsed": true,
        "trusted": false
      },
      "cell_type": "code",
      "source": "AVERAGE_TYPES = ['SMA', 'WMA', 'SMMA']\nPERIODS = [10, 30, 60, 180, 300]\nSOURCES = ['OPEN', 'CLOSE', 'HIGH', 'LOW']",
      "execution_count": 6,
      "outputs": []
    },
    {
      "metadata": {
        "ExecuteTime": {
          "start_time": "2019-02-22T22:18:12.400277Z",
          "end_time": "2019-02-22T22:18:12.410356Z"
        },
        "collapsed": true,
        "code_folding": [],
        "trusted": false
      },
      "cell_type": "code",
      "source": "config1 = {\n    'get_atr'    : {                    'period': PERIODS, 'average': AVERAGE_TYPES },\n    'get_ad'     : {},\n    'get_abands' : {                    'period': PERIODS, 'alpha': [1, 3, 10, 30, 100] },\n    'get_adx'    : {                    'period': PERIODS },\n    'get_ao'     : {                    'period1': PERIODS, 'period2': PERIODS },\n    'get_asi'    : { },\n    'get_bb'     : {                    'period': PERIODS, 'k': [1, 3, 10, 30] },\n    'get_cci'    : {                    'period': PERIODS },\n    'get_ce'     : {                    'period': PERIODS, 'k': [1, 3, 10, 30] },\n    'get_chop'   : {                    'period': PERIODS },\n    'get_cmo'    : { 'source': SOURCES, 'period': PERIODS }\n}",
      "execution_count": 7,
      "outputs": []
    },
    {
      "metadata": {
        "ExecuteTime": {
          "start_time": "2019-02-22T22:18:13.146022Z",
          "end_time": "2019-02-22T22:18:13.168504Z"
        },
        "collapsed": true,
        "code_folding": [
          0
        ],
        "trusted": false
      },
      "cell_type": "code",
      "source": "config2 = {\n    'get_dpo'    : {                    'period': PERIODS },\n    'get_dc'     : {                    'period': PERIODS },\n    'get_eom'    : {                    'period': PERIODS },\n    'get_efi'    : {                    'period': PERIODS },\n    'get_env'    : { 'source': SOURCES, 'period': PERIODS, 'multiplier': [0.01, 0.03, 0.1, 0.3, 0.75] },\n    'get_fi'     : {                    'period': PERIODS },\n    'get_kama'   : {                    'period_er': PERIODS, 'period1_sc': PERIODS, 'period2_sc': PERIODS },\n    'get_kc'     : {                    'period_basis': PERIODS, 'period_atr': PERIODS, 'multiplier': [1, 3, 10, 30] },\n    'get_kst'    : { 'source': SOURCES, 'pROC1': [10], 'pROC2': [15], 'pROC3': [20], 'pROC4': [25], 'pSMA1': [10], 'pSMA2': [10], 'pSMA3': [10], 'pSMA4': [15], 'period': [9] },\n    'get_macd'   : { 'source': SOURCES, 'sig_period': PERIODS, 'period1': PERIODS, 'period2': PERIODS },\n    'get_mi'     : {                    'period1': PERIODS, 'period2': PERIODS },\n    'get_nvi'    : { 'source': SOURCES, 'period': PERIODS },\n    'get_obv'    : { }\n}",
      "execution_count": 8,
      "outputs": []
    },
    {
      "metadata": {
        "ExecuteTime": {
          "start_time": "2019-02-22T22:18:13.882830Z",
          "end_time": "2019-02-22T22:18:13.897489Z"
        },
        "collapsed": true,
        "code_folding": [
          0
        ],
        "trusted": false
      },
      "cell_type": "code",
      "source": "config3 = {\n    'get_po'     : { 'source': SOURCES, 'period1': PERIODS, 'period2': PERIODS, 'period_sig': PERIODS },\n    'get_pvt'    : { },\n    'get_roc'    : { 'source': SOURCES, 'period': PERIODS },\n    'get_rsi'    : { 'source': SOURCES, 'period': PERIODS },\n    'get_sctr'   : { 'source': SOURCES, 'period1ab': [200], 'period1roc': [125], 'period2ab': [50], 'period2roc': [20], 'periodrsi': [14] },\n    'get_tsi'    : {                    'period1': PERIODS, 'period2': PERIODS },\n    'get_trix'   : { 'source': SOURCES, 'period': PERIODS },\n    'get_ui'     : {                    'period': PERIODS },\n    'get_uo'     : {                    'period1': PERIODS, 'period2': PERIODS, 'period3': PERIODS },\n    'get_va'     : { },\n    'get_vi'     : {                    'period': PERIODS },\n    'get_vwap'   : {                    'period': PERIODS },\n    'get_wr'     : {                    'period': PERIODS },\n}",
      "execution_count": 9,
      "outputs": []
    },
    {
      "metadata": {
        "ExecuteTime": {
          "start_time": "2019-02-22T22:18:14.213336Z",
          "end_time": "2019-02-22T22:18:14.220708Z"
        },
        "collapsed": true,
        "code_folding": [
          0
        ],
        "trusted": false
      },
      "cell_type": "code",
      "source": "config4 = {\n    'get_alma'   : { 'source': SOURCES, 'period': PERIODS, 'sigma': [1, 3, 10], 'offset': [0.85] },\n    'get_aroon'  : { 'source': SOURCES, 'period': PERIODS },\n    'get_cc'     : { 'source': SOURCES, 'period1': PERIODS, 'period2': PERIODS, 'period_wma': PERIODS },\n    'get_stoch'  : { 'source': SOURCES, 'period_k': PERIODS, 'smooth_k': PERIODS, 'smooth_d': PERIODS }\n}",
      "execution_count": 10,
      "outputs": []
    },
    {
      "metadata": {
        "ExecuteTime": {
          "start_time": "2019-02-22T22:18:14.570638Z",
          "end_time": "2019-02-22T22:18:14.575491Z"
        },
        "collapsed": true,
        "code_folding": [
          0
        ],
        "trusted": false
      },
      "cell_type": "code",
      "source": "config5 = {\n    'get_sar'    : {                    'af': [0.01, 0.03, 0.1], 'af_inc': [0.01, 0.03, 0.1], 'af_max': [0.03, 0.1, 0.3] },\n    'get_mfi'    : {                    'period': PERIODS }\n}",
      "execution_count": 11,
      "outputs": []
    },
    {
      "metadata": {
        "ExecuteTime": {
          "start_time": "2019-02-22T22:18:15.102273Z",
          "end_time": "2019-02-22T22:18:15.106452Z"
        },
        "collapsed": true,
        "code_folding": [
          0
        ],
        "trusted": false
      },
      "cell_type": "code",
      "source": "config6 = {\n    'get_csri'   : { 'source': SOURCES, 'rsi_period': PERIODS, 'updown_length': [1, 3, 10], 'roc_period': PERIODS }\n}",
      "execution_count": 12,
      "outputs": []
    },
    {
      "metadata": {
        "ExecuteTime": {
          "start_time": "2019-01-31T21:19:10.095086Z",
          "end_time": "2019-01-31T21:19:10.101938Z"
        },
        "collapsed": true,
        "trusted": false
      },
      "cell_type": "code",
      "source": "from itertools import product\ndef cart_prod(config):\n    return (dict(zip(config.keys(), values)) for values in product(*config.values()))",
      "execution_count": null,
      "outputs": []
    },
    {
      "metadata": {},
      "cell_type": "raw",
      "source": "feats_list = pkl.load(open('data/tech.pkl', 'rb'))\nfeats_merged = pd.concat(feats_list, axis=1, copy=False)\n#feats_merged = feats_merged.drop(['OPEN_TIME']*len(feats_list), axis=1)\n\nfeats_merged.insert(0, 'OPEN_TIME', df.OPEN_TIME)\nfeats_merged.tail()"
    },
    {
      "metadata": {
        "scrolled": false,
        "ExecuteTime": {
          "start_time": "2019-01-31T21:22:35.013953Z",
          "end_time": "2019-01-31T21:24:37.258209Z"
        },
        "collapsed": true,
        "trusted": false
      },
      "cell_type": "code",
      "source": "for i, config in enumerate([config3, config4, config5, config6]):\n    feats_list = []\n\n    for feat, args_config in config.iteritems():\n        for args in cart_prod(args_config):\n            strt = time.time()\n\n            _ = globals()[feat](df, **args)\n            params = '_'.join([x[0]+'_'+str(x[1]) for x in args.iteritems()])\n            _ = _.loc[:, [x for x in _.columns if x != 'OPEN_TIME']]\n            _.columns = [x+'_|_'+params if x != 'OPEN_TIME' else x for x in _.columns]\n\n            feats_list.append(_)\n\n            print(feat, args, time.time() - strt)\n\n    f = open('data/TECHNICAL__'+str(i)+'__'+file+'__.pkl', 'wb')\n    pkl.dump(feats_list, f, -1)\n    f.close()\n    \n    print('config'+str(i))",
      "execution_count": null,
      "outputs": []
    },
    {
      "metadata": {
        "collapsed": true
      },
      "cell_type": "raw",
      "source": "feats_merged.shape\n\nfeats_merged.T.drop_duplicates()"
    },
    {
      "metadata": {
        "scrolled": false,
        "collapsed": true
      },
      "cell_type": "raw",
      "source": "time = 300\n\nplt.figure(figsize=(20,10))\nplt.plot(df.CLOSE[-time:])\nplt.show()\n\nplt.figure(figsize=(20,10))\nplt.plot(d.wr[-time:])\nplt.show()"
    },
    {
      "metadata": {
        "collapsed": true
      },
      "cell_type": "raw",
      "source": "globals()['get_vwap'](df)"
    }
  ],
  "metadata": {
    "kernelspec": {
      "name": "python2",
      "display_name": "Python 2",
      "language": "python"
    },
    "varInspector": {
      "kernels_config": {
        "python": {
          "delete_cmd_postfix": "",
          "library": "var_list.py",
          "delete_cmd_prefix": "del ",
          "varRefreshCmd": "print(var_dic_list())"
        },
        "r": {
          "delete_cmd_postfix": ") ",
          "library": "var_list.r",
          "delete_cmd_prefix": "rm(",
          "varRefreshCmd": "cat(var_dic_list()) "
        }
      },
      "cols": {
        "lenType": 16,
        "lenName": 16,
        "lenVar": 40
      },
      "types_to_exclude": [
        "module",
        "function",
        "builtin_function_or_method",
        "instance",
        "_Feature"
      ],
      "window_display": false
    },
    "language_info": {
      "mimetype": "text/x-python",
      "nbconvert_exporter": "python",
      "name": "python",
      "pygments_lexer": "ipython2",
      "version": "2.7.15+",
      "file_extension": ".py",
      "codemirror_mode": {
        "version": 2,
        "name": "ipython"
      }
    },
    "gist": {
      "id": "",
      "data": {
        "description": "Indicators_Technical.ipynb",
        "public": false
      }
    }
  },
  "nbformat": 4,
  "nbformat_minor": 2
}