{
  "cells": [
    {
      "metadata": {
        "ExecuteTime": {
          "start_time": "2019-02-22T22:00:03.937632Z",
          "end_time": "2019-02-22T22:00:03.943216Z"
        },
        "trusted": true
      },
      "cell_type": "code",
      "source": "from IPython.core.interactiveshell import InteractiveShell\nInteractiveShell.ast_node_interactivity = \"all\"",
      "execution_count": 1,
      "outputs": []
    },
    {
      "metadata": {
        "ExecuteTime": {
          "start_time": "2019-02-22T22:00:03.945812Z",
          "end_time": "2019-02-22T22:00:05.347351Z"
        },
        "trusted": true
      },
      "cell_type": "code",
      "source": "import pandas as pd\nimport talib\nimport pickle as pkl",
      "execution_count": 2,
      "outputs": []
    },
    {
      "metadata": {
        "ExecuteTime": {
          "start_time": "2019-02-22T22:00:43.205858Z",
          "end_time": "2019-02-22T22:00:43.365623Z"
        },
        "trusted": true
      },
      "cell_type": "code",
      "source": "def get_talib_feats(data):\n    o = data.OPEN.values.astype(float)\n    h = data.HIGH.values.astype(float)\n    l = data.LOW.values.astype(float)\n    c = data.CLOSE.values.astype(float)\n    \n    feats = pd.DataFrame({'OPEN_TIME': data.OPEN_TIME})\n\n    feats['PR_CDL2CROWS'          ] = talib.CDL2CROWS           (o, h, l, c)/100\n    feats['PR_CDL3BLACKCROWS'     ] = talib.CDL3BLACKCROWS      (o, h, l, c)/100\n    feats['PR_CDL3INSIDE'         ] = talib.CDL3INSIDE          (o, h, l, c)/100\n    feats['PR_CDL3LINESTRIKE'     ] = talib.CDL3LINESTRIKE      (o, h, l, c)/100\n    feats['PR_CDL3OUTSIDE'        ] = talib.CDL3OUTSIDE         (o, h, l, c)/100\n    feats['PR_CDL3STARSINSOUTH'   ] = talib.CDL3STARSINSOUTH    (o, h, l, c)/100\n    feats['PR_CDL3WHITESOLDIERS'  ] = talib.CDL3WHITESOLDIERS   (o, h, l, c)/100\n    feats['PR_CDLABANDONEDBABY'   ] = talib.CDLABANDONEDBABY    (o, h, l, c)/100\n    feats['PR_CDLADVANCEBLOCK'    ] = talib.CDLADVANCEBLOCK     (o, h, l, c)/100\n    feats['PR_CDLBELTHOLD'        ] = talib.CDLBELTHOLD         (o, h, l, c)/100\n    feats['PR_CDLBREAKAWAY'       ] = talib.CDLBREAKAWAY        (o, h, l, c)/100\n    feats['PR_CDLCLOSINGMARUBOZU' ] = talib.CDLCLOSINGMARUBOZU  (o, h, l, c)/100\n    feats['PR_CDLCONCEALBABYSWALL'] = talib.CDLCONCEALBABYSWALL (o, h, l, c)/100\n    feats['PR_CDLCOUNTERATTACK'   ] = talib.CDLCOUNTERATTACK    (o, h, l, c)/100\n    feats['PR_CDLDARKCLOUDCOVER'  ] = talib.CDLDARKCLOUDCOVER   (o, h, l, c)/100\n    feats['PR_CDLDOJI'            ] = talib.CDLDOJI             (o, h, l, c)/100\n    feats['PR_CDLDOJISTAR'        ] = talib.CDLDOJISTAR         (o, h, l, c)/100\n    feats['PR_CDLDRAGONFLYDOJI'   ] = talib.CDLDRAGONFLYDOJI    (o, h, l, c)/100\n    feats['PR_CDLENGULFING'       ] = talib.CDLENGULFING        (o, h, l, c)/100\n    feats['PR_CDLEVENINGDOJISTAR' ] = talib.CDLEVENINGDOJISTAR  (o, h, l, c)/100\n    feats['PR_CDLEVENINGSTAR'     ] = talib.CDLEVENINGSTAR      (o, h, l, c)/100\n    feats['PR_CDLGAPSIDESIDEWHITE'] = talib.CDLGAPSIDESIDEWHITE (o, h, l, c)/100\n    feats['PR_CDLGRAVESTONEDOJI'  ] = talib.CDLGRAVESTONEDOJI   (o, h, l, c)/100\n    feats['PR_CDLHAMMER'          ] = talib.CDLHAMMER           (o, h, l, c)/100\n    feats['PR_CDLHANGINGMAN'      ] = talib.CDLHANGINGMAN       (o, h, l, c)/100\n    feats['PR_CDLHARAMI'          ] = talib.CDLHARAMI           (o, h, l, c)/100\n    feats['PR_CDLHARAMICROSS'     ] = talib.CDLHARAMICROSS      (o, h, l, c)/100\n    feats['PR_CDLHIGHWAVE'        ] = talib.CDLHIGHWAVE         (o, h, l, c)/100\n    feats['PR_CDLHIKKAKE'         ] = talib.CDLHIKKAKE          (o, h, l, c)/100\n    feats['PR_CDLHIKKAKEMOD'      ] = talib.CDLHIKKAKEMOD       (o, h, l, c)/100\n    feats['PR_CDLHOMINGPIGEON'    ] = talib.CDLHOMINGPIGEON     (o, h, l, c)/100\n    feats['PR_CDLIDENTICAL3CROWS' ] = talib.CDLIDENTICAL3CROWS  (o, h, l, c)/100\n    feats['PR_CDLINNECK'          ] = talib.CDLINNECK           (o, h, l, c)/100\n    feats['PR_CDLINVERTEDHAMMER'  ] = talib.CDLINVERTEDHAMMER   (o, h, l, c)/100\n    feats['PR_CDLKICKING'         ] = talib.CDLKICKING          (o, h, l, c)/100\n    feats['PR_CDLKICKINGBYLENGTH' ] = talib.CDLKICKINGBYLENGTH  (o, h, l, c)/100\n    feats['PR_CDLLADDERBOTTOM'    ] = talib.CDLLADDERBOTTOM     (o, h, l, c)/100\n    feats['PR_CDLLONGLEGGEDDOJI'  ] = talib.CDLLONGLEGGEDDOJI   (o, h, l, c)/100\n    feats['PR_CDLLONGLINE'        ] = talib.CDLLONGLINE         (o, h, l, c)/100\n    feats['PR_CDLMARUBOZU'        ] = talib.CDLMARUBOZU         (o, h, l, c)/100\n    feats['PR_CDLMATCHINGLOW'     ] = talib.CDLMATCHINGLOW      (o, h, l, c)/100\n    feats['PR_CDLMATHOLD'         ] = talib.CDLMATHOLD          (o, h, l, c)/100\n    feats['PR_CDLMORNINGDOJISTAR' ] = talib.CDLMORNINGDOJISTAR  (o, h, l, c)/100\n    feats['PR_CDLMORNINGSTAR'     ] = talib.CDLMORNINGSTAR      (o, h, l, c)/100\n    feats['PR_CDLONNECK'          ] = talib.CDLONNECK           (o, h, l, c)/100\n    feats['PR_CDLPIERCING'        ] = talib.CDLPIERCING         (o, h, l, c)/100\n    feats['PR_CDLRICKSHAWMAN'     ] = talib.CDLRICKSHAWMAN      (o, h, l, c)/100\n    feats['PR_CDLRISEFALL3METHODS'] = talib.CDLRISEFALL3METHODS (o, h, l, c)/100\n    feats['PR_CDLSEPARATINGLINES' ] = talib.CDLSEPARATINGLINES  (o, h, l, c)/100\n    feats['PR_CDLSHOOTINGSTAR'    ] = talib.CDLSHOOTINGSTAR     (o, h, l, c)/100\n    feats['PR_CDLSHORTLINE'       ] = talib.CDLSHORTLINE        (o, h, l, c)/100\n    feats['PR_CDLSPINNINGTOP'     ] = talib.CDLSPINNINGTOP      (o, h, l, c)/100\n    feats['PR_CDLSTALLEDPATTERN'  ] = talib.CDLSTALLEDPATTERN   (o, h, l, c)/100\n    feats['PR_CDLSTICKSANDWICH'   ] = talib.CDLSTICKSANDWICH    (o, h, l, c)/100\n    feats['PR_CDLTAKURI'          ] = talib.CDLTAKURI           (o, h, l, c)/100\n    feats['PR_CDLTASUKIGAP'       ] = talib.CDLTASUKIGAP        (o, h, l, c)/100\n    feats['PR_CDLTHRUSTING'       ] = talib.CDLTHRUSTING        (o, h, l, c)/100\n    feats['PR_CDLTRISTAR'         ] = talib.CDLTRISTAR          (o, h, l, c)/100\n    feats['PR_CDLUNIQUE3RIVER'    ] = talib.CDLUNIQUE3RIVER     (o, h, l, c)/100\n    feats['PR_CDLUPSIDEGAP2CROWS' ] = talib.CDLUPSIDEGAP2CROWS  (o, h, l, c)/100\n    feats['PR_CDLXSIDEGAP3METHODS'] = talib.CDLXSIDEGAP3METHODS (o, h, l, c)/100\n    \n    return feats",
      "execution_count": 3,
      "outputs": []
    },
    {
      "metadata": {
        "ExecuteTime": {
          "start_time": "2019-02-22T22:00:44.795244Z",
          "end_time": "2019-02-22T22:00:47.271354Z"
        },
        "trusted": true
      },
      "cell_type": "code",
      "source": "file = 'ETHBTC_1m_1519496760000_1549568220000.csv'\ndata = pd.read_csv('data/'+file)\n\nall_feat = get_talib_feats(data)\nf = open('data/TALIB_'+file+'_.pkl', 'wb')\npkl.dump(all_feat, f, -1)\nf.close()",
      "execution_count": 4,
      "outputs": []
    },
    {
      "metadata": {},
      "cell_type": "raw",
      "source": "config = {\n    # Volume Indicators\n    'AD'        :[high, low, close, volume       ],\n    'ADOSC'     :[high, low, close, volume, 2, 10], # 'fastperiod':3, 'slowperiod':10\n    'OBV'       :[           close, volume       ],\n    \n    # Volatility Indicators\n    'ATR'       :[high, low, close, 14], # 'timeperiod':14\n    'NATR'      :[high, low, close, 14], # 'timeperiod':14\n    'TRANGE'    :[high, low, close    ],\n    \n    # Price Transforms\n    'AVGPRICE'  :[open, high, low, close],\n    'MEDPRICE'  :[      high, low       ],\n    'TYPPRICE'  :[      high, low, close],\n    'WCLPRICE'  :[      high, low, close],\n    \n    # Hilbert Functions\n    'HT_DCPERIOD'  :[close],\n    'HT_DCPHASE'   :[close],\n    'HT_PHASOR'    :[close],\n    'HT_SINE'      :[close],\n    'HT_TRENDMODE' :[close],\n    \n    'CDL2CROWS'           :[open, high, low, close],\n    'CDL3BLACKCROWS'      :[open, high, low, close],\n    'CDL3INSIDE'          :[open, high, low, close],\n    'CDL3LINESTRIKE'      :[open, high, low, close],\n    'CDL3OUTSIDE'         :[open, high, low, close],\n    'CDL3STARSINSOUTH'    :[open, high, low, close],\n    'CDL3WHITESOLDIERS'   :[open, high, low, close],\n    'CDLABANDONEDBABY'    :[open, high, low, close],\n    'CDLADVANCEBLOCK'     :[open, high, low, close],\n    'CDLBELTHOLD'         :[open, high, low, close],\n    'CDLBREAKAWAY'        :[open, high, low, close],\n    'CDLCLOSINGMARUBOZU'  :[open, high, low, close],\n    'CDLCONCEALBABYSWALL' :[open, high, low, close],\n    'CDLCOUNTERATTACK'    :[open, high, low, close],\n    'CDLDARKCLOUDCOVER'   :[open, high, low, close],\n    'CDLDOJI'             :[open, high, low, close],\n    'CDLDOJISTAR'         :[open, high, low, close],\n    'CDLDRAGONFLYDOJI'    :[open, high, low, close],\n    'CDLENGULFING'        :[open, high, low, close],\n    'CDLEVENINGDOJISTAR'  :[open, high, low, close],\n    'CDLEVENINGSTAR'      :[open, high, low, close],\n    'CDLGAPSIDESIDEWHITE' :[open, high, low, close],\n    'CDLGRAVESTONEDOJI'   :[open, high, low, close],\n    'CDLHAMMER'           :[open, high, low, close],\n    'CDLHANGINGMAN'       :[open, high, low, close],\n    'CDLHARAMI'           :[open, high, low, close],\n    'CDLHARAMICROSS'      :[open, high, low, close],\n    'CDLHIGHWAVE'         :[open, high, low, close],\n    'CDLHIKKAKE'          :[open, high, low, close],\n    'CDLHIKKAKEMOD'       :[open, high, low, close],\n    'CDLHOMINGPIGEON'     :[open, high, low, close],\n    'CDLIDENTICAL3CROWS'  :[open, high, low, close],\n    'CDLINNECK'           :[open, high, low, close],\n    'CDLINVERTEDHAMMER'   :[open, high, low, close],\n    'CDLKICKING'          :[open, high, low, close],\n    'CDLKICKINGBYLENGTH'  :[open, high, low, close],\n    'CDLLADDERBOTTOM'     :[open, high, low, close],\n    'CDLLONGLEGGEDDOJI'   :[open, high, low, close],\n    'CDLLONGLINE'         :[open, high, low, close],\n    'CDLMARUBOZU'         :[open, high, low, close],\n    'CDLMATCHINGLOW'      :[open, high, low, close],\n    'CDLMATHOLD'          :[open, high, low, close],\n    'CDLMORNINGDOJISTAR'  :[open, high, low, close],\n    'CDLMORNINGSTAR'      :[open, high, low, close],\n    'CDLONNECK'           :[open, high, low, close],\n    'CDLPIERCING'         :[open, high, low, close],\n    'CDLRICKSHAWMAN'      :[open, high, low, close],\n    'CDLRISEFALL3METHODS' :[open, high, low, close],\n    'CDLSEPARATINGLINES'  :[open, high, low, close],\n    'CDLSHOOTINGSTAR'     :[open, high, low, close],\n    'CDLSHORTLINE'        :[open, high, low, close],\n    'CDLSPINNINGTOP'      :[open, high, low, close],\n    'CDLSTALLEDPATTERN'   :[open, high, low, close],\n    'CDLSTICKSANDWICH'    :[open, high, low, close],\n    'CDLTAKURI'           :[open, high, low, close],\n    'CDLTASUKIGAP'        :[open, high, low, close],\n    'CDLTHRUSTING'        :[open, high, low, close],\n    'CDLTRISTAR'          :[open, high, low, close],\n    'CDLUNIQUE3RIVER'     :[open, high, low, close],\n    'CDLUPSIDEGAP2CROWS'  :[open, high, low, close],\n    'CDLXSIDEGAP3METHODS' :[open, high, low, close],\n    \n    # Overlap Studies\n    'BBANDS'       :[           close, 5, 2, 2, 0                   ], # timeperiod=5, nbdevup=2, nbdevdn=2, matype=0\n    'DEMA'         :[           close, 30                           ], # timeperiod=30\n    'EMA'          :[           close, 30                           ], # timeperiod=30\n    'HT_TRENDLINE' :[           close                               ],\n    'KAMA'         :[           close, 30                           ], # timeperiod=30\n    'MA'           :[           close, 30, 0                        ], # timeperiod=30, matype=0\n    # 'MAMA'         :[           close, 0, 0                         ], # fastlimit=0, slowlimit=0\n    'MIDPOINT'     :[           close, 14                           ], # timeperiod=30\n    'MIDPRICE'     :[high, low,        14                           ], # timeperiod=14\n    'SAR'          :[high, low,        0, 0                         ], # acceleration=0, maximum=0\n    'SAREXT'       :[high, low,        0, 0, 0, 0, 0, 0, 0, 0       ], # startvalue=0, offsetonreverse=0, accelerationinitlong=0, accelerationlong=0, accelerationmaxlong=0, accelerationinitshort=0, accelerationshort=0, accelerationmaxshort=0\n    'SMA'          :[           close, 30                           ], # timeperiod=30\n    'T3'           :[           close, 5, 0                         ], # timeperiod=5, vfactor=0\n    'TEMA'         :[           close, 30                           ], # timeperiod=30\n    'TRIMA'        :[           close, 30                           ], # timeperiod=30\n    'WMA'          :[           close, 30                           ], # timeperiod=30\n\n    # Momentum Indicators\n    'ADX'     :[high, low, close, 14], # 'timeperiod':14\n    'ADXR'    :[high, low, close, 14], # 'timeperiod':14\n    'AROON'   :[high, low,        14], # 'timeperiod':14\n    'AROONOSC':[high, low,        14], # 'timeperiod':14\n    'CCI'     :[high, low, close, 14], # 'timeperiod':14\n    'CMO'     :[           close, 14], # 'timeperiod':14\n    'DX'      :[high, low, close, 14], # 'timeperiod':14\n    'MINUS_DI':[high, low, close, 14], # 'timeperiod':14\n    'MINUS_DM':[high, low,        14], # 'timeperiod':14\n    'MOM'     :[           close, 10], # 'timeperiod':10\n    'PLUS_DI' :[high, low, close, 14], # 'timeperiod':14\n    'PLUS_DM' :[high, low,        14], # 'timeperiod':14\n    'ROC'     :[           close, 10], # 'timeperiod':10\n    'ROCP'    :[           close, 10], # 'timeperiod':10\n    'ROCR'    :[           close, 10], # 'timeperiod':10\n    'ROCR100' :[           close, 10], # 'timeperiod':10\n    'RSI'     :[           close, 14], # 'timeperiod':14\n    'TRIX'    :[           close, 30], # 'timeperiod':30\n    'WILLR'   :[high, low, close, 14], # 'timeperiod':14\n    \n    # Advanced Momentum Indicator\n    'APO'     :[                 close, 12, 26, 0         ], # 'fastperiod':12, 'slowperiod':26, 'matype':0\n    'BOP'     :[open, high, low, close                    ],\n    'MACD'    :[                 close, 12, 26, 9         ], # 'fastperiod':12, 'slowperiod':26, 'signalperiod':9\n    'MACDEXT' :[                 close, 12, 0, 26, 0, 9, 0], # 'fastperiod':12, 'fastmatype':0, 'slowperiod':26, 'slowmatype':0, 'signalperiod':9, 'signalmatype':0\n    'MACDFIX' :[                 close, 9                 ], # 'signalperiod':9\n    'MFI'     :[      high, low, close, volume, 14        ], # 'timeperiod':14\n    'PPO'     :[                 close, 12, 26, 0         ], # 'fastperiod':12, 'slowperiod':26, 'matype':0\n    'STOCH'   :[      high, low, close, 5, 3, 0, 3, 0     ], # 'fastk_period':5, 'slowk_period':3, 'slowk_matype':0, 'slowd_period':3, 'slowd_matype':0\n    'STOCHF'  :[      high, low, close, 5, 3, 0           ], # 'fastk_period':5, 'fastd_period':3, 'fastd_matype':0\n    'STOCHRSI':[                 close, 14, 5, 3, 0       ], # 'timeperiod':14, 'fastk_period':5, 'fastd_period':3, 'fastd_matype':0\n    'ULTOSC'  :[      high, low, close, 7, 14, 28         ], # 'timeperiod1':7, 'timeperiod2':14, 'timeperiod3':28\n}"
    }
  ],
  "metadata": {
    "kernelspec": {
      "name": "python2",
      "display_name": "Python 2",
      "language": "python"
    },
    "varInspector": {
      "kernels_config": {
        "python": {
          "delete_cmd_postfix": "",
          "library": "var_list.py",
          "delete_cmd_prefix": "del ",
          "varRefreshCmd": "print(var_dic_list())"
        },
        "r": {
          "delete_cmd_postfix": ") ",
          "library": "var_list.r",
          "delete_cmd_prefix": "rm(",
          "varRefreshCmd": "cat(var_dic_list()) "
        }
      },
      "cols": {
        "lenType": 16,
        "lenName": 16,
        "lenVar": 40
      },
      "types_to_exclude": [
        "module",
        "function",
        "builtin_function_or_method",
        "instance",
        "_Feature"
      ],
      "window_display": false
    },
    "language_info": {
      "mimetype": "text/x-python",
      "nbconvert_exporter": "python",
      "name": "python",
      "pygments_lexer": "ipython2",
      "version": "2.7.15+",
      "file_extension": ".py",
      "codemirror_mode": {
        "version": 2,
        "name": "ipython"
      }
    },
    "gist": {
      "id": "",
      "data": {
        "description": "Indicators_Talib.ipynb",
        "public": false
      }
    }
  },
  "nbformat": 4,
  "nbformat_minor": 2
}