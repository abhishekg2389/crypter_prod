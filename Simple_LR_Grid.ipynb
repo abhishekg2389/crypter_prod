{
  "cells": [
    {
      "metadata": {
        "ExecuteTime": {
          "start_time": "2019-02-22T00:27:28.262574Z",
          "end_time": "2019-02-22T00:27:28.266397Z"
        },
        "collapsed": true,
        "trusted": true
      },
      "cell_type": "code",
      "source": "from IPython.core.interactiveshell import InteractiveShell\nInteractiveShell.ast_node_interactivity = \"all\"",
      "execution_count": 1,
      "outputs": []
    },
    {
      "metadata": {
        "ExecuteTime": {
          "start_time": "2019-02-22T00:27:28.484581Z",
          "end_time": "2019-02-22T00:27:28.723087Z"
        },
        "trusted": true
      },
      "cell_type": "code",
      "source": "import sklearn\nsklearn.__version__",
      "execution_count": 2,
      "outputs": [
        {
          "output_type": "execute_result",
          "execution_count": 2,
          "data": {
            "text/plain": "'0.20.2'"
          },
          "metadata": {}
        }
      ]
    },
    {
      "metadata": {
        "ExecuteTime": {
          "start_time": "2019-02-22T00:27:28.793399Z",
          "end_time": "2019-02-22T00:27:29.598272Z"
        },
        "collapsed": true,
        "trusted": true
      },
      "cell_type": "code",
      "source": "import pandas as pd\nimport pickle as pkl",
      "execution_count": 3,
      "outputs": []
    },
    {
      "metadata": {
        "ExecuteTime": {
          "start_time": "2019-02-22T00:27:29.649633Z",
          "end_time": "2019-02-22T00:27:30.061619Z"
        },
        "collapsed": true,
        "trusted": true
      },
      "cell_type": "code",
      "source": "%run utils.ipynb\n%run targets.ipynb",
      "execution_count": 4,
      "outputs": []
    },
    {
      "metadata": {
        "ExecuteTime": {
          "start_time": "2019-02-22T00:27:30.116088Z",
          "end_time": "2019-02-22T00:27:30.119536Z"
        },
        "trusted": true,
        "collapsed": true
      },
      "cell_type": "code",
      "source": "file = 'ETHBTC_1m_1519496760000_1549568220000.csv'",
      "execution_count": 5,
      "outputs": []
    },
    {
      "metadata": {
        "ExecuteTime": {
          "start_time": "2019-02-22T00:27:30.175186Z",
          "end_time": "2019-02-22T00:27:31.319999Z"
        },
        "trusted": true
      },
      "cell_type": "code",
      "source": "# Get Data\ndf = pd.read_csv('data/'+file)\ndf.shape\ndf.head(10)",
      "execution_count": 6,
      "outputs": [
        {
          "output_type": "execute_result",
          "execution_count": 6,
          "data": {
            "text/plain": "(500000, 12)"
          },
          "metadata": {}
        },
        {
          "output_type": "execute_result",
          "execution_count": 6,
          "data": {
            "text/html": "<div>\n<style scoped>\n    .dataframe tbody tr th:only-of-type {\n        vertical-align: middle;\n    }\n\n    .dataframe tbody tr th {\n        vertical-align: top;\n    }\n\n    .dataframe thead th {\n        text-align: right;\n    }\n</style>\n<table border=\"1\" class=\"dataframe\">\n  <thead>\n    <tr style=\"text-align: right;\">\n      <th></th>\n      <th>OPEN_TIME</th>\n      <th>OPEN</th>\n      <th>HIGH</th>\n      <th>LOW</th>\n      <th>CLOSE</th>\n      <th>VOLUME</th>\n      <th>CLOSE_TIME</th>\n      <th>QUOTE_VOL</th>\n      <th>NUM_TRADES</th>\n      <th>TAKE_BASE_VOL</th>\n      <th>TAKE_QUOTE_VOL</th>\n      <th>EXTRA</th>\n    </tr>\n  </thead>\n  <tbody>\n    <tr>\n      <th>0</th>\n      <td>1519496760000</td>\n      <td>0.085541</td>\n      <td>0.085570</td>\n      <td>0.085407</td>\n      <td>0.085473</td>\n      <td>27.714</td>\n      <td>1519496819999</td>\n      <td>2.370345</td>\n      <td>192</td>\n      <td>15.308</td>\n      <td>1.309733</td>\n      <td>0</td>\n    </tr>\n    <tr>\n      <th>1</th>\n      <td>1519496820000</td>\n      <td>0.085473</td>\n      <td>0.085570</td>\n      <td>0.085448</td>\n      <td>0.085449</td>\n      <td>20.128</td>\n      <td>1519496879999</td>\n      <td>1.720609</td>\n      <td>122</td>\n      <td>6.579</td>\n      <td>0.562654</td>\n      <td>0</td>\n    </tr>\n    <tr>\n      <th>2</th>\n      <td>1519496880000</td>\n      <td>0.085448</td>\n      <td>0.085569</td>\n      <td>0.085400</td>\n      <td>0.085538</td>\n      <td>45.510</td>\n      <td>1519496939999</td>\n      <td>3.890176</td>\n      <td>209</td>\n      <td>19.426</td>\n      <td>1.660960</td>\n      <td>0</td>\n    </tr>\n    <tr>\n      <th>3</th>\n      <td>1519496940000</td>\n      <td>0.085538</td>\n      <td>0.085546</td>\n      <td>0.085402</td>\n      <td>0.085540</td>\n      <td>22.231</td>\n      <td>1519496999999</td>\n      <td>1.900513</td>\n      <td>105</td>\n      <td>14.320</td>\n      <td>1.224483</td>\n      <td>0</td>\n    </tr>\n    <tr>\n      <th>4</th>\n      <td>1519497000000</td>\n      <td>0.085539</td>\n      <td>0.085552</td>\n      <td>0.085464</td>\n      <td>0.085464</td>\n      <td>15.243</td>\n      <td>1519497059999</td>\n      <td>1.303412</td>\n      <td>117</td>\n      <td>8.373</td>\n      <td>0.716219</td>\n      <td>0</td>\n    </tr>\n    <tr>\n      <th>5</th>\n      <td>1519497060000</td>\n      <td>0.085466</td>\n      <td>0.085555</td>\n      <td>0.085464</td>\n      <td>0.085545</td>\n      <td>31.895</td>\n      <td>1519497119999</td>\n      <td>2.727413</td>\n      <td>131</td>\n      <td>19.237</td>\n      <td>1.645547</td>\n      <td>0</td>\n    </tr>\n    <tr>\n      <th>6</th>\n      <td>1519497120000</td>\n      <td>0.085545</td>\n      <td>0.085545</td>\n      <td>0.085464</td>\n      <td>0.085539</td>\n      <td>13.325</td>\n      <td>1519497179999</td>\n      <td>1.139346</td>\n      <td>78</td>\n      <td>7.311</td>\n      <td>0.625352</td>\n      <td>0</td>\n    </tr>\n    <tr>\n      <th>7</th>\n      <td>1519497180000</td>\n      <td>0.085539</td>\n      <td>0.085555</td>\n      <td>0.085414</td>\n      <td>0.085517</td>\n      <td>28.202</td>\n      <td>1519497239999</td>\n      <td>2.411093</td>\n      <td>195</td>\n      <td>14.409</td>\n      <td>1.232346</td>\n      <td>0</td>\n    </tr>\n    <tr>\n      <th>8</th>\n      <td>1519497240000</td>\n      <td>0.085460</td>\n      <td>0.085545</td>\n      <td>0.085419</td>\n      <td>0.085534</td>\n      <td>15.302</td>\n      <td>1519497299999</td>\n      <td>1.307959</td>\n      <td>134</td>\n      <td>7.216</td>\n      <td>0.617035</td>\n      <td>0</td>\n    </tr>\n    <tr>\n      <th>9</th>\n      <td>1519497300000</td>\n      <td>0.085440</td>\n      <td>0.085545</td>\n      <td>0.085440</td>\n      <td>0.085533</td>\n      <td>13.730</td>\n      <td>1519497359999</td>\n      <td>1.173580</td>\n      <td>105</td>\n      <td>6.186</td>\n      <td>0.529001</td>\n      <td>0</td>\n    </tr>\n  </tbody>\n</table>\n</div>",
            "text/plain": "       OPEN_TIME      OPEN      HIGH       LOW     CLOSE  VOLUME  \\\n0  1519496760000  0.085541  0.085570  0.085407  0.085473  27.714   \n1  1519496820000  0.085473  0.085570  0.085448  0.085449  20.128   \n2  1519496880000  0.085448  0.085569  0.085400  0.085538  45.510   \n3  1519496940000  0.085538  0.085546  0.085402  0.085540  22.231   \n4  1519497000000  0.085539  0.085552  0.085464  0.085464  15.243   \n5  1519497060000  0.085466  0.085555  0.085464  0.085545  31.895   \n6  1519497120000  0.085545  0.085545  0.085464  0.085539  13.325   \n7  1519497180000  0.085539  0.085555  0.085414  0.085517  28.202   \n8  1519497240000  0.085460  0.085545  0.085419  0.085534  15.302   \n9  1519497300000  0.085440  0.085545  0.085440  0.085533  13.730   \n\n      CLOSE_TIME  QUOTE_VOL  NUM_TRADES  TAKE_BASE_VOL  TAKE_QUOTE_VOL  EXTRA  \n0  1519496819999   2.370345         192         15.308        1.309733      0  \n1  1519496879999   1.720609         122          6.579        0.562654      0  \n2  1519496939999   3.890176         209         19.426        1.660960      0  \n3  1519496999999   1.900513         105         14.320        1.224483      0  \n4  1519497059999   1.303412         117          8.373        0.716219      0  \n5  1519497119999   2.727413         131         19.237        1.645547      0  \n6  1519497179999   1.139346          78          7.311        0.625352      0  \n7  1519497239999   2.411093         195         14.409        1.232346      0  \n8  1519497299999   1.307959         134          7.216        0.617035      0  \n9  1519497359999   1.173580         105          6.186        0.529001      0  "
          },
          "metadata": {}
        }
      ]
    },
    {
      "metadata": {
        "ExecuteTime": {
          "start_time": "2019-02-22T00:27:31.599532Z",
          "end_time": "2019-02-22T00:27:31.641479Z"
        },
        "trusted": true
      },
      "cell_type": "code",
      "source": "data = df.loc[:, ['OPEN_TIME', 'CLOSE_TIME', 'OPEN', 'HIGH', 'LOW', 'CLOSE']]\ndata.shape\ndata[:5]",
      "execution_count": 7,
      "outputs": [
        {
          "output_type": "execute_result",
          "execution_count": 7,
          "data": {
            "text/plain": "(500000, 6)"
          },
          "metadata": {}
        },
        {
          "output_type": "execute_result",
          "execution_count": 7,
          "data": {
            "text/html": "<div>\n<style scoped>\n    .dataframe tbody tr th:only-of-type {\n        vertical-align: middle;\n    }\n\n    .dataframe tbody tr th {\n        vertical-align: top;\n    }\n\n    .dataframe thead th {\n        text-align: right;\n    }\n</style>\n<table border=\"1\" class=\"dataframe\">\n  <thead>\n    <tr style=\"text-align: right;\">\n      <th></th>\n      <th>OPEN_TIME</th>\n      <th>CLOSE_TIME</th>\n      <th>OPEN</th>\n      <th>HIGH</th>\n      <th>LOW</th>\n      <th>CLOSE</th>\n    </tr>\n  </thead>\n  <tbody>\n    <tr>\n      <th>0</th>\n      <td>1519496760000</td>\n      <td>1519496819999</td>\n      <td>0.085541</td>\n      <td>0.085570</td>\n      <td>0.085407</td>\n      <td>0.085473</td>\n    </tr>\n    <tr>\n      <th>1</th>\n      <td>1519496820000</td>\n      <td>1519496879999</td>\n      <td>0.085473</td>\n      <td>0.085570</td>\n      <td>0.085448</td>\n      <td>0.085449</td>\n    </tr>\n    <tr>\n      <th>2</th>\n      <td>1519496880000</td>\n      <td>1519496939999</td>\n      <td>0.085448</td>\n      <td>0.085569</td>\n      <td>0.085400</td>\n      <td>0.085538</td>\n    </tr>\n    <tr>\n      <th>3</th>\n      <td>1519496940000</td>\n      <td>1519496999999</td>\n      <td>0.085538</td>\n      <td>0.085546</td>\n      <td>0.085402</td>\n      <td>0.085540</td>\n    </tr>\n    <tr>\n      <th>4</th>\n      <td>1519497000000</td>\n      <td>1519497059999</td>\n      <td>0.085539</td>\n      <td>0.085552</td>\n      <td>0.085464</td>\n      <td>0.085464</td>\n    </tr>\n  </tbody>\n</table>\n</div>",
            "text/plain": "       OPEN_TIME     CLOSE_TIME      OPEN      HIGH       LOW     CLOSE\n0  1519496760000  1519496819999  0.085541  0.085570  0.085407  0.085473\n1  1519496820000  1519496879999  0.085473  0.085570  0.085448  0.085449\n2  1519496880000  1519496939999  0.085448  0.085569  0.085400  0.085538\n3  1519496940000  1519496999999  0.085538  0.085546  0.085402  0.085540\n4  1519497000000  1519497059999  0.085539  0.085552  0.085464  0.085464"
          },
          "metadata": {}
        }
      ]
    },
    {
      "metadata": {
        "ExecuteTime": {
          "start_time": "2019-02-22T00:27:32.042309Z",
          "end_time": "2019-02-22T00:27:33.128097Z"
        },
        "trusted": true
      },
      "cell_type": "code",
      "source": "# Get Target\n%run targets.ipynb\ntarget = get_target_1('data/'+file)\ntarget.shape\ntarget.head()",
      "execution_count": 8,
      "outputs": [
        {
          "output_type": "execute_result",
          "execution_count": 8,
          "data": {
            "text/plain": "(499999, 2)"
          },
          "metadata": {}
        },
        {
          "output_type": "execute_result",
          "execution_count": 8,
          "data": {
            "text/html": "<div>\n<style scoped>\n    .dataframe tbody tr th:only-of-type {\n        vertical-align: middle;\n    }\n\n    .dataframe tbody tr th {\n        vertical-align: top;\n    }\n\n    .dataframe thead th {\n        text-align: right;\n    }\n</style>\n<table border=\"1\" class=\"dataframe\">\n  <thead>\n    <tr style=\"text-align: right;\">\n      <th></th>\n      <th>CLOSE_TIME</th>\n      <th>TARGET</th>\n    </tr>\n  </thead>\n  <tbody>\n    <tr>\n      <th>0</th>\n      <td>1519496819999</td>\n      <td>1.0</td>\n    </tr>\n    <tr>\n      <th>1</th>\n      <td>1519496879999</td>\n      <td>0.0</td>\n    </tr>\n    <tr>\n      <th>2</th>\n      <td>1519496939999</td>\n      <td>0.0</td>\n    </tr>\n    <tr>\n      <th>3</th>\n      <td>1519496999999</td>\n      <td>1.0</td>\n    </tr>\n    <tr>\n      <th>4</th>\n      <td>1519497059999</td>\n      <td>0.0</td>\n    </tr>\n  </tbody>\n</table>\n</div>",
            "text/plain": "      CLOSE_TIME  TARGET\n0  1519496819999     1.0\n1  1519496879999     0.0\n2  1519496939999     0.0\n3  1519496999999     1.0\n4  1519497059999     0.0"
          },
          "metadata": {}
        }
      ]
    },
    {
      "metadata": {
        "ExecuteTime": {
          "start_time": "2019-02-22T00:27:33.623960Z",
          "end_time": "2019-02-22T00:27:33.838602Z"
        },
        "trusted": true
      },
      "cell_type": "code",
      "source": "data = pd.merge(data, target, on='CLOSE_TIME')\ndata.shape\ndata.head()",
      "execution_count": 9,
      "outputs": [
        {
          "output_type": "execute_result",
          "execution_count": 9,
          "data": {
            "text/plain": "(499999, 7)"
          },
          "metadata": {}
        },
        {
          "output_type": "execute_result",
          "execution_count": 9,
          "data": {
            "text/html": "<div>\n<style scoped>\n    .dataframe tbody tr th:only-of-type {\n        vertical-align: middle;\n    }\n\n    .dataframe tbody tr th {\n        vertical-align: top;\n    }\n\n    .dataframe thead th {\n        text-align: right;\n    }\n</style>\n<table border=\"1\" class=\"dataframe\">\n  <thead>\n    <tr style=\"text-align: right;\">\n      <th></th>\n      <th>OPEN_TIME</th>\n      <th>CLOSE_TIME</th>\n      <th>OPEN</th>\n      <th>HIGH</th>\n      <th>LOW</th>\n      <th>CLOSE</th>\n      <th>TARGET</th>\n    </tr>\n  </thead>\n  <tbody>\n    <tr>\n      <th>0</th>\n      <td>1519496760000</td>\n      <td>1519496819999</td>\n      <td>0.085541</td>\n      <td>0.085570</td>\n      <td>0.085407</td>\n      <td>0.085473</td>\n      <td>1.0</td>\n    </tr>\n    <tr>\n      <th>1</th>\n      <td>1519496820000</td>\n      <td>1519496879999</td>\n      <td>0.085473</td>\n      <td>0.085570</td>\n      <td>0.085448</td>\n      <td>0.085449</td>\n      <td>0.0</td>\n    </tr>\n    <tr>\n      <th>2</th>\n      <td>1519496880000</td>\n      <td>1519496939999</td>\n      <td>0.085448</td>\n      <td>0.085569</td>\n      <td>0.085400</td>\n      <td>0.085538</td>\n      <td>0.0</td>\n    </tr>\n    <tr>\n      <th>3</th>\n      <td>1519496940000</td>\n      <td>1519496999999</td>\n      <td>0.085538</td>\n      <td>0.085546</td>\n      <td>0.085402</td>\n      <td>0.085540</td>\n      <td>1.0</td>\n    </tr>\n    <tr>\n      <th>4</th>\n      <td>1519497000000</td>\n      <td>1519497059999</td>\n      <td>0.085539</td>\n      <td>0.085552</td>\n      <td>0.085464</td>\n      <td>0.085464</td>\n      <td>0.0</td>\n    </tr>\n  </tbody>\n</table>\n</div>",
            "text/plain": "       OPEN_TIME     CLOSE_TIME      OPEN      HIGH       LOW     CLOSE  \\\n0  1519496760000  1519496819999  0.085541  0.085570  0.085407  0.085473   \n1  1519496820000  1519496879999  0.085473  0.085570  0.085448  0.085449   \n2  1519496880000  1519496939999  0.085448  0.085569  0.085400  0.085538   \n3  1519496940000  1519496999999  0.085538  0.085546  0.085402  0.085540   \n4  1519497000000  1519497059999  0.085539  0.085552  0.085464  0.085464   \n\n   TARGET  \n0     1.0  \n1     0.0  \n2     0.0  \n3     1.0  \n4     0.0  "
          },
          "metadata": {}
        }
      ]
    },
    {
      "metadata": {
        "ExecuteTime": {
          "start_time": "2019-02-22T00:27:34.301170Z",
          "end_time": "2019-02-22T00:27:34.357233Z"
        },
        "trusted": true
      },
      "cell_type": "code",
      "source": "TR_split, CV_split, TT_split = TR_CV_TT_split(data, 0.8, 0, 0.2)\n\nTR_split.shape\nCV_split.shape\nTT_split.shape\n\nTR_split.head()",
      "execution_count": 10,
      "outputs": [
        {
          "output_type": "execute_result",
          "execution_count": 10,
          "data": {
            "text/plain": "(399999, 7)"
          },
          "metadata": {}
        },
        {
          "output_type": "execute_result",
          "execution_count": 10,
          "data": {
            "text/plain": "(0, 7)"
          },
          "metadata": {}
        },
        {
          "output_type": "execute_result",
          "execution_count": 10,
          "data": {
            "text/plain": "(100000, 7)"
          },
          "metadata": {}
        },
        {
          "output_type": "execute_result",
          "execution_count": 10,
          "data": {
            "text/html": "<div>\n<style scoped>\n    .dataframe tbody tr th:only-of-type {\n        vertical-align: middle;\n    }\n\n    .dataframe tbody tr th {\n        vertical-align: top;\n    }\n\n    .dataframe thead th {\n        text-align: right;\n    }\n</style>\n<table border=\"1\" class=\"dataframe\">\n  <thead>\n    <tr style=\"text-align: right;\">\n      <th></th>\n      <th>OPEN_TIME</th>\n      <th>CLOSE_TIME</th>\n      <th>OPEN</th>\n      <th>HIGH</th>\n      <th>LOW</th>\n      <th>CLOSE</th>\n      <th>TARGET</th>\n    </tr>\n  </thead>\n  <tbody>\n    <tr>\n      <th>0</th>\n      <td>1519496760000</td>\n      <td>1519496819999</td>\n      <td>0.085541</td>\n      <td>0.085570</td>\n      <td>0.085407</td>\n      <td>0.085473</td>\n      <td>1.0</td>\n    </tr>\n    <tr>\n      <th>1</th>\n      <td>1519496820000</td>\n      <td>1519496879999</td>\n      <td>0.085473</td>\n      <td>0.085570</td>\n      <td>0.085448</td>\n      <td>0.085449</td>\n      <td>0.0</td>\n    </tr>\n    <tr>\n      <th>2</th>\n      <td>1519496880000</td>\n      <td>1519496939999</td>\n      <td>0.085448</td>\n      <td>0.085569</td>\n      <td>0.085400</td>\n      <td>0.085538</td>\n      <td>0.0</td>\n    </tr>\n    <tr>\n      <th>3</th>\n      <td>1519496940000</td>\n      <td>1519496999999</td>\n      <td>0.085538</td>\n      <td>0.085546</td>\n      <td>0.085402</td>\n      <td>0.085540</td>\n      <td>1.0</td>\n    </tr>\n    <tr>\n      <th>4</th>\n      <td>1519497000000</td>\n      <td>1519497059999</td>\n      <td>0.085539</td>\n      <td>0.085552</td>\n      <td>0.085464</td>\n      <td>0.085464</td>\n      <td>0.0</td>\n    </tr>\n  </tbody>\n</table>\n</div>",
            "text/plain": "       OPEN_TIME     CLOSE_TIME      OPEN      HIGH       LOW     CLOSE  \\\n0  1519496760000  1519496819999  0.085541  0.085570  0.085407  0.085473   \n1  1519496820000  1519496879999  0.085473  0.085570  0.085448  0.085449   \n2  1519496880000  1519496939999  0.085448  0.085569  0.085400  0.085538   \n3  1519496940000  1519496999999  0.085538  0.085546  0.085402  0.085540   \n4  1519497000000  1519497059999  0.085539  0.085552  0.085464  0.085464   \n\n   TARGET  \n0     1.0  \n1     0.0  \n2     0.0  \n3     1.0  \n4     0.0  "
          },
          "metadata": {}
        }
      ]
    },
    {
      "metadata": {
        "ExecuteTime": {
          "start_time": "2019-02-22T00:27:35.070235Z",
          "end_time": "2019-02-22T00:27:35.868651Z"
        },
        "trusted": true,
        "collapsed": true
      },
      "cell_type": "code",
      "source": "from sklearn.preprocessing import StandardScaler\n\nscaler = StandardScaler(copy=True, with_mean=True, with_std=True)\nwindow = 60\ndef data_transformer(id, data, target, retrain=False):\n    global scaler\n    global window\n    \n    if retrain==True:\n        scaler = scaler.fit(data)\n        \n    data = scaler.transform(data)\n    return get_multiple_ts_dataset(id, data, target, tr_win=window, tt_win=0, point_target=True)",
      "execution_count": 11,
      "outputs": []
    },
    {
      "metadata": {
        "ExecuteTime": {
          "start_time": "2019-02-22T00:27:36.850738Z",
          "end_time": "2019-02-22T00:27:36.899834Z"
        },
        "trusted": true
      },
      "cell_type": "code",
      "source": "TR_id     = TR_split.iloc[:, :2  ].values\nTR_data   = TR_split.iloc[:, 2:-1].values\nTR_target = TR_split.iloc[:, -1: ].values\n\nTT_id     = TT_split.iloc[:, :2  ].values\nTT_data   = TT_split.iloc[:, 2:-1].values\nTT_target = TT_split.iloc[:, -1: ].values\n\nTR_id.shape\nTR_data.shape\nTR_target.shape\n\nTT_id.shape\nTT_data.shape\nTT_target.shape",
      "execution_count": 12,
      "outputs": [
        {
          "output_type": "execute_result",
          "execution_count": 12,
          "data": {
            "text/plain": "(399999, 2)"
          },
          "metadata": {}
        },
        {
          "output_type": "execute_result",
          "execution_count": 12,
          "data": {
            "text/plain": "(399999, 4)"
          },
          "metadata": {}
        },
        {
          "output_type": "execute_result",
          "execution_count": 12,
          "data": {
            "text/plain": "(399999, 1)"
          },
          "metadata": {}
        },
        {
          "output_type": "execute_result",
          "execution_count": 12,
          "data": {
            "text/plain": "(100000, 2)"
          },
          "metadata": {}
        },
        {
          "output_type": "execute_result",
          "execution_count": 12,
          "data": {
            "text/plain": "(100000, 4)"
          },
          "metadata": {}
        },
        {
          "output_type": "execute_result",
          "execution_count": 12,
          "data": {
            "text/plain": "(100000, 1)"
          },
          "metadata": {}
        }
      ]
    },
    {
      "metadata": {
        "ExecuteTime": {
          "start_time": "2019-02-22T00:27:37.836984Z",
          "end_time": "2019-02-22T00:27:39.246380Z"
        },
        "trusted": true,
        "collapsed": true
      },
      "cell_type": "code",
      "source": "%run hyperopt.ipynb\n%run models.ipynb",
      "execution_count": 13,
      "outputs": []
    },
    {
      "metadata": {
        "ExecuteTime": {
          "start_time": "2019-02-22T00:27:40.119168Z",
          "end_time": "2019-02-22T00:46:24.702719Z"
        },
        "trusted": true,
        "scrolled": false
      },
      "cell_type": "code",
      "source": "hyperopt = Hyperopt(LR())\nresults = hyperopt.run(\n    TR_id, TR_data, TR_target, \n    eval_set={\n        'TT': (TT_id, TT_data, TT_target)\n    },\n    n_cv=3,\n    algo='grid',\n    data_transformer=data_transformer,\n    max_evals=1\n)",
      "execution_count": 14,
      "outputs": [
        {
          "output_type": "stream",
          "text": "Hyperopt Iteration : 1\n{'penalty': 'l2', 'C': 3, 'solver': 'sag'}\n",
          "name": "stdout"
        },
        {
          "output_type": "stream",
          "text": "/Library/Frameworks/Python.framework/Versions/2.7/lib/python2.7/site-packages/sklearn/utils/validation.py:761: DataConversionWarning: A column-vector y was passed when a 1d array was expected. Please change the shape of y to (n_samples, ), for example using ravel().\n  y = column_or_1d(y, warn=True)\n[Parallel(n_jobs=-1)]: Using backend ThreadingBackend with 4 concurrent workers.\n",
          "name": "stderr"
        },
        {
          "output_type": "stream",
          "text": "max_iter reached after 65 seconds\n",
          "name": "stdout"
        },
        {
          "output_type": "stream",
          "text": "/Library/Frameworks/Python.framework/Versions/2.7/lib/python2.7/site-packages/sklearn/linear_model/sag.py:334: ConvergenceWarning: The max_iter was reached which means the coef_ did not converge\n  \"the coef_ did not converge\", ConvergenceWarning)\n[Parallel(n_jobs=-1)]: Done   1 out of   1 | elapsed:  1.1min finished\n",
          "name": "stderr"
        },
        {
          "output_type": "stream",
          "text": "('CV_fold : ', 0, 69.84912610054016)\n         acc       auc        f1   log_loss\nTT  0.515914  0.500754  0.058755  16.719737\nTR  0.526623  0.509646  0.186002  16.349890\nCV  0.517907  0.503545  0.115081  16.650912\n",
          "name": "stdout"
        },
        {
          "output_type": "stream",
          "text": "[Parallel(n_jobs=-1)]: Using backend ThreadingBackend with 4 concurrent workers.\n",
          "name": "stderr"
        },
        {
          "output_type": "stream",
          "text": "max_iter reached after 103 seconds\n",
          "name": "stdout"
        },
        {
          "output_type": "stream",
          "text": "[Parallel(n_jobs=-1)]: Done   1 out of   1 | elapsed:  1.7min finished\n",
          "name": "stderr"
        },
        {
          "output_type": "stream",
          "text": "('CV_fold : ', 1, 110.21850204467773)\n         acc       auc        f1   log_loss\nTT  0.515604  0.500522  0.062584  16.730451\nTR  0.523485  0.506065  0.139948  16.458276\nCV  0.515993  0.498483  0.059937  16.717031\n",
          "name": "stdout"
        },
        {
          "output_type": "stream",
          "text": "[Parallel(n_jobs=-1)]: Using backend ThreadingBackend with 4 concurrent workers.\n",
          "name": "stderr"
        },
        {
          "output_type": "stream",
          "text": "max_iter reached after 109 seconds\n",
          "name": "stdout"
        },
        {
          "output_type": "stream",
          "text": "[Parallel(n_jobs=-1)]: Done   1 out of   1 | elapsed:  1.8min finished\n",
          "name": "stderr"
        },
        {
          "output_type": "stream",
          "text": "('CV_fold : ', 2, 116.54232001304626)\n         acc       auc        f1   log_loss\nTT  0.515664  0.500491  0.057590  16.728377\nTR  0.522576  0.505066  0.126129  16.489664\nCV  0.527537  0.501467  0.044999  16.318307\nHyperopt Iteration : 2\n{'penalty': 'l2', 'C': 10, 'solver': 'sag'}\n",
          "name": "stdout"
        },
        {
          "output_type": "stream",
          "text": "[Parallel(n_jobs=-1)]: Using backend ThreadingBackend with 4 concurrent workers.\n",
          "name": "stderr"
        },
        {
          "output_type": "stream",
          "text": "max_iter reached after 71 seconds\n",
          "name": "stdout"
        },
        {
          "output_type": "stream",
          "text": "[Parallel(n_jobs=-1)]: Done   1 out of   1 | elapsed:  1.2min finished\n",
          "name": "stderr"
        },
        {
          "output_type": "stream",
          "text": "('CV_fold : ', 0, 73.77039813995361)\n         acc       auc        f1   log_loss\nTT  0.515944  0.500810  0.060294  16.718700\nTR  0.526573  0.509690  0.188973  16.351619\nCV  0.518020  0.503705  0.117599  16.647022\n",
          "name": "stdout"
        },
        {
          "output_type": "stream",
          "text": "[Parallel(n_jobs=-1)]: Using backend ThreadingBackend with 4 concurrent workers.\n",
          "name": "stderr"
        },
        {
          "output_type": "stream",
          "text": "max_iter reached after 78 seconds\n",
          "name": "stdout"
        },
        {
          "output_type": "stream",
          "text": "[Parallel(n_jobs=-1)]: Done   1 out of   1 | elapsed:  1.3min finished\n",
          "name": "stderr"
        },
        {
          "output_type": "stream",
          "text": "('CV_fold : ', 1, 83.32584118843079)\n         acc       auc        f1   log_loss\nTT  0.515584  0.500534  0.064320  16.731143\nTR  0.523597  0.506249  0.142857  16.454390\nCV  0.515936  0.498461  0.061504  16.718977\n",
          "name": "stdout"
        },
        {
          "output_type": "stream",
          "text": "[Parallel(n_jobs=-1)]: Using backend ThreadingBackend with 4 concurrent workers.\n",
          "name": "stderr"
        },
        {
          "output_type": "stream",
          "text": "max_iter reached after 91 seconds\n",
          "name": "stdout"
        },
        {
          "output_type": "stream",
          "text": "[Parallel(n_jobs=-1)]: Done   1 out of   1 | elapsed:  1.5min finished\n",
          "name": "stderr"
        },
        {
          "output_type": "stream",
          "text": "('CV_fold : ', 2, 96.96887516975403)\n         acc       auc        f1   log_loss\nTT  0.515614  0.500493  0.060401  16.730105\nTR  0.522666  0.505263  0.130512  16.486576\nCV  0.527593  0.501590  0.047462  16.316362\nHyperopt Iteration : 3\n{'penalty': 'l2', 'C': 30, 'solver': 'sag'}\n",
          "name": "stdout"
        },
        {
          "output_type": "stream",
          "text": "[Parallel(n_jobs=-1)]: Using backend ThreadingBackend with 4 concurrent workers.\n",
          "name": "stderr"
        },
        {
          "output_type": "stream",
          "text": "max_iter reached after 65 seconds\n",
          "name": "stdout"
        },
        {
          "output_type": "stream",
          "text": "[Parallel(n_jobs=-1)]: Done   1 out of   1 | elapsed:  1.1min finished\n",
          "name": "stderr"
        },
        {
          "output_type": "stream",
          "text": "('CV_fold : ', 0, 67.90686798095703)\n         acc       auc        f1   log_loss\nTT  0.515954  0.500828  0.060770  16.718355\nTR  0.526611  0.509758  0.190015  16.350323\nCV  0.517983  0.503673  0.117833  16.648319\n",
          "name": "stdout"
        },
        {
          "output_type": "stream",
          "text": "[Parallel(n_jobs=-1)]: Using backend ThreadingBackend with 4 concurrent workers.\n",
          "name": "stderr"
        },
        {
          "output_type": "stream",
          "text": "max_iter reached after 94 seconds\n",
          "name": "stdout"
        },
        {
          "output_type": "stream",
          "text": "[Parallel(n_jobs=-1)]: Done   1 out of   1 | elapsed:  1.6min finished\n",
          "name": "stderr"
        },
        {
          "output_type": "stream",
          "text": "('CV_fold : ', 1, 103.06625580787659)\n         acc       auc        f1   log_loss\nTT  0.515554  0.500514  0.064859  16.732180\nTR  0.523632  0.506303  0.143675  16.453212\nCV  0.515936  0.498472  0.062050  16.718977\n",
          "name": "stdout"
        },
        {
          "output_type": "stream",
          "text": "[Parallel(n_jobs=-1)]: Using backend ThreadingBackend with 4 concurrent workers.\n",
          "name": "stderr"
        },
        {
          "output_type": "stream",
          "text": "max_iter reached after 102 seconds\n",
          "name": "stdout"
        },
        {
          "output_type": "stream",
          "text": "[Parallel(n_jobs=-1)]: Done   1 out of   1 | elapsed:  1.7min finished\n",
          "name": "stderr"
        },
        {
          "output_type": "stream",
          "text": "('CV_fold : ', 2, 107.04798698425293)\n         acc       auc        f1   log_loss\nTT  0.515694  0.500588  0.061395  16.727341\nTR  0.522616  0.505245  0.131632  16.488270\nCV  0.527518  0.501540  0.048175  16.318956\nHyperopt Iteration : 4\n{'penalty': 'l2', 'C': 100, 'solver': 'sag'}\n",
          "name": "stdout"
        },
        {
          "output_type": "stream",
          "text": "[Parallel(n_jobs=-1)]: Using backend ThreadingBackend with 4 concurrent workers.\n",
          "name": "stderr"
        },
        {
          "output_type": "stream",
          "text": "max_iter reached after 74 seconds\n",
          "name": "stdout"
        },
        {
          "output_type": "stream",
          "text": "[Parallel(n_jobs=-1)]: Done   1 out of   1 | elapsed:  1.2min finished\n",
          "name": "stderr"
        },
        {
          "output_type": "stream",
          "text": "('CV_fold : ', 0, 78.21272897720337)\n         acc       auc        f1   log_loss\nTT  0.515964  0.500842  0.060990  16.718009\nTR  0.526623  0.509780  0.190354  16.349892\nCV  0.518058  0.503754  0.118273  16.645726\n",
          "name": "stdout"
        },
        {
          "output_type": "stream",
          "text": "[Parallel(n_jobs=-1)]: Using backend ThreadingBackend with 4 concurrent workers.\n",
          "name": "stderr"
        },
        {
          "output_type": "stream",
          "text": "max_iter reached after 94 seconds\n",
          "name": "stdout"
        },
        {
          "output_type": "stream",
          "text": "[Parallel(n_jobs=-1)]: Done   1 out of   1 | elapsed:  1.6min finished\n",
          "name": "stderr"
        },
        {
          "output_type": "stream",
          "text": "('CV_fold : ', 1, 100.6444890499115)\n         acc       auc        f1   log_loss\nTT  0.515534  0.500499  0.065073  16.732871\nTR  0.523676  0.506355  0.144022  16.451681\nCV  0.515918  0.498455  0.062116  16.719625\n",
          "name": "stdout"
        },
        {
          "output_type": "stream",
          "text": "[Parallel(n_jobs=-1)]: Using backend ThreadingBackend with 4 concurrent workers.\n",
          "name": "stderr"
        },
        {
          "output_type": "stream",
          "text": "max_iter reached after 110 seconds\n",
          "name": "stdout"
        },
        {
          "output_type": "stream",
          "text": "[Parallel(n_jobs=-1)]: Done   1 out of   1 | elapsed:  1.8min finished\n",
          "name": "stderr"
        },
        {
          "output_type": "stream",
          "text": "('CV_fold : ', 2, 116.5947060585022)\n         acc       auc        f1   log_loss\nTT  0.515664  0.500565  0.061719  16.728378\nTR  0.522619  0.505259  0.132070  16.488171\nCV  0.527518  0.501550  0.048535  16.318956\n[{'status': 'ok', 'loss': 0.5204790329241281, 'loss_variance': 0.0050514952700074275, 'iteration': 1, 'eval_time': 296.67032980918884, 'params': {'C': 3, 'n_jobs': -1, 'verbose': 1, 'max_iter': 100, 'dual': False, 'class_weight': None, 'warm_start': False, 'intercept_scaling': 1, 'solver': 'sag', 'fit_intercept': True, 'penalty': 'l2', 'multi_class': 'ovr', 'random_state': 0}, 'attributes': [{'n_iter_': array([100], dtype=int32)}, {'n_iter_': array([100], dtype=int32)}, {'n_iter_': array([100], dtype=int32)}]}, {'status': 'ok', 'loss': 0.5205165746893419, 'loss_variance': 0.005075710521933004, 'iteration': 2, 'eval_time': 254.07901191711426, 'params': {'C': 10, 'n_jobs': -1, 'verbose': 1, 'max_iter': 100, 'dual': False, 'class_weight': None, 'warm_start': False, 'intercept_scaling': 1, 'solver': 'sag', 'fit_intercept': True, 'penalty': 'l2', 'multi_class': 'ovr', 'random_state': 0}, 'attributes': [{'n_iter_': array([100], dtype=int32)}, {'n_iter_': array([100], dtype=int32)}, {'n_iter_': array([100], dtype=int32)}]}, {'status': 'ok', 'loss': 0.5204790329241281, 'loss_variance': 0.005046982700174808, 'iteration': 3, 'eval_time': 278.0340840816498, 'params': {'C': 30, 'n_jobs': -1, 'verbose': 1, 'max_iter': 100, 'dual': False, 'class_weight': None, 'warm_start': False, 'intercept_scaling': 1, 'solver': 'sag', 'fit_intercept': True, 'penalty': 'l2', 'multi_class': 'ovr', 'random_state': 0}, 'attributes': [{'n_iter_': array([100], dtype=int32)}, {'n_iter_': array([100], dtype=int32)}, {'n_iter_': array([100], dtype=int32)}]}, {'status': 'ok', 'loss': 0.520497803806735, 'loss_variance': 0.005040392685510294, 'iteration': 4, 'eval_time': 295.4678680896759, 'params': {'C': 100, 'n_jobs': -1, 'verbose': 1, 'max_iter': 100, 'dual': False, 'class_weight': None, 'warm_start': False, 'intercept_scaling': 1, 'solver': 'sag', 'fit_intercept': True, 'penalty': 'l2', 'multi_class': 'ovr', 'random_state': 0}, 'attributes': [{'n_iter_': array([100], dtype=int32)}, {'n_iter_': array([100], dtype=int32)}, {'n_iter_': array([100], dtype=int32)}]}]\n",
          "name": "stdout"
        }
      ]
    },
    {
      "metadata": {
        "ExecuteTime": {
          "start_time": "2019-02-22T20:31:23.680171Z",
          "end_time": "2019-02-22T20:31:23.696963Z"
        },
        "trusted": true
      },
      "cell_type": "code",
      "source": "best_params = None\nbest_loss = 0\nfor result in results:\n    if best_loss < result[\"loss\"]:\n        best_loss = result[\"loss\"]\n        best_params = result[\"params\"]\n\nbest_params\nbest_loss",
      "execution_count": 27,
      "outputs": [
        {
          "output_type": "execute_result",
          "execution_count": 27,
          "data": {
            "text/plain": "{'C': 10,\n 'class_weight': None,\n 'dual': False,\n 'fit_intercept': True,\n 'intercept_scaling': 1,\n 'max_iter': 100,\n 'multi_class': 'ovr',\n 'n_jobs': -1,\n 'penalty': 'l2',\n 'random_state': 0,\n 'solver': 'sag',\n 'verbose': 1,\n 'warm_start': False}"
          },
          "metadata": {}
        },
        {
          "output_type": "execute_result",
          "execution_count": 27,
          "data": {
            "text/plain": "0.5205165746893419"
          },
          "metadata": {}
        }
      ]
    },
    {
      "metadata": {
        "scrolled": false,
        "ExecuteTime": {
          "start_time": "2019-02-22T20:43:43.378283Z",
          "end_time": "2019-02-22T20:45:41.787782Z"
        },
        "trusted": true
      },
      "cell_type": "code",
      "source": "from sklearn.linear_model import LogisticRegression\n\nTR_id, TR_X, TR_y = data_transformer(TR_id, TR_data, TR_target, retrain=True)\nTT_id, TT_X, TT_y = data_transformer(TT_id, TT_data, TT_target, retrain=False)\n\nmodel = LogisticRegression(**best_params)\nmodel = model.fit(TR_X, TR_y)\n\nTR_y_pred = model.predict_proba(TR_X)[:, 1]\nTT_y_pred = model.predict_proba(TT_X)[:, 1]\n\nTR_metrics = eval_class_metrics(TR_y, TR_y_pred, metrics=['auc', 'f1', 'acc', 'log_loss'])\nTT_metrics = eval_class_metrics(TT_y, TT_y_pred, metrics=['auc', 'f1', 'acc', 'log_loss'])\n\nres = pd.DataFrame({x:[] for x in ['auc', 'f1', 'acc', 'log_loss']})\nres = res.append(pd.Series(TR_metrics, name='TR'))\nres = res.append(pd.Series(TT_metrics, name='TT'))\n\nprint(res)",
      "execution_count": 31,
      "outputs": [
        {
          "output_type": "stream",
          "text": "[Parallel(n_jobs=-1)]: Using backend ThreadingBackend with 4 concurrent workers.\n",
          "name": "stderr"
        },
        {
          "output_type": "stream",
          "text": "max_iter reached after 112 seconds\n",
          "name": "stdout"
        },
        {
          "output_type": "stream",
          "text": "[Parallel(n_jobs=-1)]: Done   1 out of   1 | elapsed:  1.9min finished\n",
          "name": "stderr"
        },
        {
          "output_type": "stream",
          "text": "         acc       auc        f1   log_loss\nTR  0.523268  0.504683  0.116405  16.465746\nTT  0.515574  0.500233  0.047793  16.731485\n",
          "name": "stdout"
        }
      ]
    },
    {
      "metadata": {
        "ExecuteTime": {
          "start_time": "2019-02-10T21:54:49.645121Z",
          "end_time": "2019-02-10T21:54:50.007492Z"
        },
        "collapsed": true,
        "trusted": true
      },
      "cell_type": "code",
      "source": "data_tag = '__'.join([str(x)+'_'+str(y) for x, y in {\n    'intv':'1m', \n    'cols':'OHCL',\n    'win':win\n}.iteritems()])\n\nproc_tag = '__'.join([str(x)+'_'+str(y) for x, y in {\n    'model': 'LR',\n    'accuracy':'{:.4f}'.format((CV_metrics['acc']+TT_metrics['acc'])/2)\n}.iteritems()])\n\nimport time\ntime_tag = time.strftime('%y%m%d_%H%M%S')\n\nbig_tag = time_tag+'_|_'+data_tag+'_|_'+proc_tag\n\nf = open('models/'+time_tag+'.pkl', 'wb')\npkl.dump(model, f, -1)\nf.close()\n\n%notebook -e models/{big_tag}.ipynb",
      "execution_count": null,
      "outputs": []
    },
    {
      "metadata": {
        "collapsed": true,
        "trusted": true
      },
      "cell_type": "code",
      "source": "",
      "execution_count": null,
      "outputs": []
    }
  ],
  "metadata": {
    "kernelspec": {
      "name": "python2",
      "display_name": "Python 2",
      "language": "python"
    },
    "varInspector": {
      "window_display": false,
      "cols": {
        "lenName": 16,
        "lenType": 16,
        "lenVar": 40
      },
      "kernels_config": {
        "python": {
          "library": "var_list.py",
          "delete_cmd_prefix": "del ",
          "delete_cmd_postfix": "",
          "varRefreshCmd": "print(var_dic_list())"
        },
        "r": {
          "library": "var_list.r",
          "delete_cmd_prefix": "rm(",
          "delete_cmd_postfix": ") ",
          "varRefreshCmd": "cat(var_dic_list()) "
        }
      },
      "types_to_exclude": [
        "module",
        "function",
        "builtin_function_or_method",
        "instance",
        "_Feature"
      ]
    },
    "_draft": {
      "nbviewer_url": "https://gist.github.com/9e0e96b406b4b4d69c9a4ae27d55ee3c"
    },
    "gist": {
      "id": "9e0e96b406b4b4d69c9a4ae27d55ee3c",
      "data": {
        "description": "model_run",
        "public": false
      }
    },
    "language_info": {
      "mimetype": "text/x-python",
      "nbconvert_exporter": "python",
      "name": "python",
      "pygments_lexer": "ipython2",
      "version": "2.7.13",
      "file_extension": ".py",
      "codemirror_mode": {
        "version": 2,
        "name": "ipython"
      }
    }
  },
  "nbformat": 4,
  "nbformat_minor": 2
}