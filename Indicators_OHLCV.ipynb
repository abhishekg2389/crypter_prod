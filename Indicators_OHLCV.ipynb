{
  "cells": [
    {
      "metadata": {
        "ExecuteTime": {
          "start_time": "2019-02-06T12:34:16.279306Z",
          "end_time": "2019-02-06T12:34:16.286994Z"
        },
        "trusted": true
      },
      "cell_type": "code",
      "source": "from IPython.core.interactiveshell import InteractiveShell\nInteractiveShell.ast_node_interactivity = \"all\"",
      "execution_count": 1,
      "outputs": []
    },
    {
      "metadata": {
        "ExecuteTime": {
          "start_time": "2019-02-06T12:34:16.290023Z",
          "end_time": "2019-02-06T12:34:16.294994Z"
        },
        "trusted": true
      },
      "cell_type": "code",
      "source": "import warnings\nwarnings.filterwarnings('ignore')",
      "execution_count": 2,
      "outputs": []
    },
    {
      "metadata": {
        "ExecuteTime": {
          "start_time": "2019-02-06T12:34:16.297873Z",
          "end_time": "2019-02-06T12:34:17.435737Z"
        },
        "trusted": true
      },
      "cell_type": "code",
      "source": "import pandas as pd\nimport numpy as np\nimport pickle as pkl",
      "execution_count": 3,
      "outputs": []
    },
    {
      "metadata": {
        "ExecuteTime": {
          "start_time": "2019-02-06T12:34:17.439523Z",
          "end_time": "2019-02-06T12:34:17.506683Z"
        },
        "code_folding": [
          0
        ],
        "trusted": true
      },
      "cell_type": "code",
      "source": "def get_ohlc_feats(data):\n    o = data.OPEN.values.astype(float)\n    h = data.HIGH.values.astype(float)\n    l = data.LOW.values.astype(float)\n    c = data.CLOSE.values.astype(float)\n    \n    ohlc_feats = pd.DataFrame({'OPEN_TIME': data.OPEN_TIME.values})\n    \n    ohlc_feats['OHLC'] = h - o + h - l + c - l\n    ohlc_feats['OLHC'] = o - l + h - l + h - c\n    \n    ohlc_feats['O_EQUAL_C'] = (o == c).astype(int)\n    ohlc_feats['O_EQUAL_L'] = (o == l).astype(int)\n    ohlc_feats['O_EQUAL_H'] = (o == h).astype(int)\n    ohlc_feats['C_EQUAL_H'] = (c == h).astype(int)\n    ohlc_feats['C_EQUAL_L'] = (c == l).astype(int)\n    ohlc_feats['L_EQUAL_H'] = (l == h).astype(int)\n    \n    ohlc_feats['O_GREATER_C'] = (o > c).astype(int)\n    \n    ohlc_feats['O_C_MEAN'] = (o + c)/2\n    ohlc_feats['L_H_MEAN'] = (l + h)/2\n    \n    ohlc_feats['O_OC_MEAN_FRAC'] = o / ohlc_feats['O_C_MEAN']\n    ohlc_feats['L_OC_MEAN_FRAC'] = l / ohlc_feats['O_C_MEAN']\n    ohlc_feats['H_OC_MEAN_FRAC'] = h / ohlc_feats['O_C_MEAN']\n    ohlc_feats['C_OC_MEAN_FRAC'] = c / ohlc_feats['O_C_MEAN']\n    \n    ohlc_feats['O_LH_MEAN_FRAC'] = o / ohlc_feats['L_H_MEAN']\n    ohlc_feats['L_LH_MEAN_FRAC'] = l / ohlc_feats['L_H_MEAN']\n    ohlc_feats['H_LH_MEAN_FRAC'] = h / ohlc_feats['L_H_MEAN']\n    ohlc_feats['C_LH_MEAN_FRAC'] = c / ohlc_feats['L_H_MEAN']\n    \n    ohlc_feats['O_GREATER_LH_MEAN'] = (o > ohlc_feats['L_H_MEAN']).astype(int)\n    ohlc_feats['C_GREATER_LH_MEAN'] = (c > ohlc_feats['L_H_MEAN']).astype(int)\n    \n    ohlc_feats['O_C_MEAN__L_H_MEAN__DIFF']     = ohlc_feats['O_C_MEAN'] - ohlc_feats['L_H_MEAN']\n    ohlc_feats['O_C_MEAN__L_H_MEAN__DIFF_ABS'] = np.abs(ohlc_feats['O_C_MEAN'] - ohlc_feats['L_H_MEAN'])\n    ohlc_feats['O_C_MEAN__L_H_MEAN__GREATER']  = (ohlc_feats['O_C_MEAN'] > ohlc_feats['L_H_MEAN']).astype(int)\n    \n    ohlc_feats['O_L_DIFF'] = o - l\n    ohlc_feats['O_H_DIFF'] = o - h\n    ohlc_feats['C_L_DIFF'] = c - l\n    ohlc_feats['C_H_DIFF'] = c - h\n    ohlc_feats['O_C_DIFF'] = o - c\n    ohlc_feats['L_H_DIFF'] = l - h\n    \n    ohlc_feats['O_L_DIFF_ABS'] = np.abs(o - l)\n    ohlc_feats['O_H_DIFF_ABS'] = np.abs(o - h)\n    ohlc_feats['C_L_DIFF_ABS'] = np.abs(c - l)\n    ohlc_feats['C_H_DIFF_ABS'] = np.abs(c - h)\n    ohlc_feats['O_C_DIFF_ABS'] = np.abs(o - c)\n    ohlc_feats['L_H_DIFF_ABS'] = np.abs(l - h)\n    \n    ohlc_feats['O_C_MEAN_PERCENTILE']     = ((ohlc_feats['O_C_MEAN'] - l)/(h - l)).fillna(value=1)\n    ohlc_feats['O_PERCENTILE']            = ((pd.Series(o) - l)/(h - l)).fillna(value=1)\n    ohlc_feats['C_PERCENTILE']            = ((pd.Series(c) - l)/(h - l)).fillna(value=1)\n    ohlc_feats['O_C_PERCENTILE_DIFF']     = ohlc_feats['O_PERCENTILE'] - ohlc_feats['C_PERCENTILE']\n    ohlc_feats['O_C_PERCENTILE_DIFF_ABS'] = np.abs(ohlc_feats['O_PERCENTILE'] - ohlc_feats['C_PERCENTILE'])\n    \n    return ohlc_feats",
      "execution_count": 4,
      "outputs": []
    },
    {
      "metadata": {
        "ExecuteTime": {
          "start_time": "2019-02-06T12:34:17.509200Z",
          "end_time": "2019-02-06T12:34:17.594713Z"
        },
        "code_folding": [
          0
        ],
        "trusted": true
      },
      "cell_type": "code",
      "source": "def get_ohlc_cross_feats(data):\n    o = data.OPEN.values.astype(float)\n    h = data.HIGH.values.astype(float)\n    l = data.LOW.values.astype(float)\n    c = data.CLOSE.values.astype(float)\n    \n    ohlc_feats = pd.DataFrame({'OPEN_TIME': data.OPEN_TIME.values[1:]})\n    \n    ohlc_feats['O_O1_EQUAL'] = (o[1:] == o[:-1]).astype(int)\n    ohlc_feats['H_H1_EQUAL'] = (h[1:] == h[:-1]).astype(int)\n    ohlc_feats['L_L1_EQUAL'] = (l[1:] == l[:-1]).astype(int)\n    ohlc_feats['C_C1_EQUAL'] = (c[1:] == c[:-1]).astype(int)\n    \n    ohlc_feats['O_O1_GREATER'] = (o[1:] > o[:-1]).astype(int)\n    ohlc_feats['O_H1_GREATER'] = (o[1:] > h[:-1]).astype(int)\n    ohlc_feats['O_L1_GREATER'] = (o[1:] > l[:-1]).astype(int)\n    ohlc_feats['O_C1_GREATER'] = (o[1:] > c[:-1]).astype(int)\n    \n    ohlc_feats['H_O1_GREATER'] = (h[1:] > o[:-1]).astype(int)\n    ohlc_feats['H_H1_GREATER'] = (h[1:] > h[:-1]).astype(int)\n    ohlc_feats['H_L1_GREATER'] = (h[1:] > l[:-1]).astype(int)\n    ohlc_feats['H_C1_GREATER'] = (h[1:] > c[:-1]).astype(int)\n    \n    ohlc_feats['L_O1_GREATER'] = (l[1:] > o[:-1]).astype(int)\n    ohlc_feats['L_H1_GREATER'] = (l[1:] > h[:-1]).astype(int)\n    ohlc_feats['L_L1_GREATER'] = (l[1:] > l[:-1]).astype(int)\n    ohlc_feats['L_C1_GREATER'] = (l[1:] > c[:-1]).astype(int)\n    \n    ohlc_feats['C_O1_GREATER'] = (c[1:] > o[:-1]).astype(int)\n    ohlc_feats['C_H1_GREATER'] = (c[1:] > h[:-1]).astype(int)\n    ohlc_feats['C_L1_GREATER'] = (c[1:] > l[:-1]).astype(int)\n    ohlc_feats['C_C1_GREATER'] = (c[1:] > c[:-1]).astype(int)\n    \n    ohlc_feats['O_O1_ABS_PERC_DIFF'] = (o[1:] - o[:-1]) / o[:-1]\n    ohlc_feats['O_H1_ABS_PERC_DIFF'] = (o[1:] - h[:-1]) / h[:-1]\n    ohlc_feats['O_L1_ABS_PERC_DIFF'] = (o[1:] - l[:-1]) / l[:-1]\n    ohlc_feats['O_C1_ABS_PERC_DIFF'] = (o[1:] - c[:-1]) / c[:-1]\n    \n    ohlc_feats['H_O1_ABS_PERC_DIFF'] = (h[1:] - o[:-1]) / o[:-1]\n    ohlc_feats['H_H1_ABS_PERC_DIFF'] = (h[1:] - h[:-1]) / h[:-1]\n    ohlc_feats['H_L1_ABS_PERC_DIFF'] = (h[1:] - l[:-1]) / l[:-1]\n    ohlc_feats['H_C1_ABS_PERC_DIFF'] = (h[1:] - c[:-1]) / c[:-1]\n    \n    ohlc_feats['L_O1_ABS_PERC_DIFF'] = (l[1:] - o[:-1]) / o[:-1]\n    ohlc_feats['L_H1_ABS_PERC_DIFF'] = (l[1:] - h[:-1]) / h[:-1]\n    ohlc_feats['L_L1_ABS_PERC_DIFF'] = (l[1:] - l[:-1]) / l[:-1]\n    ohlc_feats['L_C1_ABS_PERC_DIFF'] = (l[1:] - c[:-1]) / c[:-1]\n    \n    ohlc_feats['C_O1_ABS_PERC_DIFF'] = (c[1:] - o[:-1]) / o[:-1]\n    ohlc_feats['C_H1_ABS_PERC_DIFF'] = (c[1:] - h[:-1]) / h[:-1]\n    ohlc_feats['C_L1_ABS_PERC_DIFF'] = (c[1:] - l[:-1]) / l[:-1]\n    ohlc_feats['C_C1_ABS_PERC_DIFF'] = (c[1:] - c[:-1]) / c[:-1]\n    \n    ohlc_feats['OC_ABS_PERC_GREATER'] = (np.abs(o[1:] - c[1:]) > np.abs(o[:-1] - c[:-1])).astype(int)\n    ohlc_feats['LH_ABS_PERC_GREATER'] = (np.abs(l[1:] - h[1:]) > np.abs(l[:-1] - h[:-1])).astype(int)\n    \n    ohlc_feats['LH_ENGULF']   = ((l[1:] < l[:-1]) & (h[1:] > h[:-1])).astype(int)\n    ohlc_feats['LH_ENGULFED'] = ((l[1:] > l[:-1]) & (h[1:] < h[:-1])).astype(int)\n    \n    return ohlc_feats",
      "execution_count": 5,
      "outputs": []
    },
    {
      "metadata": {
        "ExecuteTime": {
          "start_time": "2019-02-06T12:34:17.596606Z",
          "end_time": "2019-02-06T12:34:17.628019Z"
        },
        "code_folding": [
          0
        ],
        "trusted": true
      },
      "cell_type": "code",
      "source": "def get_vol_feats(data):\n    bv = data.VOLUME.values.astype(float)\n    qv = data.QUOTE_VOL.values.astype(float)\n    tbv = data.TAKE_BASE_VOL.values.astype(float)\n    tqv = data.TAKE_QUOTE_VOL.values.astype(float)\n    nt = data.NUM_TRADES.values.astype(float)\n    \n    vol_feats = pd.DataFrame({'OPEN_TIME': data.OPEN_TIME.values})\n    \n    vol_feats['BV_GREATER_TBV'] = (bv  > tbv).astype(int)\n    vol_feats['BV_EQUAL_TBV'  ] = (bv == tbv).astype(int)\n    vol_feats['BV_LESSER_TBV' ] = (bv  < tbv).astype(int)\n    vol_feats['QV_GREATER_TQV'] = (qv  > tqv).astype(int)\n    vol_feats['QV_EQUAL_TQV'  ] = (qv == tqv).astype(int)\n    vol_feats['QV_LESSER_TQV' ] = (qv  < tqv).astype(int)\n    \n    # vol_feats['BV_QV_FRAC'    ] = bv / qv\n    # vol_feats['QV_BV_FRAC'    ] = qv / bv\n    # vol_feats['BV_QV_FRAC_INV'] = 1 - bv / qv\n    # vol_feats['QV_BV_FRAC_INV'] = 1 - qv / bv\n    # \n    # vol_feats['TBV_TQV_FRAC'    ] = tbv / tqv\n    # vol_feats['TQV_TBV_FRAC'    ] = tqv / tbv\n    # vol_feats['TBV_TQV_FRAC_INV'] = 1 - tbv / tqv\n    # vol_feats['TQV_TBV_FRAC_INV'] = 1 - tqv / tbv\n    # \n    # vol_feats['BV_TBV_FRAC'    ] = bv / tbv\n    # vol_feats['TBV_BV_FRAC'    ] = tbv / bv\n    # vol_feats['BV_TBV_FRAC_INV'] = 1 - bv / tbv\n    # vol_feats['TBV_BV_FRAC_INV'] = 1 - tbv / bv\n    # \n    # vol_feats['QV_TQV_FRAC'    ] = qv / tqv\n    # vol_feats['TQV_QV_FRAC'    ] = tqv / qv\n    # vol_feats['QV_TQV_FRAC_INV'] = 1 - qv / tqv\n    # vol_feats['TQV_QV_FRAC_INV'] = 1 - tqv / qv\n    \n    vol_feats['BV_TBV_DIFF'    ] = bv - tbv\n    vol_feats['QV_TQV_DIFF'    ] = qv - tqv\n    \n    vol_feats['BV_TBV_DIFF_ABS'] = np.abs(bv - tbv)\n    vol_feats['QV_TQV_DIFF_ABS'] = np.abs(qv - tqv)\n    \n    return vol_feats",
      "execution_count": 6,
      "outputs": []
    },
    {
      "metadata": {
        "ExecuteTime": {
          "start_time": "2019-02-06T12:34:17.629747Z",
          "end_time": "2019-02-06T12:34:17.670499Z"
        },
        "code_folding": [
          0
        ],
        "trusted": true
      },
      "cell_type": "code",
      "source": "def get_ohlc_vol_feats(data):\n    o = data.OPEN.values.astype(float)\n    h = data.HIGH.values.astype(float)\n    l = data.LOW.values.astype(float)\n    c = data.CLOSE.values.astype(float)\n    bv = data.VOLUME.values.astype(float)\n    qv = data.QUOTE_VOL.values.astype(float)\n    tbv = data.TAKE_BASE_VOL.values.astype(float)\n    tqv = data.TAKE_QUOTE_VOL.values.astype(float)\n    \n    ohlc_vol_feats = pd.DataFrame({'OPEN_TIME': data.OPEN_TIME.values})\n    \n    ohlc_vol_feats['HL_BASE_VOL'] = h - l / bv\n    ohlc_vol_feats['OHLC_BASE_VOL'] = h - o + h - l + c - l / bv\n    ohlc_vol_feats['OLHC_BASE_VOL'] = o - l + h - l + h - c / bv\n    \n    ohlc_vol_feats['HL_QUOTE_VOL'] = h - l / qv\n    ohlc_vol_feats['OHLC_QUOTE_VOL'] = h - o + h - l + c - l / qv\n    ohlc_vol_feats['OLHC_QUOTE_VOL'] = o - l + h - l + h - c / qv\n    \n    ohlc_vol_feats['HL_TAKE_BASE_VOL'] = h - l / tbv\n    ohlc_vol_feats['OHLC_TAKE_BASE_VOL'] = h - o + h - l + c - l / tbv\n    ohlc_vol_feats['OLHC_TAKE_BASE_VOL'] = o - l + h - l + h - c / tbv\n    \n    ohlc_vol_feats['HL_TAKE_QUOTE_VOL'] = h - l / tqv\n    ohlc_vol_feats['OHLC_TAKE_QUOTE_VOL'] = h - o + h - l + c - l / tqv\n    ohlc_vol_feats['OLHC_TAKE_QUOTE_VOL'] = o - l + h - l + h - c / tqv\n    \n    ohlc_vol_feats['HL_BASE_VOL_INV']   = 1 / ohlc_vol_feats['HL_BASE_VOL']\n    ohlc_vol_feats['OHLC_BASE_VOL_INV'] = 1 / ohlc_vol_feats['OHLC_BASE_VOL']\n    ohlc_vol_feats['OLHC_BASE_VOL_INV'] = 1 / ohlc_vol_feats['OLHC_BASE_VOL']\n    \n    ohlc_vol_feats['HL_QUOTE_VOL_INV']   = 1 / ohlc_vol_feats['HL_QUOTE_VOL']\n    ohlc_vol_feats['OHLC_QUOTE_VOL_INV'] = 1 / ohlc_vol_feats['OHLC_QUOTE_VOL']\n    ohlc_vol_feats['OLHC_QUOTE_VOL_INV'] = 1 / ohlc_vol_feats['OLHC_QUOTE_VOL']\n    \n    ohlc_vol_feats['HL_TAKE_BASE_VOL_INV']   = 1 / ohlc_vol_feats['HL_TAKE_BASE_VOL']\n    ohlc_vol_feats['OHLC_TAKE_BASE_VOL_INV'] = 1 / ohlc_vol_feats['OHLC_TAKE_BASE_VOL']\n    ohlc_vol_feats['OLHC_TAKE_BASE_VOL_INV'] = 1 / ohlc_vol_feats['OLHC_TAKE_BASE_VOL']\n    \n    ohlc_vol_feats['HL_TAKE_QUOTE_VOL_INV']   = 1 / ohlc_vol_feats['HL_TAKE_QUOTE_VOL']\n    ohlc_vol_feats['OHLC_TAKE_QUOTE_VOL_INV'] = 1 / ohlc_vol_feats['OHLC_TAKE_QUOTE_VOL']\n    ohlc_vol_feats['OLHC_TAKE_QUOTE_VOL_INV'] = 1 / ohlc_vol_feats['OLHC_TAKE_QUOTE_VOL']\n    \n    return ohlc_vol_feats",
      "execution_count": 7,
      "outputs": []
    },
    {
      "metadata": {
        "ExecuteTime": {
          "start_time": "2019-02-06T12:34:17.673125Z",
          "end_time": "2019-02-06T12:34:17.693750Z"
        },
        "code_folding": [
          0
        ],
        "trusted": true
      },
      "cell_type": "code",
      "source": "def get_num_trades_feats(data):\n    o = data.OPEN.values.astype(float)\n    h = data.HIGH.values.astype(float)\n    l = data.LOW.values.astype(float)\n    c = data.CLOSE.values.astype(float)\n    bv = data.VOLUME.values.astype(float)\n    qv = data.QUOTE_VOL.values.astype(float)\n    tbv = data.TAKE_BASE_VOL.values.astype(float)\n    tqv = data.TAKE_QUOTE_VOL.values.astype(float)\n    nt = data.NUM_TRADES.values.astype(float)\n    \n    num_feats = pd.DataFrame({'OPEN_TIME': data.OPEN_TIME.values})\n    \n    num_feats['num_trades_inv']     = 1/nt\n    \n    # Vol feats\n    # num_feats['NUM_TRADES_PER_BV' ] = nt/bv\n    # num_feats['NUM_TRADES_PER_QV' ] = nt/qv\n    # num_feats['NUM_TRADES_PER_TBV'] = nt/tbv\n    # num_feats['NUM_TRADES_PER_TQV'] = nt/tqv\n    # \n    # num_feats['BV_PER_NUM_TRADES' ] = bv/nt\n    # num_feats['QV_PER_NUM_TRADES' ] = qv/nt\n    # num_feats['TBV_PER_NUM_TRADES'] = tbv/nt\n    # num_feats['TQV_PER_NUM_TRADES'] = tqv/nt\n    \n    # OHLC feats\n    num_feats['NUM_TRADES_HL_SPREAD'    ] = h - l / nt\n    num_feats['NUM_TRADES_HL_SPREAD_INV'] = nt / h - l\n    num_feats['NUM_TRADES_HL_AVG'       ] = (h + l)/2 / nt\n    num_feats['NUM_TRADES_OC_AVG'       ] = (o + c)/2 / nt\n    \n    return num_feats",
      "execution_count": 8,
      "outputs": []
    },
    {
      "metadata": {
        "ExecuteTime": {
          "start_time": "2019-02-06T12:34:17.696074Z",
          "end_time": "2019-02-06T12:34:19.258515Z"
        },
        "trusted": true
      },
      "cell_type": "code",
      "source": "file = 'ETHBTC_1m_1519496760000_1549568220000.csv'\ndata = pd.read_csv('data/'+file)\n\nohlc_feat        = get_ohlc_feats(data)\nohlc_cross_feat  = get_ohlc_cross_feats(data)\nvol_feat         = get_vol_feats(data)\nohlc_vol_feat    = get_ohlc_vol_feats(data)\nnum_trades_feat  = get_num_trades_feats(data)",
      "execution_count": 9,
      "outputs": []
    },
    {
      "metadata": {
        "ExecuteTime": {
          "start_time": "2019-02-06T12:34:19.260838Z",
          "end_time": "2019-02-06T12:34:23.598127Z"
        },
        "trusted": true
      },
      "cell_type": "code",
      "source": "all_feat = ohlc_feat.merge(ohlc_cross_feat, on='OPEN_TIME', how='outer')\nall_feat = all_feat.merge(vol_feat, on='OPEN_TIME', how='outer')\nall_feat = all_feat.merge(ohlc_vol_feat, on='OPEN_TIME', how='outer')\nall_feat = all_feat.merge(num_trades_feat, on='OPEN_TIME', how='outer')",
      "execution_count": 10,
      "outputs": []
    },
    {
      "metadata": {
        "ExecuteTime": {
          "start_time": "2019-02-06T13:13:03.862377Z",
          "end_time": "2019-02-06T13:13:03.973780Z"
        },
        "trusted": true
      },
      "cell_type": "code",
      "source": "all_feat.shape\nall_feat.head()",
      "execution_count": 11,
      "outputs": [
        {
          "execution_count": 11,
          "output_type": "execute_result",
          "data": {
            "text/plain": "(500000, 121)"
          },
          "metadata": {}
        },
        {
          "execution_count": 11,
          "output_type": "execute_result",
          "data": {
            "text/plain": "       OPEN_TIME      OHLC      OLHC  O_EQUAL_C  O_EQUAL_L  O_EQUAL_H  \\\n0  1519496760000  0.000258  0.000394          0          0          0   \n1  1519496820000  0.000220  0.000268          0          0          0   \n2  1519496880000  0.000428  0.000248          0          0          0   \n3  1519496940000  0.000290  0.000286          0          0          0   \n4  1519497000000  0.000101  0.000251          0          0          0   \n\n   C_EQUAL_H  C_EQUAL_L  L_EQUAL_H  O_GREATER_C        ...          \\\n0          0          0          0            1        ...           \n1          0          0          0            1        ...           \n2          0          0          0            0        ...           \n3          0          0          0            0        ...           \n4          0          1          0            1        ...           \n\n   OHLC_TAKE_BASE_VOL_INV  OLHC_TAKE_BASE_VOL_INV  HL_TAKE_QUOTE_VOL_INV  \\\n0               12.486614               12.455867              49.114696   \n1               13.758942               13.749701             -15.083869   \n2               12.280210               12.287620              29.280037   \n3               12.542618               12.523084              63.288578   \n4               13.270008               13.243646             -29.607974   \n\n   OHLC_TAKE_QUOTE_VOL_INV  OLHC_TAKE_QUOTE_VOL_INV  num_trades_inv  \\\n0                48.886597                48.526934        0.005208   \n1               -15.106199               -15.116983        0.008197   \n2                29.059662                29.165677        0.004785   \n3                62.709137                62.625491        0.009524   \n4               -29.619374               -29.751558        0.008547   \n\n   NUM_TRADES_HL_SPREAD  NUM_TRADES_HL_SPREAD_INV  NUM_TRADES_HL_AVG  \\\n0              0.085125               2243.691618           0.000445   \n1              0.084870               1425.647870           0.000701   \n2              0.085160               2442.387926           0.000409   \n3              0.084733               1227.324413           0.000814   \n4              0.084822               1367.503838           0.000731   \n\n   NUM_TRADES_OC_AVG  \n0           0.000445  \n1           0.000700  \n2           0.000409  \n3           0.000815  \n4           0.000731  \n\n[5 rows x 121 columns]",
            "text/html": "<div>\n<style scoped>\n    .dataframe tbody tr th:only-of-type {\n        vertical-align: middle;\n    }\n\n    .dataframe tbody tr th {\n        vertical-align: top;\n    }\n\n    .dataframe thead th {\n        text-align: right;\n    }\n</style>\n<table border=\"1\" class=\"dataframe\">\n  <thead>\n    <tr style=\"text-align: right;\">\n      <th></th>\n      <th>OPEN_TIME</th>\n      <th>OHLC</th>\n      <th>OLHC</th>\n      <th>O_EQUAL_C</th>\n      <th>O_EQUAL_L</th>\n      <th>O_EQUAL_H</th>\n      <th>C_EQUAL_H</th>\n      <th>C_EQUAL_L</th>\n      <th>L_EQUAL_H</th>\n      <th>O_GREATER_C</th>\n      <th>...</th>\n      <th>OHLC_TAKE_BASE_VOL_INV</th>\n      <th>OLHC_TAKE_BASE_VOL_INV</th>\n      <th>HL_TAKE_QUOTE_VOL_INV</th>\n      <th>OHLC_TAKE_QUOTE_VOL_INV</th>\n      <th>OLHC_TAKE_QUOTE_VOL_INV</th>\n      <th>num_trades_inv</th>\n      <th>NUM_TRADES_HL_SPREAD</th>\n      <th>NUM_TRADES_HL_SPREAD_INV</th>\n      <th>NUM_TRADES_HL_AVG</th>\n      <th>NUM_TRADES_OC_AVG</th>\n    </tr>\n  </thead>\n  <tbody>\n    <tr>\n      <th>0</th>\n      <td>1519496760000</td>\n      <td>0.000258</td>\n      <td>0.000394</td>\n      <td>0</td>\n      <td>0</td>\n      <td>0</td>\n      <td>0</td>\n      <td>0</td>\n      <td>0</td>\n      <td>1</td>\n      <td>...</td>\n      <td>12.486614</td>\n      <td>12.455867</td>\n      <td>49.114696</td>\n      <td>48.886597</td>\n      <td>48.526934</td>\n      <td>0.005208</td>\n      <td>0.085125</td>\n      <td>2243.691618</td>\n      <td>0.000445</td>\n      <td>0.000445</td>\n    </tr>\n    <tr>\n      <th>1</th>\n      <td>1519496820000</td>\n      <td>0.000220</td>\n      <td>0.000268</td>\n      <td>0</td>\n      <td>0</td>\n      <td>0</td>\n      <td>0</td>\n      <td>0</td>\n      <td>0</td>\n      <td>1</td>\n      <td>...</td>\n      <td>13.758942</td>\n      <td>13.749701</td>\n      <td>-15.083869</td>\n      <td>-15.106199</td>\n      <td>-15.116983</td>\n      <td>0.008197</td>\n      <td>0.084870</td>\n      <td>1425.647870</td>\n      <td>0.000701</td>\n      <td>0.000700</td>\n    </tr>\n    <tr>\n      <th>2</th>\n      <td>1519496880000</td>\n      <td>0.000428</td>\n      <td>0.000248</td>\n      <td>0</td>\n      <td>0</td>\n      <td>0</td>\n      <td>0</td>\n      <td>0</td>\n      <td>0</td>\n      <td>0</td>\n      <td>...</td>\n      <td>12.280210</td>\n      <td>12.287620</td>\n      <td>29.280037</td>\n      <td>29.059662</td>\n      <td>29.165677</td>\n      <td>0.004785</td>\n      <td>0.085160</td>\n      <td>2442.387926</td>\n      <td>0.000409</td>\n      <td>0.000409</td>\n    </tr>\n    <tr>\n      <th>3</th>\n      <td>1519496940000</td>\n      <td>0.000290</td>\n      <td>0.000286</td>\n      <td>0</td>\n      <td>0</td>\n      <td>0</td>\n      <td>0</td>\n      <td>0</td>\n      <td>0</td>\n      <td>0</td>\n      <td>...</td>\n      <td>12.542618</td>\n      <td>12.523084</td>\n      <td>63.288578</td>\n      <td>62.709137</td>\n      <td>62.625491</td>\n      <td>0.009524</td>\n      <td>0.084733</td>\n      <td>1227.324413</td>\n      <td>0.000814</td>\n      <td>0.000815</td>\n    </tr>\n    <tr>\n      <th>4</th>\n      <td>1519497000000</td>\n      <td>0.000101</td>\n      <td>0.000251</td>\n      <td>0</td>\n      <td>0</td>\n      <td>0</td>\n      <td>0</td>\n      <td>1</td>\n      <td>0</td>\n      <td>1</td>\n      <td>...</td>\n      <td>13.270008</td>\n      <td>13.243646</td>\n      <td>-29.607974</td>\n      <td>-29.619374</td>\n      <td>-29.751558</td>\n      <td>0.008547</td>\n      <td>0.084822</td>\n      <td>1367.503838</td>\n      <td>0.000731</td>\n      <td>0.000731</td>\n    </tr>\n  </tbody>\n</table>\n<p>5 rows × 121 columns</p>\n</div>"
          },
          "metadata": {}
        }
      ]
    },
    {
      "metadata": {
        "ExecuteTime": {
          "start_time": "2019-02-06T12:34:23.652180Z",
          "end_time": "2019-02-06T12:34:26.008363Z"
        },
        "trusted": true
      },
      "cell_type": "code",
      "source": "f = open('data/OHLCV_'+file+'_.pkl', 'wb')\npkl.dump(all_feat, f, -1)\nf.close()",
      "execution_count": 12,
      "outputs": []
    },
    {
      "metadata": {},
      "cell_type": "raw",
      "source": "ohlc_feat.isnull().sum().sum()\nohlc_cross_feat.isnull().sum().sum()\nvol_feat.isnull().sum().sum()\nohlc_vol_feat.isnull().sum().sum()\nnum_trades_feat.isnull().sum().sum()\n\nall_feat.isnull().sum().sum()"
    },
    {
      "metadata": {
        "ExecuteTime": {
          "start_time": "2019-01-31T19:22:13.814589Z",
          "end_time": "2019-01-31T19:22:13.972808Z"
        }
      },
      "cell_type": "raw",
      "source": "ohlc_feat.head()  \nohlc_cross_feat.head()\nvol_feat.head()\nohlc_vol_feat.head()\nnum_trades_feat.head()"
    }
  ],
  "metadata": {
    "kernelspec": {
      "name": "python2",
      "display_name": "Python 2",
      "language": "python"
    },
    "varInspector": {
      "kernels_config": {
        "python": {
          "delete_cmd_postfix": "",
          "library": "var_list.py",
          "delete_cmd_prefix": "del ",
          "varRefreshCmd": "print(var_dic_list())"
        },
        "r": {
          "delete_cmd_postfix": ") ",
          "library": "var_list.r",
          "delete_cmd_prefix": "rm(",
          "varRefreshCmd": "cat(var_dic_list()) "
        }
      },
      "cols": {
        "lenType": 16,
        "lenName": 16,
        "lenVar": 40
      },
      "types_to_exclude": [
        "module",
        "function",
        "builtin_function_or_method",
        "instance",
        "_Feature"
      ],
      "window_display": false
    },
    "language_info": {
      "mimetype": "text/x-python",
      "nbconvert_exporter": "python",
      "name": "python",
      "pygments_lexer": "ipython2",
      "version": "2.7.15+",
      "file_extension": ".py",
      "codemirror_mode": {
        "version": 2,
        "name": "ipython"
      }
    },
    "gist": {
      "id": "",
      "data": {
        "description": "Indicators_OHLCV.ipynb",
        "public": false
      }
    }
  },
  "nbformat": 4,
  "nbformat_minor": 2
}