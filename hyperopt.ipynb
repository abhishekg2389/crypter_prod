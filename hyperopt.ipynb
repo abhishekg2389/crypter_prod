{
  "cells": [
    {
      "metadata": {
        "ExecuteTime": {
          "start_time": "2019-02-22T00:24:08.167425Z",
          "end_time": "2019-02-22T00:24:09.360963Z"
        },
        "collapsed": true,
        "trusted": true
      },
      "cell_type": "code",
      "source": "import numpy as np\nfrom collections import OrderedDict\n\nfrom hyperopt import fmin, tpe\nfrom hyperopt.pyll.stochastic import sample\n\n# Database\nfrom hyperopt import Trials\n\nfrom hyperopt import STATUS_OK\nfrom timeit import default_timer as timer\n\nfrom itertools import product",
      "execution_count": 1,
      "outputs": []
    },
    {
      "metadata": {
        "ExecuteTime": {
          "start_time": "2019-02-22T00:24:09.362561Z",
          "end_time": "2019-02-22T00:24:10.304678Z"
        },
        "collapsed": true,
        "trusted": true
      },
      "cell_type": "code",
      "source": "%run utils.ipynb",
      "execution_count": 2,
      "outputs": []
    },
    {
      "metadata": {
        "ExecuteTime": {
          "start_time": "2019-02-22T00:24:10.307024Z",
          "end_time": "2019-02-22T00:24:10.545359Z"
        },
        "collapsed": true,
        "code_folding": [],
        "trusted": true
      },
      "cell_type": "code",
      "source": "class Hyperopt():\n    def __init__(self, model, objective=None):\n        self._model_type     = model.model_type\n        self._hyperopt_scope = model.hyperopt_scope\n        self._grid_scope     = model.grid_scope\n        self._model          = model\n        \n        self.objective_fn    = objective\n        self.hp_trials       = Trials()\n        self.iteration       = 0\n        self.history         = {}\n    \n    def run(self, key, data, target, n_cv=0, data_transformer=None, eval_set=None, algo=tpe.suggest, max_evals=10, random_seed=0, verbose=1):\n        if self.objective_fn == None:\n            objective_fn = self.get_objective_fn(key, data, target, n_cv, data_transformer, eval_set)\n        else:\n            objective_fn = self.objective_fn\n        \n        if algo != 'grid':\n            params_space = self._hyperopt_scope\n            best_result = fmin(\n                fn=objective_fn, \n                space=params_space, \n                algo=algo, \n                max_evals=max_evals, \n                trials=self.hp_trials,\n                rstate=np.random.RandomState(random_seed)\n            )\n            return self.hp_trials.results\n        elif algo == 'grid':\n            params_space = self._grid_scope\n            params_set = (dict(zip(params_space.keys(), values)) for values in product(*params_space.values()))\n            results = []\n            for params in params_set:\n                result = objective_fn(params)\n                results.append(result)\n        \n        print(results)\n    \n    def get_objective_fn(\n        self, \n        key, \n        data, \n        target, \n        n_cv=0, \n        data_transformer=lambda id, x, y: (id, x, y), \n        eval_set=None\n    ):\n        if n_cv != 0:\n            self.cv_folds = get_ts_cv_folds(key.shape[0], n_folds=n_cv, frac_min_tr=0.6, max_tr='full')\n        \n        if eval_set == None:\n            self.eval_set = OrderedDict()\n        else:\n            self.eval_set = eval_set\n\n        self.data_transformer = data_transformer\n        \n        def objective(params):\n            # keep track of evals\n            self.iteration += 1\n            print(\"Hyperopt Iteration : \" + str(self.iteration))\n            \n            params_key = \"__\".join([str(k)+'_'+str(v) for k, v in params.items()])\n            if params_key in self.history:\n                return self.history[params_key]\n            \n            target_metric = self._model.get_target_metric()\n    \n            start = timer()\n    \n            print(params)\n        \n            cvs = []\n            models = []\n            attributes = []\n            results = []\n    \n            # perform n_folds cross validation\n            if n_cv == 0:\n                id, X, y = self.data_transformer(key, data, target, retrain=True)\n                eval_set = {k: self.data_transformer(v[0], v[1], v[2], retrain=False) for k, v in self.eval_set.iteritems()}\n                \n                self._model.init_model(params)\n                result = self._model.fit(X, y, eval_set)\n                cvs.append(result.loc['CV'][target_metric])\n                models.append(self._model.model)\n                attributes.append(self._model.get_attributes(self._model.model))\n                results.append(result)\n                \n                print(result)\n            elif n_cv > 0:\n                for fold, cv_fold in enumerate(self.cv_folds):\n                    cv_start = timer()\n\n                    TR_id = key[cv_fold[0]:cv_fold[1], :]\n                    TR_X = data[cv_fold[0]:cv_fold[1], :]\n                    TR_y = target[cv_fold[0]:cv_fold[1], :]\n                    TR_id, TR_X, TR_y = self.data_transformer(TR_id, TR_X, TR_y, retrain=True)\n                    \n                    eval_set = {k: self.data_transformer(v[0], v[1], v[2], retrain=False) for k, v in self.eval_set.iteritems()}\n                    eval_set['TR'] = (TR_id, TR_X, TR_y)\n                    \n                    CV_id = key[cv_fold[2]:cv_fold[3], :]\n                    CV_X = data[cv_fold[2]:cv_fold[3], :]\n                    CV_y = target[cv_fold[2]:cv_fold[3], :]\n                    CV_id, CV_X, CV_y = self.data_transformer(CV_id, CV_X, CV_y, retrain=False)\n                    eval_set['CV'] = (CV_id, CV_X, CV_y)\n\n                    self._model.init_model(params)\n                    result = self._model.fit(TR_X, TR_y, eval_set)\n\n                    cvs.append(result.loc['CV'][target_metric])\n                    models.append(self._model.model)\n                    attributes.append(self._model.get_attributes(self._model.model))\n                    results.append(result)\n                    print('CV_fold : ', fold, timer() - cv_start)\n                    print(result)\n\n            run_time = timer() - start\n\n            cv_mean = np.mean(cvs)\n            cv_std = np.std(cvs)\n\n            ret = {\n                'iteration': self.iteration,\n                'loss': cv_mean,\n                'loss_variance': cv_std,\n                'eval_time': run_time,\n                'status': STATUS_OK,\n                \n                'params': params,\n                'attributes': attributes\n            }\n            self.history[params_key] = ret\n            return ret\n        \n        return objective",
      "execution_count": 3,
      "outputs": []
    },
    {
      "metadata": {
        "collapsed": true,
        "trusted": true
      },
      "cell_type": "code",
      "source": "",
      "execution_count": null,
      "outputs": []
    }
  ],
  "metadata": {
    "kernelspec": {
      "name": "python2",
      "display_name": "Python 2",
      "language": "python"
    },
    "varInspector": {
      "window_display": false,
      "cols": {
        "lenName": 16,
        "lenType": 16,
        "lenVar": 40
      },
      "kernels_config": {
        "python": {
          "library": "var_list.py",
          "delete_cmd_prefix": "del ",
          "delete_cmd_postfix": "",
          "varRefreshCmd": "print(var_dic_list())"
        },
        "r": {
          "library": "var_list.r",
          "delete_cmd_prefix": "rm(",
          "delete_cmd_postfix": ") ",
          "varRefreshCmd": "cat(var_dic_list()) "
        }
      },
      "types_to_exclude": [
        "module",
        "function",
        "builtin_function_or_method",
        "instance",
        "_Feature"
      ]
    },
    "language_info": {
      "mimetype": "text/x-python",
      "nbconvert_exporter": "python",
      "name": "python",
      "pygments_lexer": "ipython2",
      "version": "2.7.13",
      "file_extension": ".py",
      "codemirror_mode": {
        "version": 2,
        "name": "ipython"
      }
    },
    "_draft": {
      "nbviewer_url": "https://gist.github.com/9e0e96b406b4b4d69c9a4ae27d55ee3c"
    },
    "gist": {
      "id": "9e0e96b406b4b4d69c9a4ae27d55ee3c",
      "data": {
        "description": "hyperopt.ipynb",
        "public": false
      }
    }
  },
  "nbformat": 4,
  "nbformat_minor": 2
}