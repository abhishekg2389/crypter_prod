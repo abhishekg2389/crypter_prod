{
  "cells": [
    {
      "metadata": {
        "ExecuteTime": {
          "start_time": "2019-02-08T10:54:10.000925Z",
          "end_time": "2019-02-08T10:54:10.032984Z"
        },
        "collapsed": true,
        "trusted": true
      },
      "cell_type": "code",
      "source": "import pandas as pd\nimport numpy as np",
      "execution_count": 8,
      "outputs": []
    },
    {
      "metadata": {
        "ExecuteTime": {
          "start_time": "2019-02-08T10:54:10.210044Z",
          "end_time": "2019-02-08T10:54:11.383216Z"
        },
        "trusted": true
      },
      "cell_type": "code",
      "source": "def read_data(file):\n    df = pd.read_csv(file)\n    df.head(10)\n    return df",
      "execution_count": 9,
      "outputs": [
        {
          "execution_count": 9,
          "output_type": "execute_result",
          "data": {
            "text/plain": "       OPEN_TIME      OPEN      HIGH       LOW     CLOSE  VOLUME  \\\n0  1519496760000  0.085541  0.085570  0.085407  0.085473  27.714   \n1  1519496820000  0.085473  0.085570  0.085448  0.085449  20.128   \n2  1519496880000  0.085448  0.085569  0.085400  0.085538  45.510   \n3  1519496940000  0.085538  0.085546  0.085402  0.085540  22.231   \n4  1519497000000  0.085539  0.085552  0.085464  0.085464  15.243   \n5  1519497060000  0.085466  0.085555  0.085464  0.085545  31.895   \n6  1519497120000  0.085545  0.085545  0.085464  0.085539  13.325   \n7  1519497180000  0.085539  0.085555  0.085414  0.085517  28.202   \n8  1519497240000  0.085460  0.085545  0.085419  0.085534  15.302   \n9  1519497300000  0.085440  0.085545  0.085440  0.085533  13.730   \n\n      CLOSE_TIME  QUOTE_VOL  NUM_TRADES  TAKE_BASE_VOL  TAKE_QUOTE_VOL  EXTRA  \n0  1519496819999   2.370345         192         15.308        1.309733      0  \n1  1519496879999   1.720609         122          6.579        0.562654      0  \n2  1519496939999   3.890176         209         19.426        1.660960      0  \n3  1519496999999   1.900513         105         14.320        1.224483      0  \n4  1519497059999   1.303412         117          8.373        0.716219      0  \n5  1519497119999   2.727413         131         19.237        1.645547      0  \n6  1519497179999   1.139346          78          7.311        0.625352      0  \n7  1519497239999   2.411093         195         14.409        1.232346      0  \n8  1519497299999   1.307959         134          7.216        0.617035      0  \n9  1519497359999   1.173580         105          6.186        0.529001      0  ",
            "text/html": "<div>\n<style scoped>\n    .dataframe tbody tr th:only-of-type {\n        vertical-align: middle;\n    }\n\n    .dataframe tbody tr th {\n        vertical-align: top;\n    }\n\n    .dataframe thead th {\n        text-align: right;\n    }\n</style>\n<table border=\"1\" class=\"dataframe\">\n  <thead>\n    <tr style=\"text-align: right;\">\n      <th></th>\n      <th>OPEN_TIME</th>\n      <th>OPEN</th>\n      <th>HIGH</th>\n      <th>LOW</th>\n      <th>CLOSE</th>\n      <th>VOLUME</th>\n      <th>CLOSE_TIME</th>\n      <th>QUOTE_VOL</th>\n      <th>NUM_TRADES</th>\n      <th>TAKE_BASE_VOL</th>\n      <th>TAKE_QUOTE_VOL</th>\n      <th>EXTRA</th>\n    </tr>\n  </thead>\n  <tbody>\n    <tr>\n      <th>0</th>\n      <td>1519496760000</td>\n      <td>0.085541</td>\n      <td>0.085570</td>\n      <td>0.085407</td>\n      <td>0.085473</td>\n      <td>27.714</td>\n      <td>1519496819999</td>\n      <td>2.370345</td>\n      <td>192</td>\n      <td>15.308</td>\n      <td>1.309733</td>\n      <td>0</td>\n    </tr>\n    <tr>\n      <th>1</th>\n      <td>1519496820000</td>\n      <td>0.085473</td>\n      <td>0.085570</td>\n      <td>0.085448</td>\n      <td>0.085449</td>\n      <td>20.128</td>\n      <td>1519496879999</td>\n      <td>1.720609</td>\n      <td>122</td>\n      <td>6.579</td>\n      <td>0.562654</td>\n      <td>0</td>\n    </tr>\n    <tr>\n      <th>2</th>\n      <td>1519496880000</td>\n      <td>0.085448</td>\n      <td>0.085569</td>\n      <td>0.085400</td>\n      <td>0.085538</td>\n      <td>45.510</td>\n      <td>1519496939999</td>\n      <td>3.890176</td>\n      <td>209</td>\n      <td>19.426</td>\n      <td>1.660960</td>\n      <td>0</td>\n    </tr>\n    <tr>\n      <th>3</th>\n      <td>1519496940000</td>\n      <td>0.085538</td>\n      <td>0.085546</td>\n      <td>0.085402</td>\n      <td>0.085540</td>\n      <td>22.231</td>\n      <td>1519496999999</td>\n      <td>1.900513</td>\n      <td>105</td>\n      <td>14.320</td>\n      <td>1.224483</td>\n      <td>0</td>\n    </tr>\n    <tr>\n      <th>4</th>\n      <td>1519497000000</td>\n      <td>0.085539</td>\n      <td>0.085552</td>\n      <td>0.085464</td>\n      <td>0.085464</td>\n      <td>15.243</td>\n      <td>1519497059999</td>\n      <td>1.303412</td>\n      <td>117</td>\n      <td>8.373</td>\n      <td>0.716219</td>\n      <td>0</td>\n    </tr>\n    <tr>\n      <th>5</th>\n      <td>1519497060000</td>\n      <td>0.085466</td>\n      <td>0.085555</td>\n      <td>0.085464</td>\n      <td>0.085545</td>\n      <td>31.895</td>\n      <td>1519497119999</td>\n      <td>2.727413</td>\n      <td>131</td>\n      <td>19.237</td>\n      <td>1.645547</td>\n      <td>0</td>\n    </tr>\n    <tr>\n      <th>6</th>\n      <td>1519497120000</td>\n      <td>0.085545</td>\n      <td>0.085545</td>\n      <td>0.085464</td>\n      <td>0.085539</td>\n      <td>13.325</td>\n      <td>1519497179999</td>\n      <td>1.139346</td>\n      <td>78</td>\n      <td>7.311</td>\n      <td>0.625352</td>\n      <td>0</td>\n    </tr>\n    <tr>\n      <th>7</th>\n      <td>1519497180000</td>\n      <td>0.085539</td>\n      <td>0.085555</td>\n      <td>0.085414</td>\n      <td>0.085517</td>\n      <td>28.202</td>\n      <td>1519497239999</td>\n      <td>2.411093</td>\n      <td>195</td>\n      <td>14.409</td>\n      <td>1.232346</td>\n      <td>0</td>\n    </tr>\n    <tr>\n      <th>8</th>\n      <td>1519497240000</td>\n      <td>0.085460</td>\n      <td>0.085545</td>\n      <td>0.085419</td>\n      <td>0.085534</td>\n      <td>15.302</td>\n      <td>1519497299999</td>\n      <td>1.307959</td>\n      <td>134</td>\n      <td>7.216</td>\n      <td>0.617035</td>\n      <td>0</td>\n    </tr>\n    <tr>\n      <th>9</th>\n      <td>1519497300000</td>\n      <td>0.085440</td>\n      <td>0.085545</td>\n      <td>0.085440</td>\n      <td>0.085533</td>\n      <td>13.730</td>\n      <td>1519497359999</td>\n      <td>1.173580</td>\n      <td>105</td>\n      <td>6.186</td>\n      <td>0.529001</td>\n      <td>0</td>\n    </tr>\n  </tbody>\n</table>\n</div>"
          },
          "metadata": {}
        }
      ]
    },
    {
      "metadata": {
        "ExecuteTime": {
          "start_time": "2019-02-06T22:20:59.441257Z",
          "end_time": "2019-02-06T22:20:59.462998Z"
        },
        "collapsed": true,
        "trusted": true
      },
      "cell_type": "code",
      "source": "# Target 1\ndef get_target_1(file, data=None):\n    if isinstance(data, pd.DataFrame):\n        df = data\n    else:\n        df = read_data(file)\n    res = pd.DataFrame({})\n    res['CLOSE_TIME'] = df.CLOSE_TIME\n    res['TARGET']     = (df.OPEN > df.CLOSE).astype(int).shift(-1)\n    return res.iloc[:-1,:]\n\ndef target_1_returns(data, signal):\n    # data contains (atleast): OPEN_TIME, OPEN, CLOSE\n    # signal : OPEN_TIME, ACTION {1: buy, 0: hold, -1: sell}\n    \n    data_signal_df = pd.merge(df_, signal, on='OPEN_TIME')\n    data_signal_df.head()\n    data_signal_df.shape\n    \n    return (data_signal_df.ACTION*(data_signal_df.CLOSE - data_signal_df.OPEN)).sum()",
      "execution_count": 3,
      "outputs": []
    },
    {
      "metadata": {
        "ExecuteTime": {
          "start_time": "2019-02-07T19:07:42.700178Z",
          "end_time": "2019-02-07T19:07:42.741722Z"
        },
        "collapsed": true,
        "trusted": true
      },
      "cell_type": "code",
      "source": "def eval_class_metrics(y_true, y_pred, thresh=0.5, metrics=[]):\n    y_true = y_true.astype(int)\n    y_scores = y_pred\n    y_pred[y_pred >= thresh] = 1\n    y_pred[y_pred < thresh]  = 0\n    \n    result = {}\n    \n    from sklearn.metrics import confusion_matrix\n    tn, fp, fn, tp = confusion_matrix(y_true, y_pred).ravel()\n    if 'tp' in metrics:\n        result['tp'] = tp\n    if 'fp' in metrics:\n        result['fp'] = fp\n    if 'tn' in metrics:\n        result['tn'] = tn\n    if 'fn' in metrics:\n        result['fn'] = fn\n    \n    if 'acc' in metrics:\n        from sklearn.metrics import accuracy_score\n        result['acc'] = accuracy_score(y_true, y_pred)\n    \n    if 'f1' in metrics:\n        from sklearn.metrics import f1_score\n        result['f1'] = f1_score(y_true, y_pred)\n    \n    if 'auc' in metrics:\n        from sklearn.metrics import roc_auc_score\n        result['auc'] = roc_auc_score(y_true, y_scores)\n    \n    if 'log_loss' in metrics:\n        from sklearn.metrics import log_loss\n        result['log_loss'] = log_loss(y_true, y_pred)\n    \n    return result",
      "execution_count": 5,
      "outputs": []
    },
    {
      "metadata": {
        "collapsed": true,
        "trusted": true
      },
      "cell_type": "code",
      "source": "",
      "execution_count": null,
      "outputs": []
    },
    {
      "metadata": {
        "collapsed": true,
        "trusted": true
      },
      "cell_type": "code",
      "source": "",
      "execution_count": null,
      "outputs": []
    }
  ],
  "metadata": {
    "kernelspec": {
      "name": "python2",
      "display_name": "Python 2",
      "language": "python"
    },
    "varInspector": {
      "window_display": false,
      "cols": {
        "lenName": 16,
        "lenType": 16,
        "lenVar": 40
      },
      "kernels_config": {
        "python": {
          "library": "var_list.py",
          "delete_cmd_prefix": "del ",
          "delete_cmd_postfix": "",
          "varRefreshCmd": "print(var_dic_list())"
        },
        "r": {
          "library": "var_list.r",
          "delete_cmd_prefix": "rm(",
          "delete_cmd_postfix": ") ",
          "varRefreshCmd": "cat(var_dic_list()) "
        }
      },
      "types_to_exclude": [
        "module",
        "function",
        "builtin_function_or_method",
        "instance",
        "_Feature"
      ]
    },
    "language_info": {
      "mimetype": "text/x-python",
      "nbconvert_exporter": "python",
      "name": "python",
      "pygments_lexer": "ipython2",
      "version": "2.7.13",
      "file_extension": ".py",
      "codemirror_mode": {
        "version": 2,
        "name": "ipython"
      }
    },
    "_draft": {
      "nbviewer_url": "https://gist.github.com/9e0e96b406b4b4d69c9a4ae27d55ee3c"
    },
    "gist": {
      "id": "9e0e96b406b4b4d69c9a4ae27d55ee3c",
      "data": {
        "description": "targets.ipynb",
        "public": false
      }
    }
  },
  "nbformat": 4,
  "nbformat_minor": 2
}