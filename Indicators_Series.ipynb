{
 "cells": [
  {
   "cell_type": "code",
   "execution_count": 2,
   "metadata": {
    "ExecuteTime": {
     "end_time": "2019-02-22T23:49:07.078102Z",
     "start_time": "2019-02-22T23:49:07.073583Z"
    },
    "collapsed": true
   },
   "outputs": [],
   "source": [
    "from IPython.core.interactiveshell import InteractiveShell\n",
    "InteractiveShell.ast_node_interactivity = \"all\""
   ]
  },
  {
   "cell_type": "code",
   "execution_count": 3,
   "metadata": {
    "ExecuteTime": {
     "end_time": "2019-02-22T23:49:07.325843Z",
     "start_time": "2019-02-22T23:49:07.321283Z"
    },
    "collapsed": true
   },
   "outputs": [],
   "source": [
    "import warnings\n",
    "warnings.filterwarnings('ignore')"
   ]
  },
  {
   "cell_type": "code",
   "execution_count": 4,
   "metadata": {
    "ExecuteTime": {
     "end_time": "2019-02-22T23:49:12.333922Z",
     "start_time": "2019-02-22T23:49:07.558065Z"
    },
    "collapsed": true
   },
   "outputs": [],
   "source": [
    "import numpy as np\n",
    "import pandas as pd\n",
    "import collections as col\n",
    "import tsfresh as tsf\n",
    "import scipy as sp\n",
    "\n",
    "import matplotlib.pyplot as plt\n",
    "\n",
    "import time"
   ]
  },
  {
   "cell_type": "code",
   "execution_count": 6,
   "metadata": {
    "ExecuteTime": {
     "end_time": "2019-02-22T23:49:16.835548Z",
     "start_time": "2019-02-22T23:49:15.613367Z"
    }
   },
   "outputs": [
    {
     "data": {
      "text/plain": [
       "(500000, 12)"
      ]
     },
     "execution_count": 6,
     "metadata": {},
     "output_type": "execute_result"
    },
    {
     "data": {
      "text/html": [
       "<div>\n",
       "<style scoped>\n",
       "    .dataframe tbody tr th:only-of-type {\n",
       "        vertical-align: middle;\n",
       "    }\n",
       "\n",
       "    .dataframe tbody tr th {\n",
       "        vertical-align: top;\n",
       "    }\n",
       "\n",
       "    .dataframe thead th {\n",
       "        text-align: right;\n",
       "    }\n",
       "</style>\n",
       "<table border=\"1\" class=\"dataframe\">\n",
       "  <thead>\n",
       "    <tr style=\"text-align: right;\">\n",
       "      <th></th>\n",
       "      <th>OPEN_TIME</th>\n",
       "      <th>OPEN</th>\n",
       "      <th>HIGH</th>\n",
       "      <th>LOW</th>\n",
       "      <th>CLOSE</th>\n",
       "      <th>VOLUME</th>\n",
       "      <th>CLOSE_TIME</th>\n",
       "      <th>QUOTE_VOL</th>\n",
       "      <th>NUM_TRADES</th>\n",
       "      <th>TAKE_BASE_VOL</th>\n",
       "      <th>TAKE_QUOTE_VOL</th>\n",
       "      <th>EXTRA</th>\n",
       "    </tr>\n",
       "  </thead>\n",
       "  <tbody>\n",
       "    <tr>\n",
       "      <th>0</th>\n",
       "      <td>1519496760000</td>\n",
       "      <td>0.085541</td>\n",
       "      <td>0.085570</td>\n",
       "      <td>0.085407</td>\n",
       "      <td>0.085473</td>\n",
       "      <td>27.714</td>\n",
       "      <td>1519496819999</td>\n",
       "      <td>2.370345</td>\n",
       "      <td>192</td>\n",
       "      <td>15.308</td>\n",
       "      <td>1.309733</td>\n",
       "      <td>0</td>\n",
       "    </tr>\n",
       "    <tr>\n",
       "      <th>1</th>\n",
       "      <td>1519496820000</td>\n",
       "      <td>0.085473</td>\n",
       "      <td>0.085570</td>\n",
       "      <td>0.085448</td>\n",
       "      <td>0.085449</td>\n",
       "      <td>20.128</td>\n",
       "      <td>1519496879999</td>\n",
       "      <td>1.720609</td>\n",
       "      <td>122</td>\n",
       "      <td>6.579</td>\n",
       "      <td>0.562654</td>\n",
       "      <td>0</td>\n",
       "    </tr>\n",
       "    <tr>\n",
       "      <th>2</th>\n",
       "      <td>1519496880000</td>\n",
       "      <td>0.085448</td>\n",
       "      <td>0.085569</td>\n",
       "      <td>0.085400</td>\n",
       "      <td>0.085538</td>\n",
       "      <td>45.510</td>\n",
       "      <td>1519496939999</td>\n",
       "      <td>3.890176</td>\n",
       "      <td>209</td>\n",
       "      <td>19.426</td>\n",
       "      <td>1.660960</td>\n",
       "      <td>0</td>\n",
       "    </tr>\n",
       "    <tr>\n",
       "      <th>3</th>\n",
       "      <td>1519496940000</td>\n",
       "      <td>0.085538</td>\n",
       "      <td>0.085546</td>\n",
       "      <td>0.085402</td>\n",
       "      <td>0.085540</td>\n",
       "      <td>22.231</td>\n",
       "      <td>1519496999999</td>\n",
       "      <td>1.900513</td>\n",
       "      <td>105</td>\n",
       "      <td>14.320</td>\n",
       "      <td>1.224483</td>\n",
       "      <td>0</td>\n",
       "    </tr>\n",
       "    <tr>\n",
       "      <th>4</th>\n",
       "      <td>1519497000000</td>\n",
       "      <td>0.085539</td>\n",
       "      <td>0.085552</td>\n",
       "      <td>0.085464</td>\n",
       "      <td>0.085464</td>\n",
       "      <td>15.243</td>\n",
       "      <td>1519497059999</td>\n",
       "      <td>1.303412</td>\n",
       "      <td>117</td>\n",
       "      <td>8.373</td>\n",
       "      <td>0.716219</td>\n",
       "      <td>0</td>\n",
       "    </tr>\n",
       "    <tr>\n",
       "      <th>5</th>\n",
       "      <td>1519497060000</td>\n",
       "      <td>0.085466</td>\n",
       "      <td>0.085555</td>\n",
       "      <td>0.085464</td>\n",
       "      <td>0.085545</td>\n",
       "      <td>31.895</td>\n",
       "      <td>1519497119999</td>\n",
       "      <td>2.727413</td>\n",
       "      <td>131</td>\n",
       "      <td>19.237</td>\n",
       "      <td>1.645547</td>\n",
       "      <td>0</td>\n",
       "    </tr>\n",
       "    <tr>\n",
       "      <th>6</th>\n",
       "      <td>1519497120000</td>\n",
       "      <td>0.085545</td>\n",
       "      <td>0.085545</td>\n",
       "      <td>0.085464</td>\n",
       "      <td>0.085539</td>\n",
       "      <td>13.325</td>\n",
       "      <td>1519497179999</td>\n",
       "      <td>1.139346</td>\n",
       "      <td>78</td>\n",
       "      <td>7.311</td>\n",
       "      <td>0.625352</td>\n",
       "      <td>0</td>\n",
       "    </tr>\n",
       "    <tr>\n",
       "      <th>7</th>\n",
       "      <td>1519497180000</td>\n",
       "      <td>0.085539</td>\n",
       "      <td>0.085555</td>\n",
       "      <td>0.085414</td>\n",
       "      <td>0.085517</td>\n",
       "      <td>28.202</td>\n",
       "      <td>1519497239999</td>\n",
       "      <td>2.411093</td>\n",
       "      <td>195</td>\n",
       "      <td>14.409</td>\n",
       "      <td>1.232346</td>\n",
       "      <td>0</td>\n",
       "    </tr>\n",
       "    <tr>\n",
       "      <th>8</th>\n",
       "      <td>1519497240000</td>\n",
       "      <td>0.085460</td>\n",
       "      <td>0.085545</td>\n",
       "      <td>0.085419</td>\n",
       "      <td>0.085534</td>\n",
       "      <td>15.302</td>\n",
       "      <td>1519497299999</td>\n",
       "      <td>1.307959</td>\n",
       "      <td>134</td>\n",
       "      <td>7.216</td>\n",
       "      <td>0.617035</td>\n",
       "      <td>0</td>\n",
       "    </tr>\n",
       "    <tr>\n",
       "      <th>9</th>\n",
       "      <td>1519497300000</td>\n",
       "      <td>0.085440</td>\n",
       "      <td>0.085545</td>\n",
       "      <td>0.085440</td>\n",
       "      <td>0.085533</td>\n",
       "      <td>13.730</td>\n",
       "      <td>1519497359999</td>\n",
       "      <td>1.173580</td>\n",
       "      <td>105</td>\n",
       "      <td>6.186</td>\n",
       "      <td>0.529001</td>\n",
       "      <td>0</td>\n",
       "    </tr>\n",
       "  </tbody>\n",
       "</table>\n",
       "</div>"
      ],
      "text/plain": [
       "       OPEN_TIME      OPEN      HIGH       LOW     CLOSE  VOLUME  \\\n",
       "0  1519496760000  0.085541  0.085570  0.085407  0.085473  27.714   \n",
       "1  1519496820000  0.085473  0.085570  0.085448  0.085449  20.128   \n",
       "2  1519496880000  0.085448  0.085569  0.085400  0.085538  45.510   \n",
       "3  1519496940000  0.085538  0.085546  0.085402  0.085540  22.231   \n",
       "4  1519497000000  0.085539  0.085552  0.085464  0.085464  15.243   \n",
       "5  1519497060000  0.085466  0.085555  0.085464  0.085545  31.895   \n",
       "6  1519497120000  0.085545  0.085545  0.085464  0.085539  13.325   \n",
       "7  1519497180000  0.085539  0.085555  0.085414  0.085517  28.202   \n",
       "8  1519497240000  0.085460  0.085545  0.085419  0.085534  15.302   \n",
       "9  1519497300000  0.085440  0.085545  0.085440  0.085533  13.730   \n",
       "\n",
       "      CLOSE_TIME  QUOTE_VOL  NUM_TRADES  TAKE_BASE_VOL  TAKE_QUOTE_VOL  EXTRA  \n",
       "0  1519496819999   2.370345         192         15.308        1.309733      0  \n",
       "1  1519496879999   1.720609         122          6.579        0.562654      0  \n",
       "2  1519496939999   3.890176         209         19.426        1.660960      0  \n",
       "3  1519496999999   1.900513         105         14.320        1.224483      0  \n",
       "4  1519497059999   1.303412         117          8.373        0.716219      0  \n",
       "5  1519497119999   2.727413         131         19.237        1.645547      0  \n",
       "6  1519497179999   1.139346          78          7.311        0.625352      0  \n",
       "7  1519497239999   2.411093         195         14.409        1.232346      0  \n",
       "8  1519497299999   1.307959         134          7.216        0.617035      0  \n",
       "9  1519497359999   1.173580         105          6.186        0.529001      0  "
      ]
     },
     "execution_count": 6,
     "metadata": {},
     "output_type": "execute_result"
    }
   ],
   "source": [
    "file = 'ETHBTC_1m_1519496760000_1549568220000.csv'\n",
    "df = pd.read_csv('../data/'+file)\n",
    "df.shape\n",
    "df.head(10)"
   ]
  },
  {
   "cell_type": "code",
   "execution_count": 7,
   "metadata": {
    "ExecuteTime": {
     "end_time": "2019-02-22T23:49:19.165466Z",
     "start_time": "2019-02-22T23:49:19.160037Z"
    },
    "collapsed": true
   },
   "outputs": [],
   "source": [
    "from tsfresh.feature_extraction import feature_calculators as tsf"
   ]
  },
  {
   "cell_type": "code",
   "execution_count": 8,
   "metadata": {
    "ExecuteTime": {
     "end_time": "2019-02-22T23:49:20.261597Z",
     "start_time": "2019-02-22T23:49:19.858885Z"
    },
    "collapsed": true
   },
   "outputs": [],
   "source": [
    "def get_feats_tsf(data, source='CLOSE', period=5):\n",
    "    strt = time.time()\n",
    "    feats = pd.DataFrame({})\n",
    "    \n",
    "    feats['mean']                           = data[source].rolling(period).mean()\n",
    "    feats['std']                            = data[source].rolling(period).std()\n",
    "    feats['skew']                           = data[source].rolling(period).skew()\n",
    "    feats['kurtosis']                       = data[source].rolling(period).kurt()\n",
    "    feats['sum']                            = data[source].rolling(period).sum()\n",
    "    feats['min']                            = data[source].rolling(period).min()\n",
    "    feats['max']                            = data[source].rolling(period).max()\n",
    "    feats['q_0.1']                          = data[source].rolling(period).apply(lambda x: np.quantile(x, 0.1), raw=True)\n",
    "    feats['q_0.2']                          = data[source].rolling(period).apply(lambda x: np.quantile(x, 0.2), raw=True)\n",
    "    feats['q_0.3']                          = data[source].rolling(period).apply(lambda x: np.quantile(x, 0.3), raw=True)\n",
    "    feats['q_0.4']                          = data[source].rolling(period).apply(lambda x: np.quantile(x, 0.4), raw=True)\n",
    "    feats['q_0.5']                          = data[source].rolling(period).apply(lambda x: np.quantile(x, 0.5), raw=True)\n",
    "    feats['q_0.6']                          = data[source].rolling(period).apply(lambda x: np.quantile(x, 0.6), raw=True)\n",
    "    feats['q_0.7']                          = data[source].rolling(period).apply(lambda x: np.quantile(x, 0.7), raw=True)\n",
    "    feats['q_0.8']                          = data[source].rolling(period).apply(lambda x: np.quantile(x, 0.8), raw=True)\n",
    "    feats['q_0.9']                          = data[source].rolling(period).apply(lambda x: np.quantile(x, 0.9), raw=True)\n",
    "    feats['coeffofvar']                     = feats['std']/feats['mean']\n",
    "    feats['iqr']                            = data[source].rolling(period).apply(lambda x: np.quantile(x, 0.75) - np.quantile(x, 0.25), raw=True)\n",
    "    feats['hinge']                          = data[source].rolling(period).apply(lambda x: np.quantile(x, 0.75) + np.quantile(x, 0.25), raw=True)\n",
    "    feats['quartile_coeff_of_dispersion']   = feats['iqr']/feats['hinge']\n",
    "    feats['range']                          = feats['max'] - feats['min']\n",
    "    feats['symm_coeff']                     = (feats['mean'] - feats['q_0.5']) / feats['range']\n",
    "    \n",
    "    feats['abs_energy']                     = data[source].rolling(period).apply(lambda x: tsf.abs_energy(x), raw=True)\n",
    "    feats['abs_sum_of_changes']             = data[source].rolling(period).apply(lambda x: tsf.absolute_sum_of_changes(x), raw=True)\n",
    "    feats['sample_entropy']                 = data[source].rolling(period).apply(lambda x: tsf.sample_entropy(x), raw=True)\n",
    "    feats['mean_change']                    = data[source].rolling(period).apply(lambda x: tsf.mean_change(x), raw=True)\n",
    "    feats['mean_second_derivative_central'] = data[source].rolling(period).apply(lambda x: tsf.mean_second_derivative_central(x), raw=True)\n",
    "    \n",
    "    feats['number_crossing__q_0.25']        = data[source].rolling(period).apply(lambda x: tsf.number_crossing_m(x, np.quantile(x, 0.25)), raw=True)\n",
    "    feats['number_crossing__q_0.50']        = data[source].rolling(period).apply(lambda x: tsf.number_crossing_m(x, np.quantile(x, 0.5)), raw=True)\n",
    "    feats['number_crossing__q_0.75']        = data[source].rolling(period).apply(lambda x: tsf.number_crossing_m(x, np.quantile(x, 0.75)), raw=True)\n",
    "    feats['ratio_beyond_r_sigma__r_0.5']    = data[source].rolling(period).apply(lambda x: tsf.ratio_beyond_r_sigma(x, 0.5), raw=True)\n",
    "    feats['ratio_beyond_r_sigma__r_1.0']    = data[source].rolling(period).apply(lambda x: tsf.ratio_beyond_r_sigma(x, 1.0), raw=True)\n",
    "    feats['ratio_beyond_r_sigma__r_1.5']    = data[source].rolling(period).apply(lambda x: tsf.ratio_beyond_r_sigma(x, 1.5), raw=True)\n",
    "    feats['ratio_beyond_r_sigma__r_2.0']    = data[source].rolling(period).apply(lambda x: tsf.ratio_beyond_r_sigma(x, 2.0), raw=True)\n",
    "    feats['ratio_beyond_r_sigma__r_3.0']    = data[source].rolling(period).apply(lambda x: tsf.ratio_beyond_r_sigma(x, 3.0), raw=True)\n",
    "    feats['ratio_beyond_r_sigma__r_4.0']    = data[source].rolling(period).apply(lambda x: tsf.ratio_beyond_r_sigma(x, 4.0), raw=True)\n",
    "    feats['ratio_beyond_r_sigma__r_6.0']    = data[source].rolling(period).apply(lambda x: tsf.ratio_beyond_r_sigma(x, 6.0), raw=True)\n",
    "    feats['ratio_beyond_r_sigma__r_8.0']    = data[source].rolling(period).apply(lambda x: tsf.ratio_beyond_r_sigma(x, 8.0), raw=True)\n",
    "    feats['ratio_beyond_r_sigma__r_10.0']   = data[source].rolling(period).apply(lambda x: tsf.ratio_beyond_r_sigma(x, 10.0), raw=True)\n",
    "    feats['count_above_mean']               = data[source].rolling(period).apply(lambda x: tsf.count_above_mean(x), raw=True)\n",
    "    feats['count_below_mean']               = data[source].rolling(period).apply(lambda x: tsf.count_below_mean(x), raw=True)\n",
    "    feats['first_location_of_minimum']      = data[source].rolling(period).apply(lambda x: tsf.first_location_of_minimum(x), raw=True)\n",
    "    feats['first_location_of_maximum']      = data[source].rolling(period).apply(lambda x: tsf.first_location_of_maximum(x), raw=True)\n",
    "    feats['first_location_of_minimum']      = data[source].rolling(period).apply(lambda x: tsf.first_location_of_minimum(x), raw=True)\n",
    "    feats['first_location_of_maximum']      = data[source].rolling(period).apply(lambda x: tsf.first_location_of_maximum(x), raw=True)\n",
    "    feats['longest_strike_above_mean']      = data[source].rolling(period).apply(lambda x: tsf.longest_strike_above_mean(x), raw=True)\n",
    "    feats['longest_strike_below_mean']      = data[source].rolling(period).apply(lambda x: tsf.longest_strike_below_mean(x), raw=True)\n",
    "    feats['has_duplicate_min']              = data[source].rolling(period).apply(lambda x: tsf.has_duplicate_min(x), raw=True)\n",
    "    feats['has_duplicate_max']              = data[source].rolling(period).apply(lambda x: tsf.has_duplicate_max(x), raw=True)\n",
    "    \n",
    "    # feats['spkt_welch_density__coeff_1']    = data[source].rolling(period).apply(lambda x: list(tsf.spkt_welch_density(x, [{'coeff': 1}]))[0][1], raw=True)\n",
    "    # feats['spkt_welch_density__coeff_2']    = data[source].rolling(period).apply(lambda x: list(tsf.spkt_welch_density(x, [{'coeff': 2}]))[0][1], raw=True)\n",
    "    # feats['spkt_welch_density__coeff_3']    = data[source].rolling(period).apply(lambda x: list(tsf.spkt_welch_density(x, [{'coeff': 3}]))[0][1], raw=True)\n",
    "    # feats['spkt_welch_density__coeff_4']    = data[source].rolling(period).apply(lambda x: list(tsf.spkt_welch_density(x, [{'coeff': 4}]))[0][1], raw=True)\n",
    "    # feats['spkt_welch_density__coeff_5']    = data[source].rolling(period).apply(lambda x: list(tsf.spkt_welch_density(x, [{'coeff': 5}]))[0][1], raw=True)\n",
    "    # feats['spkt_welch_density__coeff_6']    = data[source].rolling(period).apply(lambda x: list(tsf.spkt_welch_density(x, [{'coeff': 6}]))[0][1], raw=True)\n",
    "    # feats['spkt_welch_density__coeff_7']    = data[source].rolling(period).apply(lambda x: list(tsf.spkt_welch_density(x, [{'coeff': 7}]))[0][1], raw=True)\n",
    "    # feats['spkt_welch_density__coeff_8']    = data[source].rolling(period).apply(lambda x: list(tsf.spkt_welch_density(x, [{'coeff': 8}]))[0][1], raw=True)\n",
    "    # feats['spkt_welch_density__coeff_9']    = data[source].rolling(period).apply(lambda x: list(tsf.spkt_welch_density(x, [{'coeff': 9}]))[0][1], raw=True)\n",
    "    # feats['spkt_welch_density__coeff_10']   = data[source].rolling(period).apply(lambda x: list(tsf.spkt_welch_density(x, [{'coeff': 10}]))[0][1], raw=True)\n",
    "    \n",
    "    feats['fft_aggregated__aggtype_centroid'] = data[source].rolling(period).apply(lambda x: list(tsf.fft_aggregated(x, [{'aggtype': 'centroid'}]))[0][1], raw=True)\n",
    "    feats['fft_aggregated__aggtype_variance'] = data[source].rolling(period).apply(lambda x: list(tsf.fft_aggregated(x, [{'aggtype': 'variance'}]))[0][1], raw=True)\n",
    "    feats['fft_aggregated__aggtype_skew']     = data[source].rolling(period).apply(lambda x: list(tsf.fft_aggregated(x, [{'aggtype': 'skew'}]))[0][1], raw=True)\n",
    "    feats['fft_aggregated__aggtype_kurtosis'] = data[source].rolling(period).apply(lambda x: list(tsf.fft_aggregated(x, [{'aggtype': 'kurtosis'}]))[0][1], raw=True)\n",
    "    \n",
    "    feats['cid_ce__normalize_true'] = data[source].rolling(period).apply(lambda x: tsf.cid_ce(x, True), raw=True)\n",
    "    feats['cid_ce__normalize_false'] = data[source].rolling(period).apply(lambda x: tsf.cid_ce(x, False), raw=True)\n",
    "    \n",
    "    feats['binned_entropy__max_bins_1']    = data[source].rolling(period).apply(lambda x: tsf.binned_entropy(x, 1), raw=True)\n",
    "    feats['binned_entropy__max_bins_2']    = data[source].rolling(period).apply(lambda x: tsf.binned_entropy(x, 2), raw=True)\n",
    "    feats['binned_entropy__max_bins_3']    = data[source].rolling(period).apply(lambda x: tsf.binned_entropy(x, 3), raw=True)\n",
    "    feats['binned_entropy__max_bins_4']    = data[source].rolling(period).apply(lambda x: tsf.binned_entropy(x, 4), raw=True)\n",
    "    feats['binned_entropy__max_bins_5']    = data[source].rolling(period).apply(lambda x: tsf.binned_entropy(x, 5), raw=True)\n",
    "    feats['binned_entropy__max_bins_6']    = data[source].rolling(period).apply(lambda x: tsf.binned_entropy(x, 6), raw=True)\n",
    "    feats['binned_entropy__max_bins_7']    = data[source].rolling(period).apply(lambda x: tsf.binned_entropy(x, 7), raw=True)\n",
    "    feats['binned_entropy__max_bins_8']    = data[source].rolling(period).apply(lambda x: tsf.binned_entropy(x, 8), raw=True)\n",
    "    feats['binned_entropy__max_bins_9']    = data[source].rolling(period).apply(lambda x: tsf.binned_entropy(x, 9), raw=True)\n",
    "    feats['binned_entropy__max_bins_10']   = data[source].rolling(period).apply(lambda x: tsf.binned_entropy(x, 10), raw=True)\n",
    "    \n",
    "    for m in [1, 2, 3, 4, 5]:\n",
    "        for r in [1, 3, 10, 30, 100]:\n",
    "            if m < period and r < period:\n",
    "                1==1\n",
    "                #feats['max_langevin_fixed_point__m_'+str(m)+'__r_'+str(r)] = data[source].rolling(period).apply(lambda x: tsf.max_langevin_fixed_point(x, m, r), raw=True)\n",
    "\n",
    "    for num_seg in [1, 2, 3, 4, 5]:\n",
    "        for seg_focus in [0, 1, 2, 3, 4]:\n",
    "            if num_seg < period and r < period and seg_focus < num_seg:\n",
    "                feats['energy_ratio_by_chunks__num_seg_'+str(num_seg)+'__seg_focus_'+str(seg_focus)] = data[source].rolling(period).apply(lambda x: tsf.energy_ratio_by_chunks(x, [{'num_segments': num_seg, 'segment_focus': seg_focus}]), raw=True)\n",
    "    \n",
    "    periods = [1, 2, 3, 4, 5, 6, 8, 10, 30, 60, 120, 180, 300, 600, 900, 1440]\n",
    "    for _period in periods:\n",
    "        if _period >= period:\n",
    "            continue\n",
    "        feats['time_reversal_asy_stat__lag_'+str(_period)]  = data[source].rolling(period).apply(lambda x: tsf.time_reversal_asymmetry_statistic(x, _period), raw=True)\n",
    "        feats['partial_autocorrelation__lag_'+str(_period)] = data[source].rolling(period).apply(lambda x: tsf.partial_autocorrelation(x, [{'lag': _period}])[0][1], raw=True)\n",
    "        feats['autocorrelation__lag_'+str(_period)]         = data[source].rolling(period).apply(lambda x: tsf.autocorrelation(x, _period), raw=True)\n",
    "        feats['number_cwt_peaks__width_'+str(_period)]      = data[source].rolling(period).apply(lambda x: tsf.number_cwt_peaks(x, _period), raw=True)\n",
    "        feats['c3__lag_'+str(_period)]                      = data[source].rolling(period).apply(lambda x: tsf.c3(x, _period), raw=True)\n",
    "        feats['apprxent__strd_'+str(_period)+'__filvl_0.1'] = data[source].rolling(period).apply(lambda x: tsf.approximate_entropy(x, _period, 0.1), raw=True)\n",
    "        feats['apprxent__strd_'+str(_period)+'__filvl_0.3'] = data[source].rolling(period).apply(lambda x: tsf.approximate_entropy(x, _period, 0.3), raw=True)\n",
    "        feats['apprxent__strd_'+str(_period)+'__filvl_0.5'] = data[source].rolling(period).apply(lambda x: tsf.approximate_entropy(x, _period, 0.5), raw=True)\n",
    "        feats['apprxent__strd_'+str(_period)+'__filvl_0.7'] = data[source].rolling(period).apply(lambda x: tsf.approximate_entropy(x, _period, 0.7), raw=True)\n",
    "        feats['apprxent__strd_'+str(_period)+'__filvl_0.9'] = data[source].rolling(period).apply(lambda x: tsf.approximate_entropy(x, _period, 0.9), raw=True)\n",
    "    \n",
    "    return feats"
   ]
  },
  {
   "cell_type": "raw",
   "metadata": {
    "collapsed": true
   },
   "source": [
    "df['NUM_TRADES'].rolling(100).apply(lambda x: tsf.number_peaks(x, 3), raw=True)"
   ]
  },
  {
   "cell_type": "code",
   "execution_count": 27,
   "metadata": {
    "ExecuteTime": {
     "end_time": "2019-01-30T18:39:58.957536Z",
     "start_time": "2019-01-30T17:20:42.208656Z"
    },
    "scrolled": false
   },
   "outputs": [
    {
     "data": {
      "text/plain": [
       "(100000, 103)"
      ]
     },
     "execution_count": 27,
     "metadata": {},
     "output_type": "execute_result"
    },
    {
     "data": {
      "text/plain": [
       "4756.74400305748"
      ]
     },
     "execution_count": 27,
     "metadata": {},
     "output_type": "execute_result"
    }
   ],
   "source": [
    "strt = time.time()\n",
    "feats = get_feats_tsf(df.iloc[:100000])\n",
    "feats.shape\n",
    "time.time() - strt"
   ]
  },
  {
   "cell_type": "code",
   "execution_count": 29,
   "metadata": {
    "ExecuteTime": {
     "end_time": "2019-01-30T18:54:27.446037Z",
     "start_time": "2019-01-30T18:54:26.442964Z"
    }
   },
   "outputs": [
    {
     "data": {
      "text/plain": [
       "(84,)"
      ]
     },
     "execution_count": 29,
     "metadata": {},
     "output_type": "execute_result"
    }
   ],
   "source": [
    "feats.apply(lambda x: hash(tuple(x.values,))).drop_duplicates().index.shape"
   ]
  }
 ],
 "metadata": {
  "_draft": {
   "nbviewer_url": "https://gist.github.com/9e0e96b406b4b4d69c9a4ae27d55ee3c"
  },
  "gist": {
   "data": {
    "description": "Indicators_Series.ipynb",
    "public": false
   },
   "id": "9e0e96b406b4b4d69c9a4ae27d55ee3c"
  },
  "kernelspec": {
   "display_name": "Python 2",
   "language": "python",
   "name": "python2"
  },
  "language_info": {
   "codemirror_mode": {
    "name": "ipython",
    "version": 2
   },
   "file_extension": ".py",
   "mimetype": "text/x-python",
   "name": "python",
   "nbconvert_exporter": "python",
   "pygments_lexer": "ipython2",
   "version": "2.7.13"
  },
  "varInspector": {
   "cols": {
    "lenName": 16,
    "lenType": 16,
    "lenVar": 40
   },
   "kernels_config": {
    "python": {
     "delete_cmd_postfix": "",
     "delete_cmd_prefix": "del ",
     "library": "var_list.py",
     "varRefreshCmd": "print(var_dic_list())"
    },
    "r": {
     "delete_cmd_postfix": ") ",
     "delete_cmd_prefix": "rm(",
     "library": "var_list.r",
     "varRefreshCmd": "cat(var_dic_list()) "
    }
   },
   "types_to_exclude": [
    "module",
    "function",
    "builtin_function_or_method",
    "instance",
    "_Feature"
   ],
   "window_display": false
  }
 },
 "nbformat": 4,
 "nbformat_minor": 2
}
