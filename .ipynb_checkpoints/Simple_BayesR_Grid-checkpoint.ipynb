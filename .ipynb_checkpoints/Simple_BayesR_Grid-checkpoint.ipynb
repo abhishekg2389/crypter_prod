{
 "cells": [
  {
   "cell_type": "code",
   "execution_count": 19,
   "metadata": {
    "ExecuteTime": {
     "end_time": "2019-02-24T18:22:04.458218Z",
     "start_time": "2019-02-24T18:22:04.447891Z"
    },
    "collapsed": true
   },
   "outputs": [],
   "source": [
    "from IPython.core.interactiveshell import InteractiveShell\n",
    "InteractiveShell.ast_node_interactivity = \"all\""
   ]
  },
  {
   "cell_type": "code",
   "execution_count": 20,
   "metadata": {
    "ExecuteTime": {
     "end_time": "2019-02-24T18:22:04.883780Z",
     "start_time": "2019-02-24T18:22:04.860170Z"
    }
   },
   "outputs": [
    {
     "data": {
      "text/plain": [
       "'0.20.2'"
      ]
     },
     "execution_count": 20,
     "metadata": {},
     "output_type": "execute_result"
    }
   ],
   "source": [
    "import sklearn\n",
    "sklearn.__version__"
   ]
  },
  {
   "cell_type": "code",
   "execution_count": 21,
   "metadata": {
    "ExecuteTime": {
     "end_time": "2019-02-24T18:22:05.073965Z",
     "start_time": "2019-02-24T18:22:05.068284Z"
    },
    "collapsed": true
   },
   "outputs": [],
   "source": [
    "import pandas as pd\n",
    "import pickle as pkl"
   ]
  },
  {
   "cell_type": "code",
   "execution_count": 22,
   "metadata": {
    "ExecuteTime": {
     "end_time": "2019-02-24T18:22:05.610136Z",
     "start_time": "2019-02-24T18:22:05.252797Z"
    },
    "collapsed": true
   },
   "outputs": [],
   "source": [
    "%run utils.ipynb\n",
    "%run targets.ipynb"
   ]
  },
  {
   "cell_type": "code",
   "execution_count": 23,
   "metadata": {
    "ExecuteTime": {
     "end_time": "2019-02-24T18:22:05.763778Z",
     "start_time": "2019-02-24T18:22:05.759040Z"
    },
    "collapsed": true
   },
   "outputs": [],
   "source": [
    "file = 'ETHBTC_1m_1519496760000_1549568220000.csv'"
   ]
  },
  {
   "cell_type": "code",
   "execution_count": 24,
   "metadata": {
    "ExecuteTime": {
     "end_time": "2019-02-24T18:22:07.377296Z",
     "start_time": "2019-02-24T18:22:05.929668Z"
    }
   },
   "outputs": [
    {
     "data": {
      "text/plain": [
       "(500000, 12)"
      ]
     },
     "execution_count": 24,
     "metadata": {},
     "output_type": "execute_result"
    },
    {
     "data": {
      "text/html": [
       "<div>\n",
       "<style scoped>\n",
       "    .dataframe tbody tr th:only-of-type {\n",
       "        vertical-align: middle;\n",
       "    }\n",
       "\n",
       "    .dataframe tbody tr th {\n",
       "        vertical-align: top;\n",
       "    }\n",
       "\n",
       "    .dataframe thead th {\n",
       "        text-align: right;\n",
       "    }\n",
       "</style>\n",
       "<table border=\"1\" class=\"dataframe\">\n",
       "  <thead>\n",
       "    <tr style=\"text-align: right;\">\n",
       "      <th></th>\n",
       "      <th>OPEN_TIME</th>\n",
       "      <th>OPEN</th>\n",
       "      <th>HIGH</th>\n",
       "      <th>LOW</th>\n",
       "      <th>CLOSE</th>\n",
       "      <th>VOLUME</th>\n",
       "      <th>CLOSE_TIME</th>\n",
       "      <th>QUOTE_VOL</th>\n",
       "      <th>NUM_TRADES</th>\n",
       "      <th>TAKE_BASE_VOL</th>\n",
       "      <th>TAKE_QUOTE_VOL</th>\n",
       "      <th>EXTRA</th>\n",
       "    </tr>\n",
       "  </thead>\n",
       "  <tbody>\n",
       "    <tr>\n",
       "      <th>0</th>\n",
       "      <td>1519496760000</td>\n",
       "      <td>0.085541</td>\n",
       "      <td>0.085570</td>\n",
       "      <td>0.085407</td>\n",
       "      <td>0.085473</td>\n",
       "      <td>27.714</td>\n",
       "      <td>1519496819999</td>\n",
       "      <td>2.370345</td>\n",
       "      <td>192</td>\n",
       "      <td>15.308</td>\n",
       "      <td>1.309733</td>\n",
       "      <td>0</td>\n",
       "    </tr>\n",
       "    <tr>\n",
       "      <th>1</th>\n",
       "      <td>1519496820000</td>\n",
       "      <td>0.085473</td>\n",
       "      <td>0.085570</td>\n",
       "      <td>0.085448</td>\n",
       "      <td>0.085449</td>\n",
       "      <td>20.128</td>\n",
       "      <td>1519496879999</td>\n",
       "      <td>1.720609</td>\n",
       "      <td>122</td>\n",
       "      <td>6.579</td>\n",
       "      <td>0.562654</td>\n",
       "      <td>0</td>\n",
       "    </tr>\n",
       "    <tr>\n",
       "      <th>2</th>\n",
       "      <td>1519496880000</td>\n",
       "      <td>0.085448</td>\n",
       "      <td>0.085569</td>\n",
       "      <td>0.085400</td>\n",
       "      <td>0.085538</td>\n",
       "      <td>45.510</td>\n",
       "      <td>1519496939999</td>\n",
       "      <td>3.890176</td>\n",
       "      <td>209</td>\n",
       "      <td>19.426</td>\n",
       "      <td>1.660960</td>\n",
       "      <td>0</td>\n",
       "    </tr>\n",
       "    <tr>\n",
       "      <th>3</th>\n",
       "      <td>1519496940000</td>\n",
       "      <td>0.085538</td>\n",
       "      <td>0.085546</td>\n",
       "      <td>0.085402</td>\n",
       "      <td>0.085540</td>\n",
       "      <td>22.231</td>\n",
       "      <td>1519496999999</td>\n",
       "      <td>1.900513</td>\n",
       "      <td>105</td>\n",
       "      <td>14.320</td>\n",
       "      <td>1.224483</td>\n",
       "      <td>0</td>\n",
       "    </tr>\n",
       "    <tr>\n",
       "      <th>4</th>\n",
       "      <td>1519497000000</td>\n",
       "      <td>0.085539</td>\n",
       "      <td>0.085552</td>\n",
       "      <td>0.085464</td>\n",
       "      <td>0.085464</td>\n",
       "      <td>15.243</td>\n",
       "      <td>1519497059999</td>\n",
       "      <td>1.303412</td>\n",
       "      <td>117</td>\n",
       "      <td>8.373</td>\n",
       "      <td>0.716219</td>\n",
       "      <td>0</td>\n",
       "    </tr>\n",
       "    <tr>\n",
       "      <th>5</th>\n",
       "      <td>1519497060000</td>\n",
       "      <td>0.085466</td>\n",
       "      <td>0.085555</td>\n",
       "      <td>0.085464</td>\n",
       "      <td>0.085545</td>\n",
       "      <td>31.895</td>\n",
       "      <td>1519497119999</td>\n",
       "      <td>2.727413</td>\n",
       "      <td>131</td>\n",
       "      <td>19.237</td>\n",
       "      <td>1.645547</td>\n",
       "      <td>0</td>\n",
       "    </tr>\n",
       "    <tr>\n",
       "      <th>6</th>\n",
       "      <td>1519497120000</td>\n",
       "      <td>0.085545</td>\n",
       "      <td>0.085545</td>\n",
       "      <td>0.085464</td>\n",
       "      <td>0.085539</td>\n",
       "      <td>13.325</td>\n",
       "      <td>1519497179999</td>\n",
       "      <td>1.139346</td>\n",
       "      <td>78</td>\n",
       "      <td>7.311</td>\n",
       "      <td>0.625352</td>\n",
       "      <td>0</td>\n",
       "    </tr>\n",
       "    <tr>\n",
       "      <th>7</th>\n",
       "      <td>1519497180000</td>\n",
       "      <td>0.085539</td>\n",
       "      <td>0.085555</td>\n",
       "      <td>0.085414</td>\n",
       "      <td>0.085517</td>\n",
       "      <td>28.202</td>\n",
       "      <td>1519497239999</td>\n",
       "      <td>2.411093</td>\n",
       "      <td>195</td>\n",
       "      <td>14.409</td>\n",
       "      <td>1.232346</td>\n",
       "      <td>0</td>\n",
       "    </tr>\n",
       "    <tr>\n",
       "      <th>8</th>\n",
       "      <td>1519497240000</td>\n",
       "      <td>0.085460</td>\n",
       "      <td>0.085545</td>\n",
       "      <td>0.085419</td>\n",
       "      <td>0.085534</td>\n",
       "      <td>15.302</td>\n",
       "      <td>1519497299999</td>\n",
       "      <td>1.307959</td>\n",
       "      <td>134</td>\n",
       "      <td>7.216</td>\n",
       "      <td>0.617035</td>\n",
       "      <td>0</td>\n",
       "    </tr>\n",
       "    <tr>\n",
       "      <th>9</th>\n",
       "      <td>1519497300000</td>\n",
       "      <td>0.085440</td>\n",
       "      <td>0.085545</td>\n",
       "      <td>0.085440</td>\n",
       "      <td>0.085533</td>\n",
       "      <td>13.730</td>\n",
       "      <td>1519497359999</td>\n",
       "      <td>1.173580</td>\n",
       "      <td>105</td>\n",
       "      <td>6.186</td>\n",
       "      <td>0.529001</td>\n",
       "      <td>0</td>\n",
       "    </tr>\n",
       "  </tbody>\n",
       "</table>\n",
       "</div>"
      ],
      "text/plain": [
       "       OPEN_TIME      OPEN      HIGH       LOW     CLOSE  VOLUME  \\\n",
       "0  1519496760000  0.085541  0.085570  0.085407  0.085473  27.714   \n",
       "1  1519496820000  0.085473  0.085570  0.085448  0.085449  20.128   \n",
       "2  1519496880000  0.085448  0.085569  0.085400  0.085538  45.510   \n",
       "3  1519496940000  0.085538  0.085546  0.085402  0.085540  22.231   \n",
       "4  1519497000000  0.085539  0.085552  0.085464  0.085464  15.243   \n",
       "5  1519497060000  0.085466  0.085555  0.085464  0.085545  31.895   \n",
       "6  1519497120000  0.085545  0.085545  0.085464  0.085539  13.325   \n",
       "7  1519497180000  0.085539  0.085555  0.085414  0.085517  28.202   \n",
       "8  1519497240000  0.085460  0.085545  0.085419  0.085534  15.302   \n",
       "9  1519497300000  0.085440  0.085545  0.085440  0.085533  13.730   \n",
       "\n",
       "      CLOSE_TIME  QUOTE_VOL  NUM_TRADES  TAKE_BASE_VOL  TAKE_QUOTE_VOL  EXTRA  \n",
       "0  1519496819999   2.370345         192         15.308        1.309733      0  \n",
       "1  1519496879999   1.720609         122          6.579        0.562654      0  \n",
       "2  1519496939999   3.890176         209         19.426        1.660960      0  \n",
       "3  1519496999999   1.900513         105         14.320        1.224483      0  \n",
       "4  1519497059999   1.303412         117          8.373        0.716219      0  \n",
       "5  1519497119999   2.727413         131         19.237        1.645547      0  \n",
       "6  1519497179999   1.139346          78          7.311        0.625352      0  \n",
       "7  1519497239999   2.411093         195         14.409        1.232346      0  \n",
       "8  1519497299999   1.307959         134          7.216        0.617035      0  \n",
       "9  1519497359999   1.173580         105          6.186        0.529001      0  "
      ]
     },
     "execution_count": 24,
     "metadata": {},
     "output_type": "execute_result"
    }
   ],
   "source": [
    "# Get Data\n",
    "df = pd.read_csv('../data/'+file)\n",
    "df.shape\n",
    "df.head(10)"
   ]
  },
  {
   "cell_type": "code",
   "execution_count": 25,
   "metadata": {
    "ExecuteTime": {
     "end_time": "2019-02-24T18:22:07.544783Z",
     "start_time": "2019-02-24T18:22:07.495895Z"
    }
   },
   "outputs": [
    {
     "data": {
      "text/plain": [
       "(500000, 6)"
      ]
     },
     "execution_count": 25,
     "metadata": {},
     "output_type": "execute_result"
    },
    {
     "data": {
      "text/html": [
       "<div>\n",
       "<style scoped>\n",
       "    .dataframe tbody tr th:only-of-type {\n",
       "        vertical-align: middle;\n",
       "    }\n",
       "\n",
       "    .dataframe tbody tr th {\n",
       "        vertical-align: top;\n",
       "    }\n",
       "\n",
       "    .dataframe thead th {\n",
       "        text-align: right;\n",
       "    }\n",
       "</style>\n",
       "<table border=\"1\" class=\"dataframe\">\n",
       "  <thead>\n",
       "    <tr style=\"text-align: right;\">\n",
       "      <th></th>\n",
       "      <th>OPEN_TIME</th>\n",
       "      <th>CLOSE_TIME</th>\n",
       "      <th>OPEN</th>\n",
       "      <th>HIGH</th>\n",
       "      <th>LOW</th>\n",
       "      <th>CLOSE</th>\n",
       "    </tr>\n",
       "  </thead>\n",
       "  <tbody>\n",
       "    <tr>\n",
       "      <th>0</th>\n",
       "      <td>1519496760000</td>\n",
       "      <td>1519496819999</td>\n",
       "      <td>0.085541</td>\n",
       "      <td>0.085570</td>\n",
       "      <td>0.085407</td>\n",
       "      <td>0.085473</td>\n",
       "    </tr>\n",
       "    <tr>\n",
       "      <th>1</th>\n",
       "      <td>1519496820000</td>\n",
       "      <td>1519496879999</td>\n",
       "      <td>0.085473</td>\n",
       "      <td>0.085570</td>\n",
       "      <td>0.085448</td>\n",
       "      <td>0.085449</td>\n",
       "    </tr>\n",
       "    <tr>\n",
       "      <th>2</th>\n",
       "      <td>1519496880000</td>\n",
       "      <td>1519496939999</td>\n",
       "      <td>0.085448</td>\n",
       "      <td>0.085569</td>\n",
       "      <td>0.085400</td>\n",
       "      <td>0.085538</td>\n",
       "    </tr>\n",
       "    <tr>\n",
       "      <th>3</th>\n",
       "      <td>1519496940000</td>\n",
       "      <td>1519496999999</td>\n",
       "      <td>0.085538</td>\n",
       "      <td>0.085546</td>\n",
       "      <td>0.085402</td>\n",
       "      <td>0.085540</td>\n",
       "    </tr>\n",
       "    <tr>\n",
       "      <th>4</th>\n",
       "      <td>1519497000000</td>\n",
       "      <td>1519497059999</td>\n",
       "      <td>0.085539</td>\n",
       "      <td>0.085552</td>\n",
       "      <td>0.085464</td>\n",
       "      <td>0.085464</td>\n",
       "    </tr>\n",
       "  </tbody>\n",
       "</table>\n",
       "</div>"
      ],
      "text/plain": [
       "       OPEN_TIME     CLOSE_TIME      OPEN      HIGH       LOW     CLOSE\n",
       "0  1519496760000  1519496819999  0.085541  0.085570  0.085407  0.085473\n",
       "1  1519496820000  1519496879999  0.085473  0.085570  0.085448  0.085449\n",
       "2  1519496880000  1519496939999  0.085448  0.085569  0.085400  0.085538\n",
       "3  1519496940000  1519496999999  0.085538  0.085546  0.085402  0.085540\n",
       "4  1519497000000  1519497059999  0.085539  0.085552  0.085464  0.085464"
      ]
     },
     "execution_count": 25,
     "metadata": {},
     "output_type": "execute_result"
    }
   ],
   "source": [
    "data = df.loc[:, ['OPEN_TIME', 'CLOSE_TIME', 'OPEN', 'HIGH', 'LOW', 'CLOSE']]\n",
    "data.shape\n",
    "data[:5]"
   ]
  },
  {
   "cell_type": "code",
   "execution_count": 26,
   "metadata": {
    "ExecuteTime": {
     "end_time": "2019-02-24T18:22:09.150381Z",
     "start_time": "2019-02-24T18:22:07.658745Z"
    }
   },
   "outputs": [
    {
     "data": {
      "text/plain": [
       "(499999, 2)"
      ]
     },
     "execution_count": 26,
     "metadata": {},
     "output_type": "execute_result"
    },
    {
     "data": {
      "text/html": [
       "<div>\n",
       "<style scoped>\n",
       "    .dataframe tbody tr th:only-of-type {\n",
       "        vertical-align: middle;\n",
       "    }\n",
       "\n",
       "    .dataframe tbody tr th {\n",
       "        vertical-align: top;\n",
       "    }\n",
       "\n",
       "    .dataframe thead th {\n",
       "        text-align: right;\n",
       "    }\n",
       "</style>\n",
       "<table border=\"1\" class=\"dataframe\">\n",
       "  <thead>\n",
       "    <tr style=\"text-align: right;\">\n",
       "      <th></th>\n",
       "      <th>CLOSE_TIME</th>\n",
       "      <th>TARGET</th>\n",
       "    </tr>\n",
       "  </thead>\n",
       "  <tbody>\n",
       "    <tr>\n",
       "      <th>0</th>\n",
       "      <td>1519496819999</td>\n",
       "      <td>1.0</td>\n",
       "    </tr>\n",
       "    <tr>\n",
       "      <th>1</th>\n",
       "      <td>1519496879999</td>\n",
       "      <td>0.0</td>\n",
       "    </tr>\n",
       "    <tr>\n",
       "      <th>2</th>\n",
       "      <td>1519496939999</td>\n",
       "      <td>0.0</td>\n",
       "    </tr>\n",
       "    <tr>\n",
       "      <th>3</th>\n",
       "      <td>1519496999999</td>\n",
       "      <td>1.0</td>\n",
       "    </tr>\n",
       "    <tr>\n",
       "      <th>4</th>\n",
       "      <td>1519497059999</td>\n",
       "      <td>0.0</td>\n",
       "    </tr>\n",
       "  </tbody>\n",
       "</table>\n",
       "</div>"
      ],
      "text/plain": [
       "      CLOSE_TIME  TARGET\n",
       "0  1519496819999     1.0\n",
       "1  1519496879999     0.0\n",
       "2  1519496939999     0.0\n",
       "3  1519496999999     1.0\n",
       "4  1519497059999     0.0"
      ]
     },
     "execution_count": 26,
     "metadata": {},
     "output_type": "execute_result"
    }
   ],
   "source": [
    "# Get Target\n",
    "%run targets.ipynb\n",
    "target = get_target_1('../data/'+file)\n",
    "target.shape\n",
    "target.head()"
   ]
  },
  {
   "cell_type": "code",
   "execution_count": 27,
   "metadata": {
    "ExecuteTime": {
     "end_time": "2019-02-24T18:22:09.504521Z",
     "start_time": "2019-02-24T18:22:09.266558Z"
    }
   },
   "outputs": [
    {
     "data": {
      "text/plain": [
       "(499999, 7)"
      ]
     },
     "execution_count": 27,
     "metadata": {},
     "output_type": "execute_result"
    },
    {
     "data": {
      "text/html": [
       "<div>\n",
       "<style scoped>\n",
       "    .dataframe tbody tr th:only-of-type {\n",
       "        vertical-align: middle;\n",
       "    }\n",
       "\n",
       "    .dataframe tbody tr th {\n",
       "        vertical-align: top;\n",
       "    }\n",
       "\n",
       "    .dataframe thead th {\n",
       "        text-align: right;\n",
       "    }\n",
       "</style>\n",
       "<table border=\"1\" class=\"dataframe\">\n",
       "  <thead>\n",
       "    <tr style=\"text-align: right;\">\n",
       "      <th></th>\n",
       "      <th>OPEN_TIME</th>\n",
       "      <th>CLOSE_TIME</th>\n",
       "      <th>OPEN</th>\n",
       "      <th>HIGH</th>\n",
       "      <th>LOW</th>\n",
       "      <th>CLOSE</th>\n",
       "      <th>TARGET</th>\n",
       "    </tr>\n",
       "  </thead>\n",
       "  <tbody>\n",
       "    <tr>\n",
       "      <th>0</th>\n",
       "      <td>1519496760000</td>\n",
       "      <td>1519496819999</td>\n",
       "      <td>0.085541</td>\n",
       "      <td>0.085570</td>\n",
       "      <td>0.085407</td>\n",
       "      <td>0.085473</td>\n",
       "      <td>1.0</td>\n",
       "    </tr>\n",
       "    <tr>\n",
       "      <th>1</th>\n",
       "      <td>1519496820000</td>\n",
       "      <td>1519496879999</td>\n",
       "      <td>0.085473</td>\n",
       "      <td>0.085570</td>\n",
       "      <td>0.085448</td>\n",
       "      <td>0.085449</td>\n",
       "      <td>0.0</td>\n",
       "    </tr>\n",
       "    <tr>\n",
       "      <th>2</th>\n",
       "      <td>1519496880000</td>\n",
       "      <td>1519496939999</td>\n",
       "      <td>0.085448</td>\n",
       "      <td>0.085569</td>\n",
       "      <td>0.085400</td>\n",
       "      <td>0.085538</td>\n",
       "      <td>0.0</td>\n",
       "    </tr>\n",
       "    <tr>\n",
       "      <th>3</th>\n",
       "      <td>1519496940000</td>\n",
       "      <td>1519496999999</td>\n",
       "      <td>0.085538</td>\n",
       "      <td>0.085546</td>\n",
       "      <td>0.085402</td>\n",
       "      <td>0.085540</td>\n",
       "      <td>1.0</td>\n",
       "    </tr>\n",
       "    <tr>\n",
       "      <th>4</th>\n",
       "      <td>1519497000000</td>\n",
       "      <td>1519497059999</td>\n",
       "      <td>0.085539</td>\n",
       "      <td>0.085552</td>\n",
       "      <td>0.085464</td>\n",
       "      <td>0.085464</td>\n",
       "      <td>0.0</td>\n",
       "    </tr>\n",
       "  </tbody>\n",
       "</table>\n",
       "</div>"
      ],
      "text/plain": [
       "       OPEN_TIME     CLOSE_TIME      OPEN      HIGH       LOW     CLOSE  \\\n",
       "0  1519496760000  1519496819999  0.085541  0.085570  0.085407  0.085473   \n",
       "1  1519496820000  1519496879999  0.085473  0.085570  0.085448  0.085449   \n",
       "2  1519496880000  1519496939999  0.085448  0.085569  0.085400  0.085538   \n",
       "3  1519496940000  1519496999999  0.085538  0.085546  0.085402  0.085540   \n",
       "4  1519497000000  1519497059999  0.085539  0.085552  0.085464  0.085464   \n",
       "\n",
       "   TARGET  \n",
       "0     1.0  \n",
       "1     0.0  \n",
       "2     0.0  \n",
       "3     1.0  \n",
       "4     0.0  "
      ]
     },
     "execution_count": 27,
     "metadata": {},
     "output_type": "execute_result"
    }
   ],
   "source": [
    "data = pd.merge(data, target, on='CLOSE_TIME')\n",
    "data.shape\n",
    "data.head()"
   ]
  },
  {
   "cell_type": "code",
   "execution_count": 28,
   "metadata": {
    "ExecuteTime": {
     "end_time": "2019-02-24T18:22:09.681394Z",
     "start_time": "2019-02-24T18:22:09.616287Z"
    }
   },
   "outputs": [
    {
     "data": {
      "text/plain": [
       "(399999, 7)"
      ]
     },
     "execution_count": 28,
     "metadata": {},
     "output_type": "execute_result"
    },
    {
     "data": {
      "text/plain": [
       "(0, 7)"
      ]
     },
     "execution_count": 28,
     "metadata": {},
     "output_type": "execute_result"
    },
    {
     "data": {
      "text/plain": [
       "(100000, 7)"
      ]
     },
     "execution_count": 28,
     "metadata": {},
     "output_type": "execute_result"
    },
    {
     "data": {
      "text/html": [
       "<div>\n",
       "<style scoped>\n",
       "    .dataframe tbody tr th:only-of-type {\n",
       "        vertical-align: middle;\n",
       "    }\n",
       "\n",
       "    .dataframe tbody tr th {\n",
       "        vertical-align: top;\n",
       "    }\n",
       "\n",
       "    .dataframe thead th {\n",
       "        text-align: right;\n",
       "    }\n",
       "</style>\n",
       "<table border=\"1\" class=\"dataframe\">\n",
       "  <thead>\n",
       "    <tr style=\"text-align: right;\">\n",
       "      <th></th>\n",
       "      <th>OPEN_TIME</th>\n",
       "      <th>CLOSE_TIME</th>\n",
       "      <th>OPEN</th>\n",
       "      <th>HIGH</th>\n",
       "      <th>LOW</th>\n",
       "      <th>CLOSE</th>\n",
       "      <th>TARGET</th>\n",
       "    </tr>\n",
       "  </thead>\n",
       "  <tbody>\n",
       "    <tr>\n",
       "      <th>0</th>\n",
       "      <td>1519496760000</td>\n",
       "      <td>1519496819999</td>\n",
       "      <td>0.085541</td>\n",
       "      <td>0.085570</td>\n",
       "      <td>0.085407</td>\n",
       "      <td>0.085473</td>\n",
       "      <td>1.0</td>\n",
       "    </tr>\n",
       "    <tr>\n",
       "      <th>1</th>\n",
       "      <td>1519496820000</td>\n",
       "      <td>1519496879999</td>\n",
       "      <td>0.085473</td>\n",
       "      <td>0.085570</td>\n",
       "      <td>0.085448</td>\n",
       "      <td>0.085449</td>\n",
       "      <td>0.0</td>\n",
       "    </tr>\n",
       "    <tr>\n",
       "      <th>2</th>\n",
       "      <td>1519496880000</td>\n",
       "      <td>1519496939999</td>\n",
       "      <td>0.085448</td>\n",
       "      <td>0.085569</td>\n",
       "      <td>0.085400</td>\n",
       "      <td>0.085538</td>\n",
       "      <td>0.0</td>\n",
       "    </tr>\n",
       "    <tr>\n",
       "      <th>3</th>\n",
       "      <td>1519496940000</td>\n",
       "      <td>1519496999999</td>\n",
       "      <td>0.085538</td>\n",
       "      <td>0.085546</td>\n",
       "      <td>0.085402</td>\n",
       "      <td>0.085540</td>\n",
       "      <td>1.0</td>\n",
       "    </tr>\n",
       "    <tr>\n",
       "      <th>4</th>\n",
       "      <td>1519497000000</td>\n",
       "      <td>1519497059999</td>\n",
       "      <td>0.085539</td>\n",
       "      <td>0.085552</td>\n",
       "      <td>0.085464</td>\n",
       "      <td>0.085464</td>\n",
       "      <td>0.0</td>\n",
       "    </tr>\n",
       "  </tbody>\n",
       "</table>\n",
       "</div>"
      ],
      "text/plain": [
       "       OPEN_TIME     CLOSE_TIME      OPEN      HIGH       LOW     CLOSE  \\\n",
       "0  1519496760000  1519496819999  0.085541  0.085570  0.085407  0.085473   \n",
       "1  1519496820000  1519496879999  0.085473  0.085570  0.085448  0.085449   \n",
       "2  1519496880000  1519496939999  0.085448  0.085569  0.085400  0.085538   \n",
       "3  1519496940000  1519496999999  0.085538  0.085546  0.085402  0.085540   \n",
       "4  1519497000000  1519497059999  0.085539  0.085552  0.085464  0.085464   \n",
       "\n",
       "   TARGET  \n",
       "0     1.0  \n",
       "1     0.0  \n",
       "2     0.0  \n",
       "3     1.0  \n",
       "4     0.0  "
      ]
     },
     "execution_count": 28,
     "metadata": {},
     "output_type": "execute_result"
    }
   ],
   "source": [
    "TR_split, CV_split, TT_split = TR_CV_TT_split(data, 0.8, 0, 0.2)\n",
    "\n",
    "TR_split.shape\n",
    "CV_split.shape\n",
    "TT_split.shape\n",
    "\n",
    "TR_split.head()"
   ]
  },
  {
   "cell_type": "code",
   "execution_count": 29,
   "metadata": {
    "ExecuteTime": {
     "end_time": "2019-02-24T18:22:09.831597Z",
     "start_time": "2019-02-24T18:22:09.814485Z"
    },
    "collapsed": true
   },
   "outputs": [],
   "source": [
    "from sklearn.preprocessing import StandardScaler\n",
    "\n",
    "scaler = StandardScaler(copy=True, with_mean=True, with_std=True)\n",
    "window = 30\n",
    "def data_transformer(id, data, target, retrain=False):\n",
    "    global scaler\n",
    "    global window\n",
    "    \n",
    "    if retrain==True:\n",
    "        scaler = scaler.fit(data)\n",
    "        \n",
    "    data = scaler.transform(data)\n",
    "    return get_multiple_ts_dataset(id, data, target, tr_win=window, tt_win=0, point_target=True)"
   ]
  },
  {
   "cell_type": "code",
   "execution_count": 30,
   "metadata": {
    "ExecuteTime": {
     "end_time": "2019-02-24T18:22:09.988323Z",
     "start_time": "2019-02-24T18:22:09.941659Z"
    }
   },
   "outputs": [
    {
     "data": {
      "text/plain": [
       "(399999, 2)"
      ]
     },
     "execution_count": 30,
     "metadata": {},
     "output_type": "execute_result"
    },
    {
     "data": {
      "text/plain": [
       "(399999, 4)"
      ]
     },
     "execution_count": 30,
     "metadata": {},
     "output_type": "execute_result"
    },
    {
     "data": {
      "text/plain": [
       "(399999, 1)"
      ]
     },
     "execution_count": 30,
     "metadata": {},
     "output_type": "execute_result"
    },
    {
     "data": {
      "text/plain": [
       "(100000, 2)"
      ]
     },
     "execution_count": 30,
     "metadata": {},
     "output_type": "execute_result"
    },
    {
     "data": {
      "text/plain": [
       "(100000, 4)"
      ]
     },
     "execution_count": 30,
     "metadata": {},
     "output_type": "execute_result"
    },
    {
     "data": {
      "text/plain": [
       "(100000, 1)"
      ]
     },
     "execution_count": 30,
     "metadata": {},
     "output_type": "execute_result"
    }
   ],
   "source": [
    "TR_id     = TR_split.iloc[:, :2  ].values\n",
    "TR_data   = TR_split.iloc[:, 2:-1].values\n",
    "TR_target = TR_split.iloc[:, -1: ].values\n",
    "\n",
    "TT_id     = TT_split.iloc[:, :2  ].values\n",
    "TT_data   = TT_split.iloc[:, 2:-1].values\n",
    "TT_target = TT_split.iloc[:, -1: ].values\n",
    "\n",
    "TR_id.shape\n",
    "TR_data.shape\n",
    "TR_target.shape\n",
    "\n",
    "TT_id.shape\n",
    "TT_data.shape\n",
    "TT_target.shape"
   ]
  },
  {
   "cell_type": "code",
   "execution_count": 32,
   "metadata": {
    "ExecuteTime": {
     "end_time": "2019-02-24T18:22:39.118440Z",
     "start_time": "2019-02-24T18:22:38.618911Z"
    }
   },
   "outputs": [],
   "source": [
    "%run hyperopt.ipynb\n",
    "%run models.ipynb"
   ]
  },
  {
   "cell_type": "code",
   "execution_count": 33,
   "metadata": {
    "ExecuteTime": {
     "end_time": "2019-02-24T18:23:06.648149Z",
     "start_time": "2019-02-24T18:22:39.904954Z"
    },
    "scrolled": false
   },
   "outputs": [
    {
     "name": "stdout",
     "output_type": "stream",
     "text": [
      "Hyperopt Iteration : 1\n",
      "{}\n",
      "Convergence after  10  iterations\n",
      "('CV_fold : ', 0, 7.571086883544922)\n",
      "         acc       auc        f1   log_loss\n",
      "TT  0.516110  0.500924  0.057954  16.712992\n",
      "TR  0.526870  0.510024  0.190115  16.341370\n",
      "CV  0.518667  0.504315  0.118165  16.624694\n",
      "Convergence after  10  iterations\n",
      "('CV_fold : ', 1, 8.811187982559204)\n",
      "         acc       auc        f1   log_loss\n",
      "TT  0.516540  0.501871  0.087180  16.698142\n",
      "TR  0.525327  0.509031  0.183045  16.394661\n",
      "CV  0.517053  0.500223  0.090385  16.680414\n",
      "Convergence after  11  iterations\n",
      "('CV_fold : ', 2, 10.295515060424805)\n",
      "         acc       auc        f1   log_loss\n",
      "TT  0.516230  0.501324  0.073807  16.708849\n",
      "TR  0.523783  0.507002  0.155623  16.447989\n",
      "CV  0.527109  0.501349  0.055670  16.333100\n",
      "----- Metrics Mean -----\n",
      "         acc       auc        f1   log_loss\n",
      "TT  0.516293  0.501373  0.072980  16.706661\n",
      "TR  0.525327  0.508686  0.176261  16.394674\n",
      "CV  0.520943  0.501962  0.088073  16.546069\n",
      "----- Metrics Std -----\n",
      "         acc       auc        f1  log_loss\n",
      "TT  0.000181  0.000388  0.011946  0.006257\n",
      "TR  0.001260  0.001258  0.014876  0.043527\n",
      "CV  0.004409  0.001726  0.025566  0.152301\n"
     ]
    }
   ],
   "source": [
    "hyperopt = Hyperopt(BayesR())\n",
    "best_loss, best_params = hyperopt.run(\n",
    "    TR_id, TR_data, TR_target, \n",
    "    eval_set={\n",
    "        'TT': (TT_id, TT_data, TT_target)\n",
    "    },\n",
    "    n_cv=3,\n",
    "    algo='grid',\n",
    "    data_transformer=data_transformer,\n",
    "    max_evals=1\n",
    ")"
   ]
  },
  {
   "cell_type": "code",
   "execution_count": 15,
   "metadata": {
    "ExecuteTime": {
     "end_time": "2019-02-24T10:09:25.030220Z",
     "start_time": "2019-02-24T09:55:39.924356Z"
    },
    "scrolled": false
   },
   "outputs": [
    {
     "data": {
      "text/plain": [
       "(399700, 1200)"
      ]
     },
     "execution_count": 15,
     "metadata": {},
     "output_type": "execute_result"
    },
    {
     "data": {
      "text/plain": [
       "(99701, 1200)"
      ]
     },
     "execution_count": 15,
     "metadata": {},
     "output_type": "execute_result"
    },
    {
     "name": "stdout",
     "output_type": "stream",
     "text": [
      "Convergence after  41  iterations\n",
      "         acc       auc        f1   log_loss\n",
      "TR  0.524433  0.505954  0.122330  16.425515\n",
      "TT  0.515943  0.500725  0.049175  16.718758\n"
     ]
    }
   ],
   "source": [
    "from sklearn.linear_model import BayesianRidge\n",
    "\n",
    "TR_id, TR_X, TR_y = data_transformer(TR_id, TR_data, TR_target, retrain=True)\n",
    "TT_id, TT_X, TT_y = data_transformer(TT_id, TT_data, TT_target, retrain=False)\n",
    "\n",
    "TR_X.shape\n",
    "TT_X.shape\n",
    "\n",
    "model = BayesianRidge(**best_params)\n",
    "model = model.fit(TR_X, TR_y)\n",
    "\n",
    "TR_y_pred = model.predict(TR_X)\n",
    "TT_y_pred = model.predict(TT_X)\n",
    "\n",
    "TR_metrics = eval_class_metrics(TR_y, TR_y_pred, metrics=['auc', 'f1', 'acc', 'log_loss'])\n",
    "TT_metrics = eval_class_metrics(TT_y, TT_y_pred, metrics=['auc', 'f1', 'acc', 'log_loss'])\n",
    "\n",
    "res = pd.DataFrame({x:[] for x in ['auc', 'f1', 'acc', 'log_loss']})\n",
    "res = res.append(pd.Series(TR_metrics, name='TR'))\n",
    "res = res.append(pd.Series(TT_metrics, name='TT'))\n",
    "\n",
    "print(res)"
   ]
  },
  {
   "cell_type": "code",
   "execution_count": 16,
   "metadata": {
    "ExecuteTime": {
     "end_time": "2019-02-24T10:09:25.150477Z",
     "start_time": "2019-02-24T10:09:25.049615Z"
    }
   },
   "outputs": [
    {
     "data": {
      "application/javascript": [
       "IPython.notebook.kernel.execute('nb_name = \"' + IPython.notebook.notebook_name + '\"')"
      ],
      "text/plain": [
       "<IPython.core.display.Javascript object>"
      ]
     },
     "metadata": {},
     "output_type": "display_data"
    }
   ],
   "source": [
    "%%javascript\n",
    "IPython.notebook.kernel.execute('nb_name = \"' + IPython.notebook.notebook_name + '\"')"
   ]
  },
  {
   "cell_type": "code",
   "execution_count": 17,
   "metadata": {
    "ExecuteTime": {
     "end_time": "2019-02-24T10:09:25.163236Z",
     "start_time": "2019-02-24T10:09:25.154164Z"
    },
    "collapsed": true
   },
   "outputs": [],
   "source": [
    "nb_name = 'Simple_BayesR_Grid'"
   ]
  },
  {
   "cell_type": "code",
   "execution_count": 18,
   "metadata": {
    "ExecuteTime": {
     "end_time": "2019-02-24T10:09:25.727946Z",
     "start_time": "2019-02-24T10:09:25.172771Z"
    },
    "collapsed": true
   },
   "outputs": [],
   "source": [
    "data_tag = '__'.join([str(x)+'_'+str(y) for x, y in {\n",
    "    'intv':'1m', \n",
    "    'cols':'OHCL',\n",
    "    'win':window\n",
    "}.iteritems()])\n",
    "\n",
    "proc_tag = '__'.join([str(x)+'_'+str(y) for x, y in {\n",
    "    'model': nb_name.replace('.ipynb', ''),\n",
    "    'TT_accuracy':'{:.4f}'.format(TT_metrics['acc']),\n",
    "    'CV_accuracy':'{:.4f}'.format(best_loss)\n",
    "}.iteritems()])\n",
    "\n",
    "import time\n",
    "time_tag = time.strftime('%y%m%d_%H%M%S')\n",
    "\n",
    "big_tag = time_tag+'_|_'+data_tag+'_|_'+proc_tag\n",
    "\n",
    "data_dump = {\n",
    "    'best_loss': best_loss,\n",
    "    'best_params': best_params,\n",
    "    'model': model,\n",
    "    'TR_id': TR_id,\n",
    "    'TR_y_pred': TR_y_pred,\n",
    "    'TT_id': TT_id,\n",
    "    'TT_y_pred': TT_y_pred,\n",
    "    'results': res\n",
    "}\n",
    "\n",
    "f = open('../models/'+time_tag+'.pkl', 'wb')\n",
    "pkl.dump(data_dump, f, -1)\n",
    "f.close()\n",
    "\n",
    "%notebook -e ../models/{big_tag}.ipynb"
   ]
  },
  {
   "cell_type": "code",
   "execution_count": null,
   "metadata": {
    "collapsed": true
   },
   "outputs": [],
   "source": []
  }
 ],
 "metadata": {
  "_draft": {
   "nbviewer_url": "https://gist.github.com/9e0e96b406b4b4d69c9a4ae27d55ee3c"
  },
  "gist": {
   "data": {
    "description": "model_run",
    "public": false
   },
   "id": "9e0e96b406b4b4d69c9a4ae27d55ee3c"
  },
  "kernelspec": {
   "display_name": "Python 2",
   "language": "python",
   "name": "python2"
  },
  "language_info": {
   "codemirror_mode": {
    "name": "ipython",
    "version": 2
   },
   "file_extension": ".py",
   "mimetype": "text/x-python",
   "name": "python",
   "nbconvert_exporter": "python",
   "pygments_lexer": "ipython2",
   "version": "2.7.13"
  },
  "varInspector": {
   "cols": {
    "lenName": 16,
    "lenType": 16,
    "lenVar": 40
   },
   "kernels_config": {
    "python": {
     "delete_cmd_postfix": "",
     "delete_cmd_prefix": "del ",
     "library": "var_list.py",
     "varRefreshCmd": "print(var_dic_list())"
    },
    "r": {
     "delete_cmd_postfix": ") ",
     "delete_cmd_prefix": "rm(",
     "library": "var_list.r",
     "varRefreshCmd": "cat(var_dic_list()) "
    }
   },
   "types_to_exclude": [
    "module",
    "function",
    "builtin_function_or_method",
    "instance",
    "_Feature"
   ],
   "window_display": false
  }
 },
 "nbformat": 4,
 "nbformat_minor": 2
}
