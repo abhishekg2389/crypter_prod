{
 "cells": [
  {
   "cell_type": "code",
   "execution_count": null,
   "metadata": {
    "ExecuteTime": {
     "end_time": "2019-02-13T16:27:29.486683Z",
     "start_time": "2019-02-13T16:27:28.790133Z"
    },
    "collapsed": true
   },
   "outputs": [],
   "source": [
    "import numpy as np\n",
    "\n",
    "from numba import jit\n",
    "\n",
    "%matplotlib inline\n",
    "import matplotlib.pyplot as plt"
   ]
  },
  {
   "cell_type": "code",
   "execution_count": null,
   "metadata": {
    "ExecuteTime": {
     "end_time": "2019-02-13T16:27:42.932499Z",
     "start_time": "2019-02-13T16:27:42.863823Z"
    },
    "collapsed": true
   },
   "outputs": [],
   "source": [
    "def get_multiple_ts_dataset(id, data, target, tr_win=5, tt_win=0, point_target=True):\n",
    "    num_samples = data.shape[0] - tr_win - tt_win + 1\n",
    "    \n",
    "    ID = np.zeros((num_samples, ))\n",
    "    X = np.zeros((num_samples, tr_win*(data.shape[1])))\n",
    "    \n",
    "    for i in range(num_samples):\n",
    "        X[i] = data[i:i + tr_win].flatten()\n",
    "    \n",
    "    if point_target:\n",
    "        Y = np.zeros((num_samples, target.shape[1]))\n",
    "        for i in range(num_samples):\n",
    "            Y[i] = target[i + tr_win + tt_win - 1, :]\n",
    "    else:\n",
    "        Y = np.zeros((num_samples, tt_win*(target.shape[1])))\n",
    "        for i in range(num_samples):\n",
    "            Y[i] = target[i:i + tr_win].flatten()\n",
    "    \n",
    "    ID = id[tr_win-1:tr_win+num_samples-1, :]\n",
    "    \n",
    "    return ID, X, Y"
   ]
  },
  {
   "cell_type": "code",
   "execution_count": null,
   "metadata": {
    "ExecuteTime": {
     "end_time": "2019-02-06T22:13:47.762873Z",
     "start_time": "2019-02-06T22:13:47.751083Z"
    },
    "collapsed": true
   },
   "outputs": [],
   "source": [
    "def get_ts_cv_folds(data_size, n_folds=5, frac_min_tr=0.4, max_tr='frac_min_tr'):\n",
    "    cv_size = int(((1 - frac_min_tr)/n_folds)*data_size)\n",
    "    tr_size = int(data_size*frac_min_tr)\n",
    "    \n",
    "    if max_tr == 'frac_min_tr':\n",
    "        return[(\n",
    "            i*cv_size,\n",
    "            i*cv_size + tr_size,\n",
    "            i*cv_size + tr_size + 1,\n",
    "            i*cv_size + tr_size + 1 + cv_size\n",
    "        ) for i in range(n_folds)]\n",
    "    elif max_tr == 'full':\n",
    "        return[(\n",
    "            0,\n",
    "            i*cv_size + tr_size,\n",
    "            i*cv_size + tr_size + 1,\n",
    "            i*cv_size + tr_size + 1 + cv_size\n",
    "        ) for i in range(n_folds)]\n",
    "    else:\n",
    "        return []"
   ]
  },
  {
   "cell_type": "code",
   "execution_count": null,
   "metadata": {
    "ExecuteTime": {
     "end_time": "2019-02-06T22:13:47.779115Z",
     "start_time": "2019-02-06T22:13:47.765648Z"
    },
    "collapsed": true
   },
   "outputs": [],
   "source": [
    "def data_validation(data):\n",
    "    open_times = data.OPEN_TIME.astype(int).values\n",
    "    open_times_diff = np.diff(open_times)\n",
    "    \n",
    "    missing_points = np.where(open_times_diff != 60000)[0]\n",
    "    if len(missing_points) != 4:\n",
    "        raise ValueError('Number of missing gaps not matching to 4!!!')\n",
    "    \n",
    "    if (data.OPEN_TIME.iloc[missing_points].values.astype(int) != np.array([1530104340000, 1530663720000, 1539928740000, 1542160740000])).all():\n",
    "        raise ValueError('Missing gap timestamps not matching!!!')\n",
    "    \n",
    "    if (data.OPEN_TIME.iloc[missing_points+1].values.astype(int) != np.array([1530110700000, 1530691200000, 1539941400000, 1542186000000])).all():\n",
    "        raise ValueError('Missing gap timestamps not matching!!!')"
   ]
  },
  {
   "cell_type": "code",
   "execution_count": null,
   "metadata": {
    "ExecuteTime": {
     "end_time": "2019-02-14T23:19:44.485402Z",
     "start_time": "2019-02-14T23:19:44.448700Z"
    },
    "collapsed": true
   },
   "outputs": [],
   "source": [
    "def fill_time_gaps(data, period=60000, interpolate=False):\n",
    "    open_times = data.OPEN_TIME.astype(int).values\n",
    "    open_times_diff = np.diff(open_times)\n",
    "    missing_points = np.where(open_times_diff != period)[0]\n",
    "    \n",
    "    start_missing_points = data.OPEN_TIME.iloc[missing_points].values.astype(int)\n",
    "    end_missing_points = data.OPEN_TIME.iloc[missing_points+1].values.astype(int)\n",
    "    \n",
    "    ot_missing = []\n",
    "    ct_missing = []\n",
    "    for i in range(len(start_missing_points)):\n",
    "        ot_missing = ot_missing + range(start_missing_points[i] + period, end_missing_points[i], period)\n",
    "    \n",
    "    ot_missing = np.array(ot_missing)\n",
    "    ct_missing = ot_missing + period - 1\n",
    "    \n",
    "    df = pd.DataFrame(columns=data.columns)\n",
    "    df['OPEN_TIME'] = ot_missing\n",
    "    df['CLOSE_TIME'] = ct_missing\n",
    "    \n",
    "    df = pd.concat([data, df], ignore_index=True)\n",
    "    df.sort_values('OPEN_TIME', axis=0, ascending=True, inplace=True)\n",
    "    df = df.reset_index(drop=True)\n",
    "    \n",
    "    if interpolate == True:\n",
    "        df = df.interpolate()\n",
    "    \n",
    "    return df"
   ]
  },
  {
   "cell_type": "code",
   "execution_count": null,
   "metadata": {
    "ExecuteTime": {
     "end_time": "2019-02-14T23:47:52.953407Z",
     "start_time": "2019-02-14T23:47:52.947206Z"
    },
    "collapsed": true
   },
   "outputs": [],
   "source": [
    "def find_error_data(data, period=60000):\n",
    "    if len(data) != (dat_.OPEN_TIME + 59999 != dat_.CLOSE_TIME).sum():\n",
    "        error_points = np.where((dat_.OPEN_TIME + 59999 != dat_.CLOSE_TIME))[0]\n",
    "        for error_point in error_points:\n",
    "            print(data.iloc[error_point-2:error_point+2])"
   ]
  },
  {
   "cell_type": "code",
   "execution_count": null,
   "metadata": {
    "ExecuteTime": {
     "end_time": "2019-02-14T23:50:01.687669Z",
     "start_time": "2019-02-14T23:50:01.682368Z"
    },
    "collapsed": true
   },
   "outputs": [],
   "source": [
    "def clean_data(data):\n",
    "    dat_.loc[dat_.OPEN_TIME == 1530663720000, 'CLOSE_TIME'] = 1530663780000 - 1\n",
    "    return data"
   ]
  },
  {
   "cell_type": "code",
   "execution_count": null,
   "metadata": {
    "collapsed": true
   },
   "outputs": [],
   "source": [
    "def TR_CV_TT_split(data, tr_frac, cv_frac, tt_frac):\n",
    "    TR_data = data[:int(len(data)*tr_frac)]\n",
    "    CV_data = data[int(len(data)*tr_frac):int(len(data)*(tr_frac+cv_frac))]\n",
    "    TT_data = data[int(len(data)*(tr_frac+cv_frac)):]\n",
    "    return TR_data, CV_data, TT_data"
   ]
  },
  {
   "cell_type": "code",
   "execution_count": null,
   "metadata": {
    "collapsed": true
   },
   "outputs": [],
   "source": [
    "def interval_transform(data, period=5):\n",
    "    _data = data.iloc[::-1].reset_index(drop=True)\n",
    "    \n",
    "    data_ = pd.DataFrame({\n",
    "        'OPEN_TIME'  : data['OPEN_TIME'].iloc[len(data)-period::-period].reset_index(drop=True)\n",
    "    })\n",
    "    data_['CLOSE_TIME'] = data['CLOSE_TIME'].iloc[len(data)-1::-period].reset_index(drop=True)\n",
    "    data_['OPEN']  = data['OPEN'].iloc[len(data)-period::-period].reset_index(drop=True)\n",
    "    data_['HIGH']  = _data['HIGH'].groupby(_data.index // period).max().reset_index(drop=True)\n",
    "    data_['LOW']   = _data['LOW'].groupby(_data.index // period).min().reset_index(drop=True)\n",
    "    data_['CLOSE'] = data['CLOSE'].iloc[len(data)-1::-period].reset_index(drop=True)\n",
    "    \n",
    "    return data_.iloc[::-1].reset_index(drop=True)"
   ]
  },
  {
   "cell_type": "code",
   "execution_count": 1,
   "metadata": {
    "ExecuteTime": {
     "end_time": "2019-02-23T12:19:04.596254Z",
     "start_time": "2019-02-23T12:19:03.586168Z"
    },
    "collapsed": true
   },
   "outputs": [],
   "source": [
    "from scipy.special import kl_div\n",
    "from numpy.linalg import norm\n",
    "from scipy.stats import ks_2samp\n",
    "\n",
    "def distribution_diff(data_p, data_q, n_bins=1000, plot=False):\n",
    "    max_p = max(data_p)\n",
    "    min_p = min(data_p)\n",
    "    max_q = max(data_q)\n",
    "    min_q = min(data_q)\n",
    "\n",
    "    min_pq = min(min_p, min_q)\n",
    "    max_pq = min(max_p, max_q)\n",
    "    \n",
    "    bins = np.linspace(min_pq, max_pq, n_bins)\n",
    "    \n",
    "    if plot==True:\n",
    "        plt.figure(figsize=(20, 5))\n",
    "        _ = plt.hist(data_p, bins=bins)\n",
    "        plt.xlim((min_pq, max_pq))\n",
    "        plt.show()\n",
    "\n",
    "        plt.figure(figsize=(20, 5))\n",
    "        _ = plt.hist(data_q, bins=bins)\n",
    "        plt.xlim((min_pq, max_pq))\n",
    "        plt.show()\n",
    "    \n",
    "    result = {}\n",
    "    \n",
    "    freq_p, bins = np.histogram(data_p, bins=bins)\n",
    "    freq_q, bins = np.histogram(data_q, bins=bins)\n",
    "\n",
    "    p = freq_p/float(len(data_p))\n",
    "    q = freq_q/float(len(data_q))\n",
    "\n",
    "    result['kl'] = ((\n",
    "        np.array([x if x != np.inf else q[i] for i, x in enumerate(kl_div(p, q))]) + \n",
    "        np.array([x if x != np.inf else p[i] for i, x in enumerate(kl_div(q, p))])\n",
    "    )/2).sum()\n",
    "    result['norm'] = norm(p-q)\n",
    "    result['ks']   = ks_2samp(data_p, data_q).statistic\n",
    "    \n",
    "    return result"
   ]
  },
  {
   "cell_type": "code",
   "execution_count": null,
   "metadata": {
    "collapsed": true
   },
   "outputs": [],
   "source": []
  }
 ],
 "metadata": {
  "gist": {
   "data": {
    "description": "utils.ipynb",
    "public": false
   },
   "id": ""
  },
  "kernelspec": {
   "display_name": "Python 2",
   "language": "python",
   "name": "python2"
  },
  "language_info": {
   "codemirror_mode": {
    "name": "ipython",
    "version": 2
   },
   "file_extension": ".py",
   "mimetype": "text/x-python",
   "name": "python",
   "nbconvert_exporter": "python",
   "pygments_lexer": "ipython2",
   "version": "2.7.13"
  },
  "varInspector": {
   "cols": {
    "lenName": 16,
    "lenType": 16,
    "lenVar": 40
   },
   "kernels_config": {
    "python": {
     "delete_cmd_postfix": "",
     "delete_cmd_prefix": "del ",
     "library": "var_list.py",
     "varRefreshCmd": "print(var_dic_list())"
    },
    "r": {
     "delete_cmd_postfix": ") ",
     "delete_cmd_prefix": "rm(",
     "library": "var_list.r",
     "varRefreshCmd": "cat(var_dic_list()) "
    }
   },
   "types_to_exclude": [
    "module",
    "function",
    "builtin_function_or_method",
    "instance",
    "_Feature"
   ],
   "window_display": false
  }
 },
 "nbformat": 4,
 "nbformat_minor": 2
}
