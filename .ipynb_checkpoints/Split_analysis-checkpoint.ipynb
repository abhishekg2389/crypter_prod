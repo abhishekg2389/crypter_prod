{
 "cells": [
  {
   "cell_type": "code",
   "execution_count": 1,
   "metadata": {
    "ExecuteTime": {
     "end_time": "2019-02-23T10:17:01.401964Z",
     "start_time": "2019-02-23T10:17:01.396701Z"
    },
    "collapsed": true
   },
   "outputs": [],
   "source": [
    "from IPython.core.interactiveshell import InteractiveShell\n",
    "InteractiveShell.ast_node_interactivity = \"all\""
   ]
  },
  {
   "cell_type": "code",
   "execution_count": 2,
   "metadata": {
    "ExecuteTime": {
     "end_time": "2019-02-23T10:17:02.758829Z",
     "start_time": "2019-02-23T10:17:01.827189Z"
    }
   },
   "outputs": [
    {
     "data": {
      "text/plain": [
       "'0.20.2'"
      ]
     },
     "execution_count": 2,
     "metadata": {},
     "output_type": "execute_result"
    }
   ],
   "source": [
    "import sklearn\n",
    "sklearn.__version__"
   ]
  },
  {
   "cell_type": "code",
   "execution_count": 3,
   "metadata": {
    "ExecuteTime": {
     "end_time": "2019-02-23T10:17:04.485963Z",
     "start_time": "2019-02-23T10:17:02.767909Z"
    },
    "collapsed": true
   },
   "outputs": [],
   "source": [
    "import pandas as pd\n",
    "import pickle as pkl"
   ]
  },
  {
   "cell_type": "code",
   "execution_count": 53,
   "metadata": {
    "ExecuteTime": {
     "end_time": "2019-02-23T12:18:08.507298Z",
     "start_time": "2019-02-23T12:18:08.359525Z"
    }
   },
   "outputs": [],
   "source": [
    "%run utils.ipynb\n",
    "%run targets.ipynb"
   ]
  },
  {
   "cell_type": "code",
   "execution_count": 5,
   "metadata": {
    "ExecuteTime": {
     "end_time": "2019-02-23T10:17:07.091218Z",
     "start_time": "2019-02-23T10:17:07.087813Z"
    },
    "collapsed": true
   },
   "outputs": [],
   "source": [
    "file = 'ETHBTC_1m_1519496760000_1549568220000.csv'"
   ]
  },
  {
   "cell_type": "code",
   "execution_count": 6,
   "metadata": {
    "ExecuteTime": {
     "end_time": "2019-02-23T10:17:08.244051Z",
     "start_time": "2019-02-23T10:17:07.103628Z"
    }
   },
   "outputs": [
    {
     "data": {
      "text/plain": [
       "(500000, 12)"
      ]
     },
     "execution_count": 6,
     "metadata": {},
     "output_type": "execute_result"
    },
    {
     "data": {
      "text/html": [
       "<div>\n",
       "<style scoped>\n",
       "    .dataframe tbody tr th:only-of-type {\n",
       "        vertical-align: middle;\n",
       "    }\n",
       "\n",
       "    .dataframe tbody tr th {\n",
       "        vertical-align: top;\n",
       "    }\n",
       "\n",
       "    .dataframe thead th {\n",
       "        text-align: right;\n",
       "    }\n",
       "</style>\n",
       "<table border=\"1\" class=\"dataframe\">\n",
       "  <thead>\n",
       "    <tr style=\"text-align: right;\">\n",
       "      <th></th>\n",
       "      <th>OPEN_TIME</th>\n",
       "      <th>OPEN</th>\n",
       "      <th>HIGH</th>\n",
       "      <th>LOW</th>\n",
       "      <th>CLOSE</th>\n",
       "      <th>VOLUME</th>\n",
       "      <th>CLOSE_TIME</th>\n",
       "      <th>QUOTE_VOL</th>\n",
       "      <th>NUM_TRADES</th>\n",
       "      <th>TAKE_BASE_VOL</th>\n",
       "      <th>TAKE_QUOTE_VOL</th>\n",
       "      <th>EXTRA</th>\n",
       "    </tr>\n",
       "  </thead>\n",
       "  <tbody>\n",
       "    <tr>\n",
       "      <th>0</th>\n",
       "      <td>1519496760000</td>\n",
       "      <td>0.085541</td>\n",
       "      <td>0.085570</td>\n",
       "      <td>0.085407</td>\n",
       "      <td>0.085473</td>\n",
       "      <td>27.714</td>\n",
       "      <td>1519496819999</td>\n",
       "      <td>2.370345</td>\n",
       "      <td>192</td>\n",
       "      <td>15.308</td>\n",
       "      <td>1.309733</td>\n",
       "      <td>0</td>\n",
       "    </tr>\n",
       "    <tr>\n",
       "      <th>1</th>\n",
       "      <td>1519496820000</td>\n",
       "      <td>0.085473</td>\n",
       "      <td>0.085570</td>\n",
       "      <td>0.085448</td>\n",
       "      <td>0.085449</td>\n",
       "      <td>20.128</td>\n",
       "      <td>1519496879999</td>\n",
       "      <td>1.720609</td>\n",
       "      <td>122</td>\n",
       "      <td>6.579</td>\n",
       "      <td>0.562654</td>\n",
       "      <td>0</td>\n",
       "    </tr>\n",
       "    <tr>\n",
       "      <th>2</th>\n",
       "      <td>1519496880000</td>\n",
       "      <td>0.085448</td>\n",
       "      <td>0.085569</td>\n",
       "      <td>0.085400</td>\n",
       "      <td>0.085538</td>\n",
       "      <td>45.510</td>\n",
       "      <td>1519496939999</td>\n",
       "      <td>3.890176</td>\n",
       "      <td>209</td>\n",
       "      <td>19.426</td>\n",
       "      <td>1.660960</td>\n",
       "      <td>0</td>\n",
       "    </tr>\n",
       "    <tr>\n",
       "      <th>3</th>\n",
       "      <td>1519496940000</td>\n",
       "      <td>0.085538</td>\n",
       "      <td>0.085546</td>\n",
       "      <td>0.085402</td>\n",
       "      <td>0.085540</td>\n",
       "      <td>22.231</td>\n",
       "      <td>1519496999999</td>\n",
       "      <td>1.900513</td>\n",
       "      <td>105</td>\n",
       "      <td>14.320</td>\n",
       "      <td>1.224483</td>\n",
       "      <td>0</td>\n",
       "    </tr>\n",
       "    <tr>\n",
       "      <th>4</th>\n",
       "      <td>1519497000000</td>\n",
       "      <td>0.085539</td>\n",
       "      <td>0.085552</td>\n",
       "      <td>0.085464</td>\n",
       "      <td>0.085464</td>\n",
       "      <td>15.243</td>\n",
       "      <td>1519497059999</td>\n",
       "      <td>1.303412</td>\n",
       "      <td>117</td>\n",
       "      <td>8.373</td>\n",
       "      <td>0.716219</td>\n",
       "      <td>0</td>\n",
       "    </tr>\n",
       "    <tr>\n",
       "      <th>5</th>\n",
       "      <td>1519497060000</td>\n",
       "      <td>0.085466</td>\n",
       "      <td>0.085555</td>\n",
       "      <td>0.085464</td>\n",
       "      <td>0.085545</td>\n",
       "      <td>31.895</td>\n",
       "      <td>1519497119999</td>\n",
       "      <td>2.727413</td>\n",
       "      <td>131</td>\n",
       "      <td>19.237</td>\n",
       "      <td>1.645547</td>\n",
       "      <td>0</td>\n",
       "    </tr>\n",
       "    <tr>\n",
       "      <th>6</th>\n",
       "      <td>1519497120000</td>\n",
       "      <td>0.085545</td>\n",
       "      <td>0.085545</td>\n",
       "      <td>0.085464</td>\n",
       "      <td>0.085539</td>\n",
       "      <td>13.325</td>\n",
       "      <td>1519497179999</td>\n",
       "      <td>1.139346</td>\n",
       "      <td>78</td>\n",
       "      <td>7.311</td>\n",
       "      <td>0.625352</td>\n",
       "      <td>0</td>\n",
       "    </tr>\n",
       "    <tr>\n",
       "      <th>7</th>\n",
       "      <td>1519497180000</td>\n",
       "      <td>0.085539</td>\n",
       "      <td>0.085555</td>\n",
       "      <td>0.085414</td>\n",
       "      <td>0.085517</td>\n",
       "      <td>28.202</td>\n",
       "      <td>1519497239999</td>\n",
       "      <td>2.411093</td>\n",
       "      <td>195</td>\n",
       "      <td>14.409</td>\n",
       "      <td>1.232346</td>\n",
       "      <td>0</td>\n",
       "    </tr>\n",
       "    <tr>\n",
       "      <th>8</th>\n",
       "      <td>1519497240000</td>\n",
       "      <td>0.085460</td>\n",
       "      <td>0.085545</td>\n",
       "      <td>0.085419</td>\n",
       "      <td>0.085534</td>\n",
       "      <td>15.302</td>\n",
       "      <td>1519497299999</td>\n",
       "      <td>1.307959</td>\n",
       "      <td>134</td>\n",
       "      <td>7.216</td>\n",
       "      <td>0.617035</td>\n",
       "      <td>0</td>\n",
       "    </tr>\n",
       "    <tr>\n",
       "      <th>9</th>\n",
       "      <td>1519497300000</td>\n",
       "      <td>0.085440</td>\n",
       "      <td>0.085545</td>\n",
       "      <td>0.085440</td>\n",
       "      <td>0.085533</td>\n",
       "      <td>13.730</td>\n",
       "      <td>1519497359999</td>\n",
       "      <td>1.173580</td>\n",
       "      <td>105</td>\n",
       "      <td>6.186</td>\n",
       "      <td>0.529001</td>\n",
       "      <td>0</td>\n",
       "    </tr>\n",
       "  </tbody>\n",
       "</table>\n",
       "</div>"
      ],
      "text/plain": [
       "       OPEN_TIME      OPEN      HIGH       LOW     CLOSE  VOLUME  \\\n",
       "0  1519496760000  0.085541  0.085570  0.085407  0.085473  27.714   \n",
       "1  1519496820000  0.085473  0.085570  0.085448  0.085449  20.128   \n",
       "2  1519496880000  0.085448  0.085569  0.085400  0.085538  45.510   \n",
       "3  1519496940000  0.085538  0.085546  0.085402  0.085540  22.231   \n",
       "4  1519497000000  0.085539  0.085552  0.085464  0.085464  15.243   \n",
       "5  1519497060000  0.085466  0.085555  0.085464  0.085545  31.895   \n",
       "6  1519497120000  0.085545  0.085545  0.085464  0.085539  13.325   \n",
       "7  1519497180000  0.085539  0.085555  0.085414  0.085517  28.202   \n",
       "8  1519497240000  0.085460  0.085545  0.085419  0.085534  15.302   \n",
       "9  1519497300000  0.085440  0.085545  0.085440  0.085533  13.730   \n",
       "\n",
       "      CLOSE_TIME  QUOTE_VOL  NUM_TRADES  TAKE_BASE_VOL  TAKE_QUOTE_VOL  EXTRA  \n",
       "0  1519496819999   2.370345         192         15.308        1.309733      0  \n",
       "1  1519496879999   1.720609         122          6.579        0.562654      0  \n",
       "2  1519496939999   3.890176         209         19.426        1.660960      0  \n",
       "3  1519496999999   1.900513         105         14.320        1.224483      0  \n",
       "4  1519497059999   1.303412         117          8.373        0.716219      0  \n",
       "5  1519497119999   2.727413         131         19.237        1.645547      0  \n",
       "6  1519497179999   1.139346          78          7.311        0.625352      0  \n",
       "7  1519497239999   2.411093         195         14.409        1.232346      0  \n",
       "8  1519497299999   1.307959         134          7.216        0.617035      0  \n",
       "9  1519497359999   1.173580         105          6.186        0.529001      0  "
      ]
     },
     "execution_count": 6,
     "metadata": {},
     "output_type": "execute_result"
    }
   ],
   "source": [
    "# Get Data\n",
    "df = pd.read_csv('../data/'+file)\n",
    "df.shape\n",
    "df.head(10)"
   ]
  },
  {
   "cell_type": "code",
   "execution_count": 7,
   "metadata": {
    "ExecuteTime": {
     "end_time": "2019-02-23T10:17:08.424093Z",
     "start_time": "2019-02-23T10:17:08.373580Z"
    }
   },
   "outputs": [
    {
     "data": {
      "text/plain": [
       "(500000, 6)"
      ]
     },
     "execution_count": 7,
     "metadata": {},
     "output_type": "execute_result"
    },
    {
     "data": {
      "text/html": [
       "<div>\n",
       "<style scoped>\n",
       "    .dataframe tbody tr th:only-of-type {\n",
       "        vertical-align: middle;\n",
       "    }\n",
       "\n",
       "    .dataframe tbody tr th {\n",
       "        vertical-align: top;\n",
       "    }\n",
       "\n",
       "    .dataframe thead th {\n",
       "        text-align: right;\n",
       "    }\n",
       "</style>\n",
       "<table border=\"1\" class=\"dataframe\">\n",
       "  <thead>\n",
       "    <tr style=\"text-align: right;\">\n",
       "      <th></th>\n",
       "      <th>OPEN_TIME</th>\n",
       "      <th>CLOSE_TIME</th>\n",
       "      <th>OPEN</th>\n",
       "      <th>HIGH</th>\n",
       "      <th>LOW</th>\n",
       "      <th>CLOSE</th>\n",
       "    </tr>\n",
       "  </thead>\n",
       "  <tbody>\n",
       "    <tr>\n",
       "      <th>0</th>\n",
       "      <td>1519496760000</td>\n",
       "      <td>1519496819999</td>\n",
       "      <td>0.085541</td>\n",
       "      <td>0.085570</td>\n",
       "      <td>0.085407</td>\n",
       "      <td>0.085473</td>\n",
       "    </tr>\n",
       "    <tr>\n",
       "      <th>1</th>\n",
       "      <td>1519496820000</td>\n",
       "      <td>1519496879999</td>\n",
       "      <td>0.085473</td>\n",
       "      <td>0.085570</td>\n",
       "      <td>0.085448</td>\n",
       "      <td>0.085449</td>\n",
       "    </tr>\n",
       "    <tr>\n",
       "      <th>2</th>\n",
       "      <td>1519496880000</td>\n",
       "      <td>1519496939999</td>\n",
       "      <td>0.085448</td>\n",
       "      <td>0.085569</td>\n",
       "      <td>0.085400</td>\n",
       "      <td>0.085538</td>\n",
       "    </tr>\n",
       "    <tr>\n",
       "      <th>3</th>\n",
       "      <td>1519496940000</td>\n",
       "      <td>1519496999999</td>\n",
       "      <td>0.085538</td>\n",
       "      <td>0.085546</td>\n",
       "      <td>0.085402</td>\n",
       "      <td>0.085540</td>\n",
       "    </tr>\n",
       "    <tr>\n",
       "      <th>4</th>\n",
       "      <td>1519497000000</td>\n",
       "      <td>1519497059999</td>\n",
       "      <td>0.085539</td>\n",
       "      <td>0.085552</td>\n",
       "      <td>0.085464</td>\n",
       "      <td>0.085464</td>\n",
       "    </tr>\n",
       "  </tbody>\n",
       "</table>\n",
       "</div>"
      ],
      "text/plain": [
       "       OPEN_TIME     CLOSE_TIME      OPEN      HIGH       LOW     CLOSE\n",
       "0  1519496760000  1519496819999  0.085541  0.085570  0.085407  0.085473\n",
       "1  1519496820000  1519496879999  0.085473  0.085570  0.085448  0.085449\n",
       "2  1519496880000  1519496939999  0.085448  0.085569  0.085400  0.085538\n",
       "3  1519496940000  1519496999999  0.085538  0.085546  0.085402  0.085540\n",
       "4  1519497000000  1519497059999  0.085539  0.085552  0.085464  0.085464"
      ]
     },
     "execution_count": 7,
     "metadata": {},
     "output_type": "execute_result"
    }
   ],
   "source": [
    "data = df.loc[:, ['OPEN_TIME', 'CLOSE_TIME', 'OPEN', 'HIGH', 'LOW', 'CLOSE']]\n",
    "data.shape\n",
    "data[:5]"
   ]
  },
  {
   "cell_type": "code",
   "execution_count": 37,
   "metadata": {
    "ExecuteTime": {
     "end_time": "2019-02-23T11:41:35.032516Z",
     "start_time": "2019-02-23T11:41:35.028949Z"
    }
   },
   "outputs": [],
   "source": [
    "cv_folds = get_ts_cv_folds(len(data), n_folds=6, frac_min_tr=0.4, max_tr='frac_min_tr')"
   ]
  },
  {
   "cell_type": "code",
   "execution_count": 66,
   "metadata": {
    "ExecuteTime": {
     "end_time": "2019-02-23T13:33:12.642385Z",
     "start_time": "2019-02-23T13:33:12.637314Z"
    }
   },
   "outputs": [
    {
     "data": {
      "text/plain": [
       "349390"
      ]
     },
     "execution_count": 66,
     "metadata": {},
     "output_type": "execute_result"
    }
   ],
   "source": [
    "np.random.randint(len(data))"
   ]
  },
  {
   "cell_type": "code",
   "execution_count": 70,
   "metadata": {
    "ExecuteTime": {
     "end_time": "2019-02-23T13:39:20.578970Z",
     "start_time": "2019-02-23T13:39:20.387436Z"
    },
    "scrolled": false
   },
   "outputs": [
    {
     "ename": "AttributeError",
     "evalue": "'dict' object has no attribute 'ks'",
     "output_type": "error",
     "traceback": [
      "\u001b[0;31m---------------------------------------------------------------------------\u001b[0m",
      "\u001b[0;31mAttributeError\u001b[0m                            Traceback (most recent call last)",
      "\u001b[0;32m<ipython-input-70-978108745a19>\u001b[0m in \u001b[0;36m<module>\u001b[0;34m()\u001b[0m\n\u001b[1;32m     15\u001b[0m         \u001b[0;34m'sp_pos'\u001b[0m\u001b[0;34m:\u001b[0m \u001b[0msp_pos\u001b[0m\u001b[0;34m,\u001b[0m\u001b[0;34m\u001b[0m\u001b[0m\n\u001b[1;32m     16\u001b[0m         \u001b[0;34m'cv_pos'\u001b[0m\u001b[0;34m:\u001b[0m \u001b[0mcv_pos\u001b[0m\u001b[0;34m,\u001b[0m\u001b[0;34m\u001b[0m\u001b[0m\n\u001b[0;32m---> 17\u001b[0;31m         \u001b[0;34m'ks'\u001b[0m    \u001b[0;34m:\u001b[0m \u001b[0mdiff_res\u001b[0m\u001b[0;34m.\u001b[0m\u001b[0mks\u001b[0m\u001b[0;34m,\u001b[0m\u001b[0;34m\u001b[0m\u001b[0m\n\u001b[0m\u001b[1;32m     18\u001b[0m         \u001b[0;34m'norm'\u001b[0m  \u001b[0;34m:\u001b[0m \u001b[0mdiff_res\u001b[0m\u001b[0;34m.\u001b[0m\u001b[0mnorm\u001b[0m\u001b[0;34m,\u001b[0m\u001b[0;34m\u001b[0m\u001b[0m\n\u001b[1;32m     19\u001b[0m         \u001b[0;34m'kl'\u001b[0m    \u001b[0;34m:\u001b[0m \u001b[0mdiff_res\u001b[0m\u001b[0;34m.\u001b[0m\u001b[0mkl\u001b[0m\u001b[0;34m\u001b[0m\u001b[0m\n",
      "\u001b[0;31mAttributeError\u001b[0m: 'dict' object has no attribute 'ks'"
     ]
    }
   ],
   "source": [
    "%run utils.ipynb\n",
    "\n",
    "res = pd.DataFrame({'tr_pos': [], 'sp_pos': [], 'cv_pos': [], 'ks': [], 'norm': [], 'kl': []})\n",
    "for i in range(10000):\n",
    "    sp_pos = np.random.randint(len(data))\n",
    "    cv_pos = np.random.randint(sp_pos, len(data))\n",
    "    tr_pos = np.random.randint(sp_pos)\n",
    "    \n",
    "    d1 = data.iloc[tr_pos:sp_pos, 2]\n",
    "    d2 = data.iloc[sp_pos:cv_pos, 2]\n",
    "\n",
    "    diff_res = distribution_diff(d1, d2, plot=False)\n",
    "    res.append(pd.Series({\n",
    "        'tr_pos': tr_pos,\n",
    "        'sp_pos': sp_pos,\n",
    "        'cv_pos': cv_pos,\n",
    "        'ks'    : diff_res['ks'],\n",
    "        'norm'  : diff_res['norm'],\n",
    "        'kl'    : diff_res['kl']\n",
    "    }))\n",
    "\n",
    "print(res)"
   ]
  },
  {
   "cell_type": "code",
   "execution_count": 61,
   "metadata": {
    "ExecuteTime": {
     "end_time": "2019-02-23T13:22:08.176214Z",
     "start_time": "2019-02-23T13:22:08.164762Z"
    }
   },
   "outputs": [
    {
     "data": {
      "text/plain": [
       "Ks_2sampResult(statistic=0.08999999999999997, pvalue=0.3766591349483967)"
      ]
     },
     "execution_count": 61,
     "metadata": {},
     "output_type": "execute_result"
    }
   ],
   "source": [
    "from scipy import stats\n",
    "np.random.seed(12345678)  #fix random seed to get the same result\n",
    "n1 = 200  # size of first sample\n",
    "n2 = 200  # size of second sample\n",
    "\n",
    "rvs1 = stats.norm.rvs(size=n1, loc=0., scale=1)\n",
    "rvs2 = stats.norm.rvs(size=n2, loc=0., scale=1)\n",
    "stats.ks_2samp(rvs1, rvs2)"
   ]
  },
  {
   "cell_type": "code",
   "execution_count": 63,
   "metadata": {
    "ExecuteTime": {
     "end_time": "2019-02-23T13:22:45.734540Z",
     "start_time": "2019-02-23T13:22:45.712865Z"
    }
   },
   "outputs": [
    {
     "data": {
      "text/plain": [
       "[0.0014412298901413934,\n",
       " inf,\n",
       " inf,\n",
       " inf,\n",
       " inf,\n",
       " inf,\n",
       " inf,\n",
       " inf,\n",
       " inf,\n",
       " inf,\n",
       " inf,\n",
       " inf,\n",
       " inf,\n",
       " inf,\n",
       " inf,\n",
       " inf,\n",
       " 0.5008486479251584,\n",
       " inf,\n",
       " 0.1090981302756292,\n",
       " 0.08987515013939884,\n",
       " inf,\n",
       " inf,\n",
       " inf,\n",
       " inf,\n",
       " inf,\n",
       " inf,\n",
       " 0.11724725121281487,\n",
       " inf,\n",
       " inf,\n",
       " inf,\n",
       " inf,\n",
       " inf,\n",
       " 0.042759117154303694,\n",
       " inf,\n",
       " 0.0019492757523205118,\n",
       " inf,\n",
       " 0.03474550018645162,\n",
       " inf,\n",
       " 0.6531139551639903,\n",
       " 0.4675493949465044,\n",
       " inf,\n",
       " 0.30446730542819284,\n",
       " 0.7313919795113755,\n",
       " inf,\n",
       " inf,\n",
       " inf,\n",
       " inf,\n",
       " inf,\n",
       " inf,\n",
       " inf,\n",
       " inf,\n",
       " inf,\n",
       " inf,\n",
       " inf,\n",
       " 1.32230466250847,\n",
       " inf,\n",
       " inf,\n",
       " inf,\n",
       " 0.011730676971388243,\n",
       " inf,\n",
       " inf,\n",
       " 0.4323186405527226,\n",
       " 0.12149874246637826,\n",
       " inf,\n",
       " 0.0067718890448998925,\n",
       " inf,\n",
       " inf,\n",
       " inf,\n",
       " inf,\n",
       " 0.01393484417105606,\n",
       " inf,\n",
       " inf,\n",
       " 0.4254949012137762,\n",
       " inf,\n",
       " inf,\n",
       " inf,\n",
       " 0.31218058360441037,\n",
       " 0.029156890117876477,\n",
       " 0.6031024770841803,\n",
       " 0.5515857409835911,\n",
       " 0.23466910647324823,\n",
       " 0.031032536063861582,\n",
       " inf,\n",
       " inf,\n",
       " 2.981082478867801,\n",
       " inf,\n",
       " 2.0880548021580747,\n",
       " inf,\n",
       " inf,\n",
       " inf,\n",
       " 0.0072242235815082045,\n",
       " 1.9701257337320721,\n",
       " inf,\n",
       " inf,\n",
       " 1.7255196897503853,\n",
       " inf,\n",
       " inf,\n",
       " inf,\n",
       " inf,\n",
       " inf,\n",
       " 0.23623886588195175,\n",
       " inf,\n",
       " inf,\n",
       " inf,\n",
       " inf,\n",
       " inf,\n",
       " 0.5705452734720952,\n",
       " inf,\n",
       " inf,\n",
       " inf,\n",
       " inf,\n",
       " inf,\n",
       " inf,\n",
       " 0.17926981658600516,\n",
       " inf,\n",
       " inf,\n",
       " inf,\n",
       " inf,\n",
       " inf,\n",
       " inf,\n",
       " inf,\n",
       " inf,\n",
       " inf,\n",
       " inf,\n",
       " inf,\n",
       " inf,\n",
       " 0.009826551531018302,\n",
       " inf,\n",
       " inf,\n",
       " 0.0030264302956297673,\n",
       " inf,\n",
       " inf,\n",
       " inf,\n",
       " inf,\n",
       " inf,\n",
       " inf,\n",
       " inf,\n",
       " 1.060799660542142,\n",
       " inf,\n",
       " 0.02136689837746386,\n",
       " 0.3920172300708182,\n",
       " 0.03861420280568273,\n",
       " inf,\n",
       " inf,\n",
       " inf,\n",
       " 9.557873258514427e-06,\n",
       " inf,\n",
       " inf,\n",
       " inf,\n",
       " 1.4402198521300007,\n",
       " inf,\n",
       " inf,\n",
       " inf,\n",
       " inf,\n",
       " 0.07595468919313259,\n",
       " inf,\n",
       " 1.1412921268401799,\n",
       " inf,\n",
       " inf,\n",
       " inf,\n",
       " inf,\n",
       " inf,\n",
       " inf,\n",
       " 1.2687655802930575,\n",
       " inf,\n",
       " inf,\n",
       " inf,\n",
       " inf,\n",
       " inf,\n",
       " inf,\n",
       " 0.2386019114631719,\n",
       " 0.3435985997278783,\n",
       " 0.015587188323295031,\n",
       " inf,\n",
       " inf,\n",
       " 0.17584765456566825,\n",
       " 1.1377068216963582,\n",
       " inf,\n",
       " inf,\n",
       " inf,\n",
       " inf,\n",
       " inf,\n",
       " inf,\n",
       " inf,\n",
       " inf,\n",
       " 0.006196244725946848,\n",
       " 0.026309046234204714,\n",
       " inf,\n",
       " inf,\n",
       " inf,\n",
       " 0.45991259480684676,\n",
       " 0.5483494122262457,\n",
       " inf,\n",
       " 0.010820741761641495,\n",
       " inf,\n",
       " 0.9546424996640375,\n",
       " inf,\n",
       " 0.5226881564638457,\n",
       " inf,\n",
       " 1.3615661573181064]"
      ]
     },
     "execution_count": 63,
     "metadata": {},
     "output_type": "execute_result"
    }
   ],
   "source": [
    "from scipy.special import kl_div\n",
    "[x for x in kl_div(rvs1, rvs2)]"
   ]
  },
  {
   "cell_type": "code",
   "execution_count": 29,
   "metadata": {
    "ExecuteTime": {
     "end_time": "2019-02-23T11:34:08.125252Z",
     "start_time": "2019-02-23T11:34:08.109096Z"
    }
   },
   "outputs": [
    {
     "data": {
      "text/plain": [
       "Ks_2sampResult(statistic=0.07199999999999995, pvalue=0.2752686670334619)"
      ]
     },
     "execution_count": 29,
     "metadata": {},
     "output_type": "execute_result"
    }
   ],
   "source": [
    "from scipy import stats\n",
    "np.random.seed(12345678)  #fix random seed to get the same result\n",
    "n1 = 200  # size of first sample\n",
    "n2 = 3000  # size of second sample\n",
    "\n",
    "rvs1 = stats.norm.rvs(size=n1, loc=0., scale=1)\n",
    "rvs2 = stats.norm.rvs(size=n2, loc=0., scale=1)\n",
    "stats.ks_2samp(rvs1, rvs2)"
   ]
  },
  {
   "cell_type": "code",
   "execution_count": 31,
   "metadata": {
    "ExecuteTime": {
     "end_time": "2019-02-23T11:34:36.661571Z",
     "start_time": "2019-02-23T11:34:36.650959Z"
    }
   },
   "outputs": [
    {
     "data": {
      "text/plain": [
       "Ks_2sampResult(statistic=0.05116666666666658, pvalue=0.49164869944726625)"
      ]
     },
     "execution_count": 31,
     "metadata": {},
     "output_type": "execute_result"
    }
   ],
   "source": [
    "from scipy import stats\n",
    "np.random.seed(1234567)  #fix random seed to get the same result\n",
    "n1 = 2000  # size of first sample\n",
    "n2 = 300  # size of second sample\n",
    "\n",
    "rvs1 = stats.norm.rvs(size=n1, loc=0., scale=1)\n",
    "rvs2 = stats.norm.rvs(size=n2, loc=0., scale=1)\n",
    "stats.ks_2samp(rvs1, rvs2)"
   ]
  },
  {
   "cell_type": "code",
   "execution_count": null,
   "metadata": {
    "collapsed": true
   },
   "outputs": [],
   "source": []
  }
 ],
 "metadata": {
  "_draft": {
   "nbviewer_url": "https://gist.github.com/9e0e96b406b4b4d69c9a4ae27d55ee3c"
  },
  "gist": {
   "data": {
    "description": "model_run",
    "public": false
   },
   "id": "9e0e96b406b4b4d69c9a4ae27d55ee3c"
  },
  "kernelspec": {
   "display_name": "Python 2",
   "language": "python",
   "name": "python2"
  },
  "language_info": {
   "codemirror_mode": {
    "name": "ipython",
    "version": 2
   },
   "file_extension": ".py",
   "mimetype": "text/x-python",
   "name": "python",
   "nbconvert_exporter": "python",
   "pygments_lexer": "ipython2",
   "version": "2.7.13"
  },
  "varInspector": {
   "cols": {
    "lenName": 16,
    "lenType": 16,
    "lenVar": 40
   },
   "kernels_config": {
    "python": {
     "delete_cmd_postfix": "",
     "delete_cmd_prefix": "del ",
     "library": "var_list.py",
     "varRefreshCmd": "print(var_dic_list())"
    },
    "r": {
     "delete_cmd_postfix": ") ",
     "delete_cmd_prefix": "rm(",
     "library": "var_list.r",
     "varRefreshCmd": "cat(var_dic_list()) "
    }
   },
   "types_to_exclude": [
    "module",
    "function",
    "builtin_function_or_method",
    "instance",
    "_Feature"
   ],
   "window_display": false
  }
 },
 "nbformat": 4,
 "nbformat_minor": 2
}
