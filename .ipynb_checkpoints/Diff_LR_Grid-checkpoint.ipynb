{
 "cells": [
  {
   "cell_type": "code",
   "execution_count": 1,
   "metadata": {
    "ExecuteTime": {
     "end_time": "2019-02-23T20:38:42.727067Z",
     "start_time": "2019-02-23T20:38:42.723135Z"
    },
    "collapsed": true
   },
   "outputs": [],
   "source": [
    "from IPython.core.interactiveshell import InteractiveShell\n",
    "InteractiveShell.ast_node_interactivity = \"all\""
   ]
  },
  {
   "cell_type": "code",
   "execution_count": 2,
   "metadata": {
    "ExecuteTime": {
     "end_time": "2019-02-23T20:38:45.131130Z",
     "start_time": "2019-02-23T20:38:43.470607Z"
    },
    "collapsed": true
   },
   "outputs": [],
   "source": [
    "import pandas as pd\n",
    "import pickle as pkl"
   ]
  },
  {
   "cell_type": "code",
   "execution_count": 3,
   "metadata": {
    "ExecuteTime": {
     "end_time": "2019-02-23T20:38:52.354549Z",
     "start_time": "2019-02-23T20:38:48.992130Z"
    },
    "collapsed": true
   },
   "outputs": [],
   "source": [
    "%run utils.ipynb\n",
    "%run targets.ipynb"
   ]
  },
  {
   "cell_type": "code",
   "execution_count": 4,
   "metadata": {
    "ExecuteTime": {
     "end_time": "2019-02-23T20:38:52.381422Z",
     "start_time": "2019-02-23T20:38:52.375457Z"
    },
    "collapsed": true
   },
   "outputs": [],
   "source": [
    "file = 'ETHBTC_1m_1519496760000_1549568220000.csv'"
   ]
  },
  {
   "cell_type": "code",
   "execution_count": 11,
   "metadata": {
    "ExecuteTime": {
     "end_time": "2019-02-23T20:39:51.937787Z",
     "start_time": "2019-02-23T20:39:50.819138Z"
    }
   },
   "outputs": [
    {
     "data": {
      "text/plain": [
       "(500000, 12)"
      ]
     },
     "execution_count": 11,
     "metadata": {},
     "output_type": "execute_result"
    },
    {
     "data": {
      "text/html": [
       "<div>\n",
       "<style scoped>\n",
       "    .dataframe tbody tr th:only-of-type {\n",
       "        vertical-align: middle;\n",
       "    }\n",
       "\n",
       "    .dataframe tbody tr th {\n",
       "        vertical-align: top;\n",
       "    }\n",
       "\n",
       "    .dataframe thead th {\n",
       "        text-align: right;\n",
       "    }\n",
       "</style>\n",
       "<table border=\"1\" class=\"dataframe\">\n",
       "  <thead>\n",
       "    <tr style=\"text-align: right;\">\n",
       "      <th></th>\n",
       "      <th>OPEN_TIME</th>\n",
       "      <th>OPEN</th>\n",
       "      <th>HIGH</th>\n",
       "      <th>LOW</th>\n",
       "      <th>CLOSE</th>\n",
       "      <th>VOLUME</th>\n",
       "      <th>CLOSE_TIME</th>\n",
       "      <th>QUOTE_VOL</th>\n",
       "      <th>NUM_TRADES</th>\n",
       "      <th>TAKE_BASE_VOL</th>\n",
       "      <th>TAKE_QUOTE_VOL</th>\n",
       "      <th>EXTRA</th>\n",
       "    </tr>\n",
       "  </thead>\n",
       "  <tbody>\n",
       "    <tr>\n",
       "      <th>0</th>\n",
       "      <td>1519496760000</td>\n",
       "      <td>0.085541</td>\n",
       "      <td>0.085570</td>\n",
       "      <td>0.085407</td>\n",
       "      <td>0.085473</td>\n",
       "      <td>27.714</td>\n",
       "      <td>1519496819999</td>\n",
       "      <td>2.370345</td>\n",
       "      <td>192</td>\n",
       "      <td>15.308</td>\n",
       "      <td>1.309733</td>\n",
       "      <td>0</td>\n",
       "    </tr>\n",
       "    <tr>\n",
       "      <th>1</th>\n",
       "      <td>1519496820000</td>\n",
       "      <td>0.085473</td>\n",
       "      <td>0.085570</td>\n",
       "      <td>0.085448</td>\n",
       "      <td>0.085449</td>\n",
       "      <td>20.128</td>\n",
       "      <td>1519496879999</td>\n",
       "      <td>1.720609</td>\n",
       "      <td>122</td>\n",
       "      <td>6.579</td>\n",
       "      <td>0.562654</td>\n",
       "      <td>0</td>\n",
       "    </tr>\n",
       "    <tr>\n",
       "      <th>2</th>\n",
       "      <td>1519496880000</td>\n",
       "      <td>0.085448</td>\n",
       "      <td>0.085569</td>\n",
       "      <td>0.085400</td>\n",
       "      <td>0.085538</td>\n",
       "      <td>45.510</td>\n",
       "      <td>1519496939999</td>\n",
       "      <td>3.890176</td>\n",
       "      <td>209</td>\n",
       "      <td>19.426</td>\n",
       "      <td>1.660960</td>\n",
       "      <td>0</td>\n",
       "    </tr>\n",
       "    <tr>\n",
       "      <th>3</th>\n",
       "      <td>1519496940000</td>\n",
       "      <td>0.085538</td>\n",
       "      <td>0.085546</td>\n",
       "      <td>0.085402</td>\n",
       "      <td>0.085540</td>\n",
       "      <td>22.231</td>\n",
       "      <td>1519496999999</td>\n",
       "      <td>1.900513</td>\n",
       "      <td>105</td>\n",
       "      <td>14.320</td>\n",
       "      <td>1.224483</td>\n",
       "      <td>0</td>\n",
       "    </tr>\n",
       "    <tr>\n",
       "      <th>4</th>\n",
       "      <td>1519497000000</td>\n",
       "      <td>0.085539</td>\n",
       "      <td>0.085552</td>\n",
       "      <td>0.085464</td>\n",
       "      <td>0.085464</td>\n",
       "      <td>15.243</td>\n",
       "      <td>1519497059999</td>\n",
       "      <td>1.303412</td>\n",
       "      <td>117</td>\n",
       "      <td>8.373</td>\n",
       "      <td>0.716219</td>\n",
       "      <td>0</td>\n",
       "    </tr>\n",
       "    <tr>\n",
       "      <th>5</th>\n",
       "      <td>1519497060000</td>\n",
       "      <td>0.085466</td>\n",
       "      <td>0.085555</td>\n",
       "      <td>0.085464</td>\n",
       "      <td>0.085545</td>\n",
       "      <td>31.895</td>\n",
       "      <td>1519497119999</td>\n",
       "      <td>2.727413</td>\n",
       "      <td>131</td>\n",
       "      <td>19.237</td>\n",
       "      <td>1.645547</td>\n",
       "      <td>0</td>\n",
       "    </tr>\n",
       "    <tr>\n",
       "      <th>6</th>\n",
       "      <td>1519497120000</td>\n",
       "      <td>0.085545</td>\n",
       "      <td>0.085545</td>\n",
       "      <td>0.085464</td>\n",
       "      <td>0.085539</td>\n",
       "      <td>13.325</td>\n",
       "      <td>1519497179999</td>\n",
       "      <td>1.139346</td>\n",
       "      <td>78</td>\n",
       "      <td>7.311</td>\n",
       "      <td>0.625352</td>\n",
       "      <td>0</td>\n",
       "    </tr>\n",
       "    <tr>\n",
       "      <th>7</th>\n",
       "      <td>1519497180000</td>\n",
       "      <td>0.085539</td>\n",
       "      <td>0.085555</td>\n",
       "      <td>0.085414</td>\n",
       "      <td>0.085517</td>\n",
       "      <td>28.202</td>\n",
       "      <td>1519497239999</td>\n",
       "      <td>2.411093</td>\n",
       "      <td>195</td>\n",
       "      <td>14.409</td>\n",
       "      <td>1.232346</td>\n",
       "      <td>0</td>\n",
       "    </tr>\n",
       "    <tr>\n",
       "      <th>8</th>\n",
       "      <td>1519497240000</td>\n",
       "      <td>0.085460</td>\n",
       "      <td>0.085545</td>\n",
       "      <td>0.085419</td>\n",
       "      <td>0.085534</td>\n",
       "      <td>15.302</td>\n",
       "      <td>1519497299999</td>\n",
       "      <td>1.307959</td>\n",
       "      <td>134</td>\n",
       "      <td>7.216</td>\n",
       "      <td>0.617035</td>\n",
       "      <td>0</td>\n",
       "    </tr>\n",
       "    <tr>\n",
       "      <th>9</th>\n",
       "      <td>1519497300000</td>\n",
       "      <td>0.085440</td>\n",
       "      <td>0.085545</td>\n",
       "      <td>0.085440</td>\n",
       "      <td>0.085533</td>\n",
       "      <td>13.730</td>\n",
       "      <td>1519497359999</td>\n",
       "      <td>1.173580</td>\n",
       "      <td>105</td>\n",
       "      <td>6.186</td>\n",
       "      <td>0.529001</td>\n",
       "      <td>0</td>\n",
       "    </tr>\n",
       "  </tbody>\n",
       "</table>\n",
       "</div>"
      ],
      "text/plain": [
       "       OPEN_TIME      OPEN      HIGH       LOW     CLOSE  VOLUME  \\\n",
       "0  1519496760000  0.085541  0.085570  0.085407  0.085473  27.714   \n",
       "1  1519496820000  0.085473  0.085570  0.085448  0.085449  20.128   \n",
       "2  1519496880000  0.085448  0.085569  0.085400  0.085538  45.510   \n",
       "3  1519496940000  0.085538  0.085546  0.085402  0.085540  22.231   \n",
       "4  1519497000000  0.085539  0.085552  0.085464  0.085464  15.243   \n",
       "5  1519497060000  0.085466  0.085555  0.085464  0.085545  31.895   \n",
       "6  1519497120000  0.085545  0.085545  0.085464  0.085539  13.325   \n",
       "7  1519497180000  0.085539  0.085555  0.085414  0.085517  28.202   \n",
       "8  1519497240000  0.085460  0.085545  0.085419  0.085534  15.302   \n",
       "9  1519497300000  0.085440  0.085545  0.085440  0.085533  13.730   \n",
       "\n",
       "      CLOSE_TIME  QUOTE_VOL  NUM_TRADES  TAKE_BASE_VOL  TAKE_QUOTE_VOL  EXTRA  \n",
       "0  1519496819999   2.370345         192         15.308        1.309733      0  \n",
       "1  1519496879999   1.720609         122          6.579        0.562654      0  \n",
       "2  1519496939999   3.890176         209         19.426        1.660960      0  \n",
       "3  1519496999999   1.900513         105         14.320        1.224483      0  \n",
       "4  1519497059999   1.303412         117          8.373        0.716219      0  \n",
       "5  1519497119999   2.727413         131         19.237        1.645547      0  \n",
       "6  1519497179999   1.139346          78          7.311        0.625352      0  \n",
       "7  1519497239999   2.411093         195         14.409        1.232346      0  \n",
       "8  1519497299999   1.307959         134          7.216        0.617035      0  \n",
       "9  1519497359999   1.173580         105          6.186        0.529001      0  "
      ]
     },
     "execution_count": 11,
     "metadata": {},
     "output_type": "execute_result"
    }
   ],
   "source": [
    "# Get Data\n",
    "df = pd.read_csv('../data/'+file)\n",
    "df.shape\n",
    "df.head(10)"
   ]
  },
  {
   "cell_type": "code",
   "execution_count": 12,
   "metadata": {
    "ExecuteTime": {
     "end_time": "2019-02-23T20:39:52.228775Z",
     "start_time": "2019-02-23T20:39:52.154228Z"
    }
   },
   "outputs": [
    {
     "data": {
      "text/plain": [
       "(500000, 6)"
      ]
     },
     "execution_count": 12,
     "metadata": {},
     "output_type": "execute_result"
    },
    {
     "data": {
      "text/html": [
       "<div>\n",
       "<style scoped>\n",
       "    .dataframe tbody tr th:only-of-type {\n",
       "        vertical-align: middle;\n",
       "    }\n",
       "\n",
       "    .dataframe tbody tr th {\n",
       "        vertical-align: top;\n",
       "    }\n",
       "\n",
       "    .dataframe thead th {\n",
       "        text-align: right;\n",
       "    }\n",
       "</style>\n",
       "<table border=\"1\" class=\"dataframe\">\n",
       "  <thead>\n",
       "    <tr style=\"text-align: right;\">\n",
       "      <th></th>\n",
       "      <th>OPEN_TIME</th>\n",
       "      <th>CLOSE_TIME</th>\n",
       "      <th>OPEN</th>\n",
       "      <th>HIGH</th>\n",
       "      <th>LOW</th>\n",
       "      <th>CLOSE</th>\n",
       "    </tr>\n",
       "  </thead>\n",
       "  <tbody>\n",
       "    <tr>\n",
       "      <th>0</th>\n",
       "      <td>1519496760000</td>\n",
       "      <td>1519496819999</td>\n",
       "      <td>NaN</td>\n",
       "      <td>NaN</td>\n",
       "      <td>NaN</td>\n",
       "      <td>NaN</td>\n",
       "    </tr>\n",
       "    <tr>\n",
       "      <th>1</th>\n",
       "      <td>1519496820000</td>\n",
       "      <td>1519496879999</td>\n",
       "      <td>-0.000068</td>\n",
       "      <td>0.000000e+00</td>\n",
       "      <td>0.000041</td>\n",
       "      <td>-0.000024</td>\n",
       "    </tr>\n",
       "    <tr>\n",
       "      <th>2</th>\n",
       "      <td>1519496880000</td>\n",
       "      <td>1519496939999</td>\n",
       "      <td>-0.000025</td>\n",
       "      <td>-1.000000e-06</td>\n",
       "      <td>-0.000048</td>\n",
       "      <td>0.000089</td>\n",
       "    </tr>\n",
       "    <tr>\n",
       "      <th>3</th>\n",
       "      <td>1519496940000</td>\n",
       "      <td>1519496999999</td>\n",
       "      <td>0.000090</td>\n",
       "      <td>-2.300000e-05</td>\n",
       "      <td>0.000002</td>\n",
       "      <td>0.000002</td>\n",
       "    </tr>\n",
       "    <tr>\n",
       "      <th>4</th>\n",
       "      <td>1519497000000</td>\n",
       "      <td>1519497059999</td>\n",
       "      <td>0.000001</td>\n",
       "      <td>6.000000e-06</td>\n",
       "      <td>0.000062</td>\n",
       "      <td>-0.000076</td>\n",
       "    </tr>\n",
       "  </tbody>\n",
       "</table>\n",
       "</div>"
      ],
      "text/plain": [
       "       OPEN_TIME     CLOSE_TIME      OPEN          HIGH       LOW     CLOSE\n",
       "0  1519496760000  1519496819999       NaN           NaN       NaN       NaN\n",
       "1  1519496820000  1519496879999 -0.000068  0.000000e+00  0.000041 -0.000024\n",
       "2  1519496880000  1519496939999 -0.000025 -1.000000e-06 -0.000048  0.000089\n",
       "3  1519496940000  1519496999999  0.000090 -2.300000e-05  0.000002  0.000002\n",
       "4  1519497000000  1519497059999  0.000001  6.000000e-06  0.000062 -0.000076"
      ]
     },
     "execution_count": 12,
     "metadata": {},
     "output_type": "execute_result"
    }
   ],
   "source": [
    "data = df.loc[:, ['OPEN_TIME', 'CLOSE_TIME', 'OPEN', 'HIGH', 'LOW', 'CLOSE']]\n",
    "data.loc[:, ['OPEN', 'HIGH', 'LOW', 'CLOSE']] = data.loc[:, ['OPEN', 'HIGH', 'LOW', 'CLOSE']].diff()\n",
    "data.shape\n",
    "data[:5]"
   ]
  },
  {
   "cell_type": "code",
   "execution_count": 13,
   "metadata": {
    "ExecuteTime": {
     "end_time": "2019-02-23T20:39:53.564267Z",
     "start_time": "2019-02-23T20:39:52.488729Z"
    }
   },
   "outputs": [
    {
     "data": {
      "text/plain": [
       "(499999, 2)"
      ]
     },
     "execution_count": 13,
     "metadata": {},
     "output_type": "execute_result"
    },
    {
     "data": {
      "text/html": [
       "<div>\n",
       "<style scoped>\n",
       "    .dataframe tbody tr th:only-of-type {\n",
       "        vertical-align: middle;\n",
       "    }\n",
       "\n",
       "    .dataframe tbody tr th {\n",
       "        vertical-align: top;\n",
       "    }\n",
       "\n",
       "    .dataframe thead th {\n",
       "        text-align: right;\n",
       "    }\n",
       "</style>\n",
       "<table border=\"1\" class=\"dataframe\">\n",
       "  <thead>\n",
       "    <tr style=\"text-align: right;\">\n",
       "      <th></th>\n",
       "      <th>CLOSE_TIME</th>\n",
       "      <th>TARGET</th>\n",
       "    </tr>\n",
       "  </thead>\n",
       "  <tbody>\n",
       "    <tr>\n",
       "      <th>0</th>\n",
       "      <td>1519496819999</td>\n",
       "      <td>1.0</td>\n",
       "    </tr>\n",
       "    <tr>\n",
       "      <th>1</th>\n",
       "      <td>1519496879999</td>\n",
       "      <td>0.0</td>\n",
       "    </tr>\n",
       "    <tr>\n",
       "      <th>2</th>\n",
       "      <td>1519496939999</td>\n",
       "      <td>0.0</td>\n",
       "    </tr>\n",
       "    <tr>\n",
       "      <th>3</th>\n",
       "      <td>1519496999999</td>\n",
       "      <td>1.0</td>\n",
       "    </tr>\n",
       "    <tr>\n",
       "      <th>4</th>\n",
       "      <td>1519497059999</td>\n",
       "      <td>0.0</td>\n",
       "    </tr>\n",
       "  </tbody>\n",
       "</table>\n",
       "</div>"
      ],
      "text/plain": [
       "      CLOSE_TIME  TARGET\n",
       "0  1519496819999     1.0\n",
       "1  1519496879999     0.0\n",
       "2  1519496939999     0.0\n",
       "3  1519496999999     1.0\n",
       "4  1519497059999     0.0"
      ]
     },
     "execution_count": 13,
     "metadata": {},
     "output_type": "execute_result"
    }
   ],
   "source": [
    "# Get Target\n",
    "%run targets.ipynb\n",
    "target = get_target_1('../data/'+file)\n",
    "target.shape\n",
    "target.head()"
   ]
  },
  {
   "cell_type": "code",
   "execution_count": 14,
   "metadata": {
    "ExecuteTime": {
     "end_time": "2019-02-23T20:39:54.048437Z",
     "start_time": "2019-02-23T20:39:53.790883Z"
    }
   },
   "outputs": [
    {
     "data": {
      "text/plain": [
       "(499999, 7)"
      ]
     },
     "execution_count": 14,
     "metadata": {},
     "output_type": "execute_result"
    },
    {
     "data": {
      "text/html": [
       "<div>\n",
       "<style scoped>\n",
       "    .dataframe tbody tr th:only-of-type {\n",
       "        vertical-align: middle;\n",
       "    }\n",
       "\n",
       "    .dataframe tbody tr th {\n",
       "        vertical-align: top;\n",
       "    }\n",
       "\n",
       "    .dataframe thead th {\n",
       "        text-align: right;\n",
       "    }\n",
       "</style>\n",
       "<table border=\"1\" class=\"dataframe\">\n",
       "  <thead>\n",
       "    <tr style=\"text-align: right;\">\n",
       "      <th></th>\n",
       "      <th>OPEN_TIME</th>\n",
       "      <th>CLOSE_TIME</th>\n",
       "      <th>OPEN</th>\n",
       "      <th>HIGH</th>\n",
       "      <th>LOW</th>\n",
       "      <th>CLOSE</th>\n",
       "      <th>TARGET</th>\n",
       "    </tr>\n",
       "  </thead>\n",
       "  <tbody>\n",
       "    <tr>\n",
       "      <th>1</th>\n",
       "      <td>1519496820000</td>\n",
       "      <td>1519496879999</td>\n",
       "      <td>-0.000068</td>\n",
       "      <td>0.000000e+00</td>\n",
       "      <td>0.000041</td>\n",
       "      <td>-0.000024</td>\n",
       "      <td>0.0</td>\n",
       "    </tr>\n",
       "    <tr>\n",
       "      <th>2</th>\n",
       "      <td>1519496880000</td>\n",
       "      <td>1519496939999</td>\n",
       "      <td>-0.000025</td>\n",
       "      <td>-1.000000e-06</td>\n",
       "      <td>-0.000048</td>\n",
       "      <td>0.000089</td>\n",
       "      <td>0.0</td>\n",
       "    </tr>\n",
       "    <tr>\n",
       "      <th>3</th>\n",
       "      <td>1519496940000</td>\n",
       "      <td>1519496999999</td>\n",
       "      <td>0.000090</td>\n",
       "      <td>-2.300000e-05</td>\n",
       "      <td>0.000002</td>\n",
       "      <td>0.000002</td>\n",
       "      <td>1.0</td>\n",
       "    </tr>\n",
       "    <tr>\n",
       "      <th>4</th>\n",
       "      <td>1519497000000</td>\n",
       "      <td>1519497059999</td>\n",
       "      <td>0.000001</td>\n",
       "      <td>6.000000e-06</td>\n",
       "      <td>0.000062</td>\n",
       "      <td>-0.000076</td>\n",
       "      <td>0.0</td>\n",
       "    </tr>\n",
       "    <tr>\n",
       "      <th>5</th>\n",
       "      <td>1519497060000</td>\n",
       "      <td>1519497119999</td>\n",
       "      <td>-0.000073</td>\n",
       "      <td>3.000000e-06</td>\n",
       "      <td>0.000000</td>\n",
       "      <td>0.000081</td>\n",
       "      <td>1.0</td>\n",
       "    </tr>\n",
       "  </tbody>\n",
       "</table>\n",
       "</div>"
      ],
      "text/plain": [
       "       OPEN_TIME     CLOSE_TIME      OPEN          HIGH       LOW     CLOSE  \\\n",
       "1  1519496820000  1519496879999 -0.000068  0.000000e+00  0.000041 -0.000024   \n",
       "2  1519496880000  1519496939999 -0.000025 -1.000000e-06 -0.000048  0.000089   \n",
       "3  1519496940000  1519496999999  0.000090 -2.300000e-05  0.000002  0.000002   \n",
       "4  1519497000000  1519497059999  0.000001  6.000000e-06  0.000062 -0.000076   \n",
       "5  1519497060000  1519497119999 -0.000073  3.000000e-06  0.000000  0.000081   \n",
       "\n",
       "   TARGET  \n",
       "1     0.0  \n",
       "2     0.0  \n",
       "3     1.0  \n",
       "4     0.0  \n",
       "5     1.0  "
      ]
     },
     "execution_count": 14,
     "metadata": {},
     "output_type": "execute_result"
    }
   ],
   "source": [
    "data = pd.merge(data, target, on='CLOSE_TIME')\n",
    "data.shape\n",
    "data = data.iloc[1:]\n",
    "data.head()"
   ]
  },
  {
   "cell_type": "code",
   "execution_count": 15,
   "metadata": {
    "ExecuteTime": {
     "end_time": "2019-02-23T20:39:56.213126Z",
     "start_time": "2019-02-23T20:39:56.176015Z"
    }
   },
   "outputs": [
    {
     "data": {
      "text/plain": [
       "(399998, 7)"
      ]
     },
     "execution_count": 15,
     "metadata": {},
     "output_type": "execute_result"
    },
    {
     "data": {
      "text/plain": [
       "(0, 7)"
      ]
     },
     "execution_count": 15,
     "metadata": {},
     "output_type": "execute_result"
    },
    {
     "data": {
      "text/plain": [
       "(100000, 7)"
      ]
     },
     "execution_count": 15,
     "metadata": {},
     "output_type": "execute_result"
    },
    {
     "data": {
      "text/html": [
       "<div>\n",
       "<style scoped>\n",
       "    .dataframe tbody tr th:only-of-type {\n",
       "        vertical-align: middle;\n",
       "    }\n",
       "\n",
       "    .dataframe tbody tr th {\n",
       "        vertical-align: top;\n",
       "    }\n",
       "\n",
       "    .dataframe thead th {\n",
       "        text-align: right;\n",
       "    }\n",
       "</style>\n",
       "<table border=\"1\" class=\"dataframe\">\n",
       "  <thead>\n",
       "    <tr style=\"text-align: right;\">\n",
       "      <th></th>\n",
       "      <th>OPEN_TIME</th>\n",
       "      <th>CLOSE_TIME</th>\n",
       "      <th>OPEN</th>\n",
       "      <th>HIGH</th>\n",
       "      <th>LOW</th>\n",
       "      <th>CLOSE</th>\n",
       "      <th>TARGET</th>\n",
       "    </tr>\n",
       "  </thead>\n",
       "  <tbody>\n",
       "    <tr>\n",
       "      <th>1</th>\n",
       "      <td>1519496820000</td>\n",
       "      <td>1519496879999</td>\n",
       "      <td>-0.000068</td>\n",
       "      <td>0.000000e+00</td>\n",
       "      <td>0.000041</td>\n",
       "      <td>-0.000024</td>\n",
       "      <td>0.0</td>\n",
       "    </tr>\n",
       "    <tr>\n",
       "      <th>2</th>\n",
       "      <td>1519496880000</td>\n",
       "      <td>1519496939999</td>\n",
       "      <td>-0.000025</td>\n",
       "      <td>-1.000000e-06</td>\n",
       "      <td>-0.000048</td>\n",
       "      <td>0.000089</td>\n",
       "      <td>0.0</td>\n",
       "    </tr>\n",
       "    <tr>\n",
       "      <th>3</th>\n",
       "      <td>1519496940000</td>\n",
       "      <td>1519496999999</td>\n",
       "      <td>0.000090</td>\n",
       "      <td>-2.300000e-05</td>\n",
       "      <td>0.000002</td>\n",
       "      <td>0.000002</td>\n",
       "      <td>1.0</td>\n",
       "    </tr>\n",
       "    <tr>\n",
       "      <th>4</th>\n",
       "      <td>1519497000000</td>\n",
       "      <td>1519497059999</td>\n",
       "      <td>0.000001</td>\n",
       "      <td>6.000000e-06</td>\n",
       "      <td>0.000062</td>\n",
       "      <td>-0.000076</td>\n",
       "      <td>0.0</td>\n",
       "    </tr>\n",
       "    <tr>\n",
       "      <th>5</th>\n",
       "      <td>1519497060000</td>\n",
       "      <td>1519497119999</td>\n",
       "      <td>-0.000073</td>\n",
       "      <td>3.000000e-06</td>\n",
       "      <td>0.000000</td>\n",
       "      <td>0.000081</td>\n",
       "      <td>1.0</td>\n",
       "    </tr>\n",
       "  </tbody>\n",
       "</table>\n",
       "</div>"
      ],
      "text/plain": [
       "       OPEN_TIME     CLOSE_TIME      OPEN          HIGH       LOW     CLOSE  \\\n",
       "1  1519496820000  1519496879999 -0.000068  0.000000e+00  0.000041 -0.000024   \n",
       "2  1519496880000  1519496939999 -0.000025 -1.000000e-06 -0.000048  0.000089   \n",
       "3  1519496940000  1519496999999  0.000090 -2.300000e-05  0.000002  0.000002   \n",
       "4  1519497000000  1519497059999  0.000001  6.000000e-06  0.000062 -0.000076   \n",
       "5  1519497060000  1519497119999 -0.000073  3.000000e-06  0.000000  0.000081   \n",
       "\n",
       "   TARGET  \n",
       "1     0.0  \n",
       "2     0.0  \n",
       "3     1.0  \n",
       "4     0.0  \n",
       "5     1.0  "
      ]
     },
     "execution_count": 15,
     "metadata": {},
     "output_type": "execute_result"
    }
   ],
   "source": [
    "TR_split, CV_split, TT_split = TR_CV_TT_split(data, 0.8, 0, 0.2)\n",
    "\n",
    "TR_split.shape\n",
    "CV_split.shape\n",
    "TT_split.shape\n",
    "\n",
    "TR_split.head()"
   ]
  },
  {
   "cell_type": "code",
   "execution_count": 16,
   "metadata": {
    "ExecuteTime": {
     "end_time": "2019-02-23T20:40:00.460083Z",
     "start_time": "2019-02-23T20:40:00.060166Z"
    },
    "collapsed": true
   },
   "outputs": [],
   "source": [
    "from sklearn.preprocessing import StandardScaler\n",
    "\n",
    "scaler = StandardScaler(copy=True, with_mean=True, with_std=True)\n",
    "window = 30\n",
    "def data_transformer(id, data, target, retrain=False):\n",
    "    global scaler\n",
    "    global window\n",
    "    \n",
    "    if retrain==True:\n",
    "        scaler = scaler.fit(data)\n",
    "        \n",
    "    data = scaler.transform(data)\n",
    "    return get_multiple_ts_dataset(id, data, target, tr_win=window, tt_win=0, point_target=True)"
   ]
  },
  {
   "cell_type": "code",
   "execution_count": 17,
   "metadata": {
    "ExecuteTime": {
     "end_time": "2019-02-23T20:40:02.186795Z",
     "start_time": "2019-02-23T20:40:02.141914Z"
    }
   },
   "outputs": [
    {
     "data": {
      "text/plain": [
       "(399998, 2)"
      ]
     },
     "execution_count": 17,
     "metadata": {},
     "output_type": "execute_result"
    },
    {
     "data": {
      "text/plain": [
       "(399998, 4)"
      ]
     },
     "execution_count": 17,
     "metadata": {},
     "output_type": "execute_result"
    },
    {
     "data": {
      "text/plain": [
       "(399998, 1)"
      ]
     },
     "execution_count": 17,
     "metadata": {},
     "output_type": "execute_result"
    },
    {
     "data": {
      "text/plain": [
       "(100000, 2)"
      ]
     },
     "execution_count": 17,
     "metadata": {},
     "output_type": "execute_result"
    },
    {
     "data": {
      "text/plain": [
       "(100000, 4)"
      ]
     },
     "execution_count": 17,
     "metadata": {},
     "output_type": "execute_result"
    },
    {
     "data": {
      "text/plain": [
       "(100000, 1)"
      ]
     },
     "execution_count": 17,
     "metadata": {},
     "output_type": "execute_result"
    }
   ],
   "source": [
    "TR_id     = TR_split.iloc[:, :2  ].values\n",
    "TR_data   = TR_split.iloc[:, 2:-1].values\n",
    "TR_target = TR_split.iloc[:, -1: ].values\n",
    "\n",
    "TT_id     = TT_split.iloc[:, :2  ].values\n",
    "TT_data   = TT_split.iloc[:, 2:-1].values\n",
    "TT_target = TT_split.iloc[:, -1: ].values\n",
    "\n",
    "TR_id.shape\n",
    "TR_data.shape\n",
    "TR_target.shape\n",
    "\n",
    "TT_id.shape\n",
    "TT_data.shape\n",
    "TT_target.shape"
   ]
  },
  {
   "cell_type": "code",
   "execution_count": 18,
   "metadata": {
    "ExecuteTime": {
     "end_time": "2019-02-23T20:40:06.922126Z",
     "start_time": "2019-02-23T20:40:05.420691Z"
    },
    "collapsed": true
   },
   "outputs": [],
   "source": [
    "%run hyperopt.ipynb\n",
    "%run models.ipynb"
   ]
  },
  {
   "cell_type": "code",
   "execution_count": 19,
   "metadata": {
    "ExecuteTime": {
     "end_time": "2019-02-23T20:45:39.423474Z",
     "start_time": "2019-02-23T20:40:08.801210Z"
    },
    "scrolled": false
   },
   "outputs": [
    {
     "name": "stdout",
     "output_type": "stream",
     "text": [
      "Hyperopt Iteration : 1\n",
      "{'penalty': 'l2', 'C': 3, 'solver': 'sag'}\n"
     ]
    },
    {
     "name": "stderr",
     "output_type": "stream",
     "text": [
      "/Library/Frameworks/Python.framework/Versions/2.7/lib/python2.7/site-packages/sklearn/utils/validation.py:761: DataConversionWarning: A column-vector y was passed when a 1d array was expected. Please change the shape of y to (n_samples, ), for example using ravel().\n",
      "  y = column_or_1d(y, warn=True)\n",
      "[Parallel(n_jobs=-1)]: Using backend ThreadingBackend with 4 concurrent workers.\n"
     ]
    },
    {
     "name": "stdout",
     "output_type": "stream",
     "text": [
      "max_iter reached after 42 seconds\n"
     ]
    },
    {
     "name": "stderr",
     "output_type": "stream",
     "text": [
      "/Library/Frameworks/Python.framework/Versions/2.7/lib/python2.7/site-packages/sklearn/linear_model/sag.py:334: ConvergenceWarning: The max_iter was reached which means the coef_ did not converge\n",
      "  \"the coef_ did not converge\", ConvergenceWarning)\n",
      "[Parallel(n_jobs=-1)]: Done   1 out of   1 | elapsed:   41.5s finished\n"
     ]
    },
    {
     "name": "stdout",
     "output_type": "stream",
     "text": [
      "('CV_fold : ', 0, 44.770813941955566)\n",
      "         acc       auc        f1   log_loss\n",
      "TT  0.516960  0.501834  0.062949  16.683626\n",
      "TR  0.526735  0.510526  0.210059  16.346050\n",
      "CV  0.518723  0.504753  0.136636  16.622754\n"
     ]
    },
    {
     "name": "stderr",
     "output_type": "stream",
     "text": [
      "[Parallel(n_jobs=-1)]: Using backend ThreadingBackend with 4 concurrent workers.\n"
     ]
    },
    {
     "name": "stdout",
     "output_type": "stream",
     "text": [
      "max_iter reached after 51 seconds\n"
     ]
    },
    {
     "name": "stderr",
     "output_type": "stream",
     "text": [
      "[Parallel(n_jobs=-1)]: Done   1 out of   1 | elapsed:   50.9s finished\n"
     ]
    },
    {
     "name": "stdout",
     "output_type": "stream",
     "text": [
      "('CV_fold : ', 1, 54.32316184043884)\n",
      "         acc       auc        f1   log_loss\n",
      "TT  0.516950  0.501835  0.063529  16.683971\n",
      "TR  0.525366  0.509484  0.197080  16.393308\n",
      "CV  0.517372  0.499940  0.062600  16.669393\n"
     ]
    },
    {
     "name": "stderr",
     "output_type": "stream",
     "text": [
      "[Parallel(n_jobs=-1)]: Using backend ThreadingBackend with 4 concurrent workers.\n"
     ]
    },
    {
     "name": "stdout",
     "output_type": "stream",
     "text": [
      "max_iter reached after 60 seconds\n"
     ]
    },
    {
     "name": "stderr",
     "output_type": "stream",
     "text": [
      "[Parallel(n_jobs=-1)]: Done   1 out of   1 | elapsed:  1.0min finished\n"
     ]
    },
    {
     "name": "stdout",
     "output_type": "stream",
     "text": [
      "('CV_fold : ', 2, 63.858532190322876)\n",
      "         acc       auc        f1   log_loss\n",
      "TT  0.516990  0.501745  0.056249  16.682588\n",
      "TR  0.523998  0.507557  0.168423  16.440567\n",
      "CV  0.526452  0.500130  0.034649  16.355774\n",
      "Hyperopt Iteration : 2\n",
      "{'penalty': 'l2', 'C': 10, 'solver': 'sag'}\n"
     ]
    },
    {
     "name": "stderr",
     "output_type": "stream",
     "text": [
      "[Parallel(n_jobs=-1)]: Using backend ThreadingBackend with 4 concurrent workers.\n"
     ]
    },
    {
     "name": "stdout",
     "output_type": "stream",
     "text": [
      "max_iter reached after 41 seconds\n"
     ]
    },
    {
     "name": "stderr",
     "output_type": "stream",
     "text": [
      "[Parallel(n_jobs=-1)]: Done   1 out of   1 | elapsed:   40.4s finished\n"
     ]
    },
    {
     "name": "stdout",
     "output_type": "stream",
     "text": [
      "('CV_fold : ', 0, 43.036048889160156)\n",
      "         acc       auc        f1   log_loss\n",
      "TT  0.516960  0.501834  0.062949  16.683626\n",
      "TR  0.526735  0.510526  0.210059  16.346050\n",
      "CV  0.518723  0.504753  0.136636  16.622754\n"
     ]
    },
    {
     "name": "stderr",
     "output_type": "stream",
     "text": [
      "[Parallel(n_jobs=-1)]: Using backend ThreadingBackend with 4 concurrent workers.\n"
     ]
    },
    {
     "name": "stdout",
     "output_type": "stream",
     "text": [
      "max_iter reached after 57 seconds\n"
     ]
    },
    {
     "name": "stderr",
     "output_type": "stream",
     "text": [
      "[Parallel(n_jobs=-1)]: Done   1 out of   1 | elapsed:   56.9s finished\n"
     ]
    },
    {
     "name": "stdout",
     "output_type": "stream",
     "text": [
      "('CV_fold : ', 1, 60.049317836761475)\n",
      "         acc       auc        f1   log_loss\n",
      "TT  0.516940  0.501824  0.063491  16.684317\n",
      "TR  0.525370  0.509487  0.197082  16.393191\n",
      "CV  0.517391  0.499958  0.062602  16.668745\n"
     ]
    },
    {
     "name": "stderr",
     "output_type": "stream",
     "text": [
      "[Parallel(n_jobs=-1)]: Using backend ThreadingBackend with 4 concurrent workers.\n"
     ]
    },
    {
     "name": "stdout",
     "output_type": "stream",
     "text": [
      "max_iter reached after 61 seconds\n"
     ]
    },
    {
     "name": "stderr",
     "output_type": "stream",
     "text": [
      "[Parallel(n_jobs=-1)]: Done   1 out of   1 | elapsed:  1.0min finished\n"
     ]
    },
    {
     "name": "stdout",
     "output_type": "stream",
     "text": [
      "('CV_fold : ', 2, 64.46070194244385)\n",
      "         acc       auc        f1   log_loss\n",
      "TT  0.516990  0.501745  0.056249  16.682588\n",
      "TR  0.523992  0.507551  0.168405  16.440766\n",
      "CV  0.526433  0.500112  0.034648  16.356422\n"
     ]
    }
   ],
   "source": [
    "hyperopt = Hyperopt(LR())\n",
    "best_loss, best_params = hyperopt.run(\n",
    "    TR_id, TR_data, TR_target, \n",
    "    eval_set={\n",
    "        'TT': (TT_id, TT_data, TT_target)\n",
    "    },\n",
    "    n_cv=3,\n",
    "    algo='grid',\n",
    "    data_transformer=data_transformer,\n",
    "    max_evals=1\n",
    ")"
   ]
  },
  {
   "cell_type": "code",
   "execution_count": 20,
   "metadata": {
    "ExecuteTime": {
     "end_time": "2019-02-23T20:47:40.459446Z",
     "start_time": "2019-02-23T20:46:27.228513Z"
    },
    "scrolled": false
   },
   "outputs": [
    {
     "name": "stderr",
     "output_type": "stream",
     "text": [
      "[Parallel(n_jobs=-1)]: Using backend ThreadingBackend with 4 concurrent workers.\n"
     ]
    },
    {
     "name": "stdout",
     "output_type": "stream",
     "text": [
      "max_iter reached after 70 seconds\n"
     ]
    },
    {
     "name": "stderr",
     "output_type": "stream",
     "text": [
      "[Parallel(n_jobs=-1)]: Done   1 out of   1 | elapsed:  1.2min finished\n"
     ]
    },
    {
     "name": "stdout",
     "output_type": "stream",
     "text": [
      "         acc       auc        f1   log_loss\n",
      "TR  0.524218  0.506241  0.140587  16.432952\n",
      "TT  0.517010  0.501638  0.049002  16.681895\n"
     ]
    }
   ],
   "source": [
    "from sklearn.linear_model import LogisticRegression\n",
    "\n",
    "TR_id, TR_X, TR_y = data_transformer(TR_id, TR_data, TR_target, retrain=True)\n",
    "TT_id, TT_X, TT_y = data_transformer(TT_id, TT_data, TT_target, retrain=False)\n",
    "\n",
    "model = LogisticRegression(**best_params)\n",
    "model = model.fit(TR_X, TR_y)\n",
    "\n",
    "TR_y_pred = model.predict_proba(TR_X)[:, 1]\n",
    "TT_y_pred = model.predict_proba(TT_X)[:, 1]\n",
    "\n",
    "TR_metrics = eval_class_metrics(TR_y, TR_y_pred, metrics=['auc', 'f1', 'acc', 'log_loss'])\n",
    "TT_metrics = eval_class_metrics(TT_y, TT_y_pred, metrics=['auc', 'f1', 'acc', 'log_loss'])\n",
    "\n",
    "res = pd.DataFrame({x:[] for x in ['auc', 'f1', 'acc', 'log_loss']})\n",
    "res = res.append(pd.Series(TR_metrics, name='TR'))\n",
    "res = res.append(pd.Series(TT_metrics, name='TT'))\n",
    "\n",
    "print(res)"
   ]
  },
  {
   "cell_type": "code",
   "execution_count": 21,
   "metadata": {
    "ExecuteTime": {
     "end_time": "2019-02-23T20:48:22.853398Z",
     "start_time": "2019-02-23T20:48:22.843974Z"
    }
   },
   "outputs": [
    {
     "data": {
      "application/javascript": [
       "IPython.notebook.kernel.execute('nb_name = \"' + IPython.notebook.notebook_name + '\"')"
      ],
      "text/plain": [
       "<IPython.core.display.Javascript object>"
      ]
     },
     "metadata": {},
     "output_type": "display_data"
    }
   ],
   "source": [
    "%%javascript\n",
    "IPython.notebook.kernel.execute('nb_name = \"' + IPython.notebook.notebook_name + '\"')"
   ]
  },
  {
   "cell_type": "code",
   "execution_count": 22,
   "metadata": {
    "ExecuteTime": {
     "end_time": "2019-02-23T20:48:24.017951Z",
     "start_time": "2019-02-23T20:48:23.817322Z"
    },
    "collapsed": true
   },
   "outputs": [],
   "source": [
    "data_tag = '__'.join([str(x)+'_'+str(y) for x, y in {\n",
    "    'intv':'1m', \n",
    "    'cols':'OHCL',\n",
    "    'win':window\n",
    "}.iteritems()])\n",
    "\n",
    "proc_tag = '__'.join([str(x)+'_'+str(y) for x, y in {\n",
    "    'model': nb_name.replace('.ipynb', ''),\n",
    "    'TT_accuracy':'{:.4f}'.format(TT_metrics['acc']),\n",
    "    'CV_accuracy':'{:.4f}'.format(best_loss)\n",
    "}.iteritems()])\n",
    "\n",
    "import time\n",
    "time_tag = time.strftime('%y%m%d_%H%M%S')\n",
    "\n",
    "big_tag = time_tag+'_|_'+data_tag+'_|_'+proc_tag\n",
    "\n",
    "data_dump = {\n",
    "    'best_loss': best_loss,\n",
    "    'best_params': best_params,\n",
    "    'model': model,\n",
    "    'TR_id': TR_id,\n",
    "    'TR_y_pred': TR_y_pred,\n",
    "    'TT_id': TT_id,\n",
    "    'TT_y_pred': TT_y_pred,\n",
    "    'results': res\n",
    "}\n",
    "\n",
    "f = open('../models/'+time_tag+'.pkl', 'wb')\n",
    "pkl.dump(data_dump, f, -1)\n",
    "f.close()\n",
    "\n",
    "%notebook -e ../models/{big_tag}.ipynb"
   ]
  },
  {
   "cell_type": "code",
   "execution_count": null,
   "metadata": {
    "collapsed": true
   },
   "outputs": [],
   "source": []
  }
 ],
 "metadata": {
  "_draft": {
   "nbviewer_url": "https://gist.github.com/9e0e96b406b4b4d69c9a4ae27d55ee3c"
  },
  "gist": {
   "data": {
    "description": "model_run",
    "public": false
   },
   "id": "9e0e96b406b4b4d69c9a4ae27d55ee3c"
  },
  "kernelspec": {
   "display_name": "Python 2",
   "language": "python",
   "name": "python2"
  },
  "language_info": {
   "codemirror_mode": {
    "name": "ipython",
    "version": 2
   },
   "file_extension": ".py",
   "mimetype": "text/x-python",
   "name": "python",
   "nbconvert_exporter": "python",
   "pygments_lexer": "ipython2",
   "version": "2.7.13"
  },
  "varInspector": {
   "cols": {
    "lenName": 16,
    "lenType": 16,
    "lenVar": 40
   },
   "kernels_config": {
    "python": {
     "delete_cmd_postfix": "",
     "delete_cmd_prefix": "del ",
     "library": "var_list.py",
     "varRefreshCmd": "print(var_dic_list())"
    },
    "r": {
     "delete_cmd_postfix": ") ",
     "delete_cmd_prefix": "rm(",
     "library": "var_list.r",
     "varRefreshCmd": "cat(var_dic_list()) "
    }
   },
   "types_to_exclude": [
    "module",
    "function",
    "builtin_function_or_method",
    "instance",
    "_Feature"
   ],
   "window_display": false
  }
 },
 "nbformat": 4,
 "nbformat_minor": 2
}
